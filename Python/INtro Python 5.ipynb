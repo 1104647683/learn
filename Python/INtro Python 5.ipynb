{
 "cells": [
  {
   "cell_type": "code",
   "execution_count": 1,
   "metadata": {},
   "outputs": [],
   "source": [
    "# Function"
   ]
  },
  {
   "cell_type": "code",
   "execution_count": 2,
   "metadata": {},
   "outputs": [],
   "source": [
    "def function_name(parameters):\n",
    "        \"\"\"docstring\"\"\"\n",
    "        statement(s)"
   ]
  },
  {
   "cell_type": "code",
   "execution_count": 3,
   "metadata": {},
   "outputs": [
    {
     "name": "stdout",
     "output_type": "stream",
     "text": [
      "Hello, Emma.Good morning!\n"
     ]
    }
   ],
   "source": [
    "name = \"Emma\"\n",
    "\n",
    "def greet(name):\n",
    "        \"\"\"This function greets to\n",
    "        the person passed in as \n",
    "        parameter\"\"\"\n",
    "        print(\"Hello, \" + name + \".Good morning!\")\n",
    "        \n",
    "greet(name)"
   ]
  },
  {
   "cell_type": "code",
   "execution_count": 5,
   "metadata": {},
   "outputs": [
    {
     "name": "stdout",
     "output_type": "stream",
     "text": [
      "This function greets to\n",
      "        the person passed in as \n",
      "        parameter\n"
     ]
    }
   ],
   "source": [
    "print(greet.__doc__)"
   ]
  },
  {
   "cell_type": "code",
   "execution_count": 7,
   "metadata": {},
   "outputs": [],
   "source": [
    "# return [expression_list]"
   ]
  },
  {
   "cell_type": "code",
   "execution_count": 8,
   "metadata": {},
   "outputs": [
    {
     "name": "stdout",
     "output_type": "stream",
     "text": [
      "Hello, May.Good morning!\n",
      "None\n"
     ]
    }
   ],
   "source": [
    "print(greet(\"May\"))"
   ]
  },
  {
   "cell_type": "code",
   "execution_count": 9,
   "metadata": {},
   "outputs": [
    {
     "name": "stdout",
     "output_type": "stream",
     "text": [
      "2\n",
      "4\n"
     ]
    }
   ],
   "source": [
    "def absolute_value(num):\n",
    "        \"\"\"This function returns the absolute \n",
    "        value of the entered number\"\"\"\n",
    "        \n",
    "        if num >= 0:\n",
    "                return num\n",
    "        else:\n",
    "                return -num\n",
    "    \n",
    "print(absolute_value(2))\n",
    "print(absolute_value(-4))"
   ]
  },
  {
   "cell_type": "code",
   "execution_count": 10,
   "metadata": {},
   "outputs": [
    {
     "name": "stdout",
     "output_type": "stream",
     "text": [
      "Value inside function: 10\n",
      "Value outside function: 20\n"
     ]
    }
   ],
   "source": [
    "def my_func():\n",
    "        x = 10\n",
    "        print(\"Value inside function:\",x)\n",
    "        \n",
    "x = 20\n",
    "my_func()\n",
    "print('Value outside function:',x)"
   ]
  },
  {
   "cell_type": "code",
   "execution_count": 11,
   "metadata": {},
   "outputs": [
    {
     "name": "stdout",
     "output_type": "stream",
     "text": [
      "Hello Monica, Good morning!\n"
     ]
    }
   ],
   "source": [
    "# two parameters\n",
    "def greet(name,msg):\n",
    "        \"\"\"This function greets to \n",
    "        the person with the provided message\"\"\"\n",
    "        print(\"Hello\",name + ', '+ msg)\n",
    "        \n",
    "greet(\"Monica\",\"Good morning!\")"
   ]
  },
  {
   "cell_type": "code",
   "execution_count": 12,
   "metadata": {},
   "outputs": [
    {
     "name": "stdout",
     "output_type": "stream",
     "text": [
      "Hello Kate, Good morning!\n",
      "Hello Bruce, How do you do?\n"
     ]
    }
   ],
   "source": [
    "def greet(name, msg = \"Good morning!\"):\n",
    "   \"\"\"\n",
    "   This function greets to\n",
    "   the person with the\n",
    "   provided message.\n",
    "\n",
    "   If message is not provided,\n",
    "   it defaults to \"Good\n",
    "   morning!\"\n",
    "   \"\"\"\n",
    "\n",
    "   print(\"Hello\",name + ', ' + msg)\n",
    "\n",
    "greet(\"Kate\")\n",
    "greet(\"Bruce\",\"How do you do?\")"
   ]
  },
  {
   "cell_type": "code",
   "execution_count": 13,
   "metadata": {},
   "outputs": [
    {
     "name": "stdout",
     "output_type": "stream",
     "text": [
      "Hello Bruce, How do you do?\n",
      "Hello Bruce, How do you do?\n",
      "Hello Bruce, How do you do?\n"
     ]
    }
   ],
   "source": [
    ">>> # 2 keyword arguments\n",
    ">>> greet(name = \"Bruce\",msg = \"How do you do?\")\n",
    "\n",
    ">>> # 2 keyword arguments (out of order)\n",
    ">>> greet(msg = \"How do you do?\",name = \"Bruce\") \n",
    "\n",
    ">>> # 1 positional, 1 keyword argument\n",
    ">>> greet(\"Bruce\",msg = \"How do you do?\") "
   ]
  },
  {
   "cell_type": "code",
   "execution_count": 14,
   "metadata": {},
   "outputs": [
    {
     "name": "stdout",
     "output_type": "stream",
     "text": [
      "Hello Monica\n",
      "Hello Luke\n",
      "Hello Steve\n",
      "Hello John\n"
     ]
    }
   ],
   "source": [
    "def greet(*names):\n",
    "        \"\"\"This function greets all\n",
    "        the person in the names tuple.\"\"\"\n",
    "        \n",
    "        for name in names:\n",
    "            print(\"Hello\",name)\n",
    "            \n",
    "greet(\"Monica\",\"Luke\", \"Steve\", \"John\")"
   ]
  },
  {
   "cell_type": "code",
   "execution_count": 16,
   "metadata": {},
   "outputs": [
    {
     "name": "stdout",
     "output_type": "stream",
     "text": [
      "[2, 4, 10, 20, 5]\n"
     ]
    }
   ],
   "source": [
    "def remove_duplicates(duplicate):\n",
    "        uniques = []\n",
    "        for num in duplicate:\n",
    "            if num not in uniques:\n",
    "                uniques.append(num)\n",
    "        return(uniques)\n",
    "    \n",
    "duplicate = [2, 4, 10, 20, 5, 2, 20, 4]\n",
    "print(remove_duplicates(duplicate))"
   ]
  }
 ],
 "metadata": {
  "kernelspec": {
   "display_name": "Python 3",
   "language": "python",
   "name": "python3"
  },
  "language_info": {
   "codemirror_mode": {
    "name": "ipython",
    "version": 3
   },
   "file_extension": ".py",
   "mimetype": "text/x-python",
   "name": "python",
   "nbconvert_exporter": "python",
   "pygments_lexer": "ipython3",
   "version": "3.7.2"
  }
 },
 "nbformat": 4,
 "nbformat_minor": 4
}
