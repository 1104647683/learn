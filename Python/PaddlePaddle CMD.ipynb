{
 "cells": [
  {
   "cell_type": "code",
   "execution_count": 1,
   "metadata": {},
   "outputs": [],
   "source": [
    "import paddle.fluid as fluid"
   ]
  },
  {
   "cell_type": "code",
   "execution_count": 2,
   "metadata": {},
   "outputs": [],
   "source": [
    "# Define two tensors\n",
    "x1 = fluid.layers.fill_constant(shape=[2, 2], value=1, dtype='int64')\n",
    "x2 = fluid.layers.fill_constant(shape=[2, 2], value=1, dtype='int64')"
   ]
  },
  {
   "cell_type": "code",
   "execution_count": 3,
   "metadata": {},
   "outputs": [],
   "source": [
    "y1 = fluid.layers.sum(x=[x1, x2])"
   ]
  },
  {
   "cell_type": "code",
   "execution_count": 4,
   "metadata": {},
   "outputs": [
    {
     "name": "stderr",
     "output_type": "stream",
     "text": [
      "d:\\python\\python37\\lib\\site-packages\\paddle\\fluid\\executor.py:790: UserWarning: The current program is empty.\n",
      "  warnings.warn(error_info)\n"
     ]
    },
    {
     "data": {
      "text/plain": [
       "[]"
      ]
     },
     "execution_count": 4,
     "metadata": {},
     "output_type": "execute_result"
    }
   ],
   "source": [
    "place = fluid.CPUPlace()\n",
    "exe = fluid.executor.Executor(place)\n",
    "# Initialization parameters\n",
    "exe.run(fluid.default_startup_program())"
   ]
  },
  {
   "cell_type": "code",
   "execution_count": 5,
   "metadata": {},
   "outputs": [
    {
     "name": "stdout",
     "output_type": "stream",
     "text": [
      "[array([[2, 2],\n",
      "       [2, 2]], dtype=int64)]\n"
     ]
    }
   ],
   "source": [
    "result = exe.run(program=fluid.default_main_program(),\n",
    "                 fetch_list=[y1])\n",
    "print(result)"
   ]
  },
  {
   "cell_type": "code",
   "execution_count": 6,
   "metadata": {},
   "outputs": [],
   "source": [
    "import numpy as np"
   ]
  },
  {
   "cell_type": "code",
   "execution_count": 7,
   "metadata": {},
   "outputs": [],
   "source": [
    "a = fluid.layers.create_tensor(dtype='int64', name='a')\n",
    "b = fluid.layers.create_tensor(dtype='int64', name='b')"
   ]
  },
  {
   "cell_type": "code",
   "execution_count": 8,
   "metadata": {},
   "outputs": [],
   "source": [
    "y = fluid.layers.sum(x=[a, b])"
   ]
  },
  {
   "cell_type": "code",
   "execution_count": 9,
   "metadata": {},
   "outputs": [
    {
     "data": {
      "text/plain": [
       "[]"
      ]
     },
     "execution_count": 9,
     "metadata": {},
     "output_type": "execute_result"
    }
   ],
   "source": [
    "place = fluid.CPUPlace()\n",
    "exe = fluid.executor.Executor(place)\n",
    "\n",
    "exe.run(fluid.default_startup_program())"
   ]
  },
  {
   "cell_type": "code",
   "execution_count": 10,
   "metadata": {},
   "outputs": [],
   "source": [
    "a1 = np.array([3, 2]).astype('int64')\n",
    "b1 = np.array([1, 1]).astype('int64')"
   ]
  },
  {
   "cell_type": "code",
   "execution_count": 11,
   "metadata": {},
   "outputs": [
    {
     "name": "stdout",
     "output_type": "stream",
     "text": [
      "[3 2]  +  [1 1]  =  [4 3]\n"
     ]
    }
   ],
   "source": [
    "out_a, out_b, result = exe.run(program=fluid.default_main_program(),\n",
    "                               feed={'a': a1, 'b': b1},\n",
    "                               fetch_list=[a, b, y])\n",
    "print(out_a, \" + \", out_b,\" = \", result)"
   ]
  },
  {
   "cell_type": "code",
   "execution_count": 1,
   "metadata": {},
   "outputs": [],
   "source": [
    "import paddle.fluid as fluid\n",
    "import paddle\n",
    "import numpy as np"
   ]
  },
  {
   "cell_type": "code",
   "execution_count": 2,
   "metadata": {},
   "outputs": [],
   "source": [
    "# Define a linear network\n",
    "x = fluid.layers.data(name='x', shape=[13], dtype='float32')\n",
    "hidden = fluid.layers.fc(input=x, size=100, act='relu')\n",
    "net = fluid.layers.fc(input=hidden, size=1, act=None)"
   ]
  },
  {
   "cell_type": "code",
   "execution_count": 3,
   "metadata": {},
   "outputs": [],
   "source": [
    "# Define loss function\n",
    "y = fluid.layers.data(name='y', shape=[1], dtype='float32')\n",
    "cost = fluid.layers.square_error_cost(input=net, label=y)\n",
    "avg_cost = fluid.layers.mean(cost)"
   ]
  },
  {
   "cell_type": "code",
   "execution_count": 4,
   "metadata": {},
   "outputs": [],
   "source": [
    "# Copy a main program to use easily after\n",
    "test_program = fluid.default_main_program().clone(for_test=True)"
   ]
  },
  {
   "cell_type": "code",
   "execution_count": 5,
   "metadata": {},
   "outputs": [],
   "source": [
    "# Define optimization function\n",
    "optimizer = fluid.optimizer.SGDOptimizer(learning_rate=0.01)\n",
    "opts = optimizer.minimize(avg_cost)"
   ]
  },
  {
   "cell_type": "code",
   "execution_count": 6,
   "metadata": {},
   "outputs": [
    {
     "data": {
      "text/plain": [
       "[]"
      ]
     },
     "execution_count": 6,
     "metadata": {},
     "output_type": "execute_result"
    }
   ],
   "source": [
    "# Creating a CPU usage interpreter\n",
    "place = fluid.CPUPlace()\n",
    "exe = fluid.Executor(place)\n",
    "# Initialization parameters\n",
    "exe.run(fluid.default_startup_program())"
   ]
  },
  {
   "cell_type": "code",
   "execution_count": 7,
   "metadata": {},
   "outputs": [],
   "source": [
    "\n",
    "# Define train set and test set\n",
    "x_data = np.array([[1.0, 0.0, 0.0, 0.0, 0.0, 0.0, 0.0, 0.0, 0.0, 0.0, 0.0, 0.0, 0.0], \n",
    "                   [2.0, 0.0, 0.0, 0.0, 0.0, 0.0, 0.0, 0.0, 0.0, 0.0, 0.0, 0.0, 0.0], \n",
    "                   [3.0, 0.0, 0.0, 0.0, 0.0, 0.0, 0.0, 0.0, 0.0, 0.0, 0.0, 0.0, 0.0], \n",
    "                   [4.0, 0.0, 0.0, 0.0, 0.0, 0.0, 0.0, 0.0, 0.0, 0.0, 0.0, 0.0, 0.0], \n",
    "                   [5.0, 0.0, 0.0, 0.0, 0.0, 0.0, 0.0, 0.0, 0.0, 0.0, 0.0, 0.0, 0.0]]).astype('float32')\n",
    "y_data = np.array([[3.0], [5.0], [7.0], [9.0], [11.0]]).astype('float32')\n",
    "test_data = np.array([[6.0, 0.0, 0.0, 0.0, 0.0, 0.0, 0.0, 0.0, 0.0, 0.0, 0.0, 0.0, 0.0]]).astype('float32')"
   ]
  },
  {
   "cell_type": "code",
   "execution_count": 8,
   "metadata": {},
   "outputs": [
    {
     "name": "stdout",
     "output_type": "stream",
     "text": [
      "Pass:0, Cost:51.36994\n",
      "Pass:1, Cost:21.42953\n",
      "Pass:2, Cost:4.96081\n",
      "Pass:3, Cost:0.23397\n",
      "Pass:4, Cost:0.03320\n",
      "Pass:5, Cost:0.03251\n",
      "Pass:6, Cost:0.03184\n",
      "Pass:7, Cost:0.03120\n",
      "Pass:8, Cost:0.03056\n",
      "Pass:9, Cost:0.02994\n"
     ]
    }
   ],
   "source": [
    "# Train 100 passes\n",
    "for pass_id in range(10):\n",
    "    train_cost = exe.run(program=fluid.default_main_program(),\n",
    "                         feed={'x': x_data, 'y': y_data},\n",
    "                         fetch_list=[avg_cost])\n",
    "    print(\"Pass:%d, Cost:%0.5f\" % (pass_id, train_cost[0]))"
   ]
  },
  {
   "cell_type": "code",
   "execution_count": 9,
   "metadata": {},
   "outputs": [
    {
     "name": "stdout",
     "output_type": "stream",
     "text": [
      "当x为6.0时，y为：13.26532\n"
     ]
    }
   ],
   "source": [
    "result = exe.run(program=test_program,\n",
    "                 feed={'x': test_data, 'y': np.array([[0.0]]).astype('float32')},\n",
    "                 fetch_list=[net])\n",
    "print(\"当x为6.0时，y为：%0.5f\" % result[0][0][0])"
   ]
  }
 ],
 "metadata": {
  "kernelspec": {
   "display_name": "Python 3",
   "language": "python",
   "name": "python3"
  },
  "language_info": {
   "codemirror_mode": {
    "name": "ipython",
    "version": 3
   },
   "file_extension": ".py",
   "mimetype": "text/x-python",
   "name": "python",
   "nbconvert_exporter": "python",
   "pygments_lexer": "ipython3",
   "version": "3.7.2"
  }
 },
 "nbformat": 4,
 "nbformat_minor": 4
}
