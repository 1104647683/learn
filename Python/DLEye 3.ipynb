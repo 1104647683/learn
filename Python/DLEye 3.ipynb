{
 "cells": [
  {
   "cell_type": "code",
   "execution_count": 1,
   "metadata": {},
   "outputs": [
    {
     "data": {
      "text/plain": [
       "True"
      ]
     },
     "execution_count": 1,
     "metadata": {},
     "output_type": "execute_result"
    }
   ],
   "source": [
    "# 默认十进制\n",
    "16 is 0b10000 is 0o20 is 0x10"
   ]
  },
  {
   "cell_type": "code",
   "execution_count": 2,
   "metadata": {},
   "outputs": [
    {
     "name": "stdout",
     "output_type": "stream",
     "text": [
      "0b10000 0o20 0x10\n"
     ]
    }
   ],
   "source": [
    "# 进制转换\n",
    "a = bin(16)\n",
    "b = oct(16)\n",
    "c = hex(16)\n",
    "print(a, b, c)"
   ]
  },
  {
   "cell_type": "code",
   "execution_count": 3,
   "metadata": {},
   "outputs": [
    {
     "data": {
      "text/plain": [
       "False"
      ]
     },
     "execution_count": 3,
     "metadata": {},
     "output_type": "execute_result"
    }
   ],
   "source": [
    "# 是字符串，不相等\n",
    "a is b is c"
   ]
  },
  {
   "cell_type": "code",
   "execution_count": 4,
   "metadata": {},
   "outputs": [
    {
     "data": {
      "text/plain": [
       "str"
      ]
     },
     "execution_count": 4,
     "metadata": {},
     "output_type": "execute_result"
    }
   ],
   "source": [
    "type(a)"
   ]
  },
  {
   "cell_type": "code",
   "execution_count": 5,
   "metadata": {},
   "outputs": [
    {
     "name": "stdout",
     "output_type": "stream",
     "text": [
      "16 16 16\n"
     ]
    }
   ],
   "source": [
    "# 转十进制\n",
    "d = int(a, 2)\n",
    "e = int(b, 8)\n",
    "f = int(c, 16)\n",
    "print(d, e, f)"
   ]
  },
  {
   "cell_type": "code",
   "execution_count": 6,
   "metadata": {},
   "outputs": [
    {
     "data": {
      "text/plain": [
       "False"
      ]
     },
     "execution_count": 6,
     "metadata": {},
     "output_type": "execute_result"
    }
   ],
   "source": [
    "# 浮点数，不确定性\n",
    "(0.1 + 0.2) == 0.3"
   ]
  },
  {
   "cell_type": "code",
   "execution_count": 7,
   "metadata": {},
   "outputs": [
    {
     "data": {
      "text/plain": [
       "0.30000000000000004"
      ]
     },
     "execution_count": 7,
     "metadata": {},
     "output_type": "execute_result"
    }
   ],
   "source": [
    "0.1 + 0.2 # 但一般不影响计算精度"
   ]
  },
  {
   "cell_type": "code",
   "execution_count": 9,
   "metadata": {},
   "outputs": [
    {
     "name": "stdout",
     "output_type": "stream",
     "text": [
      "0.30000000000000004\n",
      "0.3\n"
     ]
    },
    {
     "data": {
      "text/plain": [
       "True"
      ]
     },
     "execution_count": 9,
     "metadata": {},
     "output_type": "execute_result"
    }
   ],
   "source": [
    "# 四舍五入得到精确解\n",
    " \"\"\"\n",
    "     保留位后一位 =5 且没有数字，\n",
    " \n",
    "     则不进位，如(0.5215,2)取0.521；\n",
    "     \n",
    "     若有，则进位，如(0.52151,2)取0.522\n",
    "     \n",
    "     \"\"\"\n",
    "a = 0.1 + 0.2\n",
    "print(a)\n",
    "b = round(a, 1) # 小数点后位数\n",
    "print(b)\n",
    "b == 0.3"
   ]
  },
  {
   "cell_type": "code",
   "execution_count": 11,
   "metadata": {},
   "outputs": [
    {
     "name": "stdout",
     "output_type": "stream",
     "text": [
      "(2+1j)\n",
      "2\n",
      "2.6\n"
     ]
    },
    {
     "data": {
      "text/plain": [
       "3"
      ]
     },
     "execution_count": 11,
     "metadata": {},
     "output_type": "execute_result"
    }
   ],
   "source": [
    "# 复数，虚部为 1 要写出\n",
    "print(2+1j)\n",
    "\n",
    "# 取反 \n",
    "x = 1\n",
    "-x\n",
    "\n",
    "# 乘方\n",
    "2**10\n",
    "\n",
    "# 整数商//，x//y向下取整\n",
    "print(13//5)\n",
    "print(13/5)\n",
    "\n",
    "# 模运算 %\n",
    "13%5"
   ]
  },
  {
   "cell_type": "markdown",
   "metadata": {},
   "source": [
    "*************数字运算操作函数******************"
   ]
  },
  {
   "cell_type": "code",
   "execution_count": 13,
   "metadata": {},
   "outputs": [
    {
     "data": {
      "text/plain": [
       "2.23606797749979"
      ]
     },
     "execution_count": 13,
     "metadata": {},
     "output_type": "execute_result"
    }
   ],
   "source": [
    "# 求绝对值,对虚数是求模\n",
    "abs(1+2j)"
   ]
  },
  {
   "cell_type": "code",
   "execution_count": 14,
   "metadata": {},
   "outputs": [
    {
     "data": {
      "text/plain": [
       "2"
      ]
     },
     "execution_count": 14,
     "metadata": {},
     "output_type": "execute_result"
    }
   ],
   "source": [
    "# 幂次方\n",
    "pow(2, 5) == 2**5\n",
    "pow(2, 5, 3) # 2^5 %3, 求解更快速 "
   ]
  },
  {
   "cell_type": "code",
   "execution_count": 16,
   "metadata": {},
   "outputs": [
    {
     "name": "stdout",
     "output_type": "stream",
     "text": [
      "2\n",
      "2.33\n",
      "2.333\n"
     ]
    }
   ],
   "source": [
    "# 四舍五入\n",
    "a = 2.333\n",
    "print(round(a))\n",
    "print(round(a, 2))\n",
    "print(round(a, 5)) # 他不会补齐"
   ]
  },
  {
   "cell_type": "code",
   "execution_count": 17,
   "metadata": {},
   "outputs": [
    {
     "data": {
      "text/plain": [
       "(2, 3)"
      ]
     },
     "execution_count": 17,
     "metadata": {},
     "output_type": "execute_result"
    }
   ],
   "source": [
    "# 整数商，模运算 divmod(x,y)\n",
    "# 等价于返回二元元组(x//y, x%y)\n",
    "divmod(13, 5)"
   ]
  },
  {
   "cell_type": "code",
   "execution_count": 20,
   "metadata": {},
   "outputs": [
    {
     "name": "stdout",
     "output_type": "stream",
     "text": [
      "44\n"
     ]
    },
    {
     "data": {
      "text/plain": [
       "1"
      ]
     },
     "execution_count": 20,
     "metadata": {},
     "output_type": "execute_result"
    }
   ],
   "source": [
    "# 序列最大值/最小值 max()/ min()\n",
    "a = (1, 2, 3, 4, 5,44, 9) # 列表也行[ 2, 3, 4, 5,44, 9]\n",
    "print(max(a))\n",
    "min(a)"
   ]
  },
  {
   "cell_type": "code",
   "execution_count": 21,
   "metadata": {},
   "outputs": [
    {
     "data": {
      "text/plain": [
       "68"
      ]
     },
     "execution_count": 21,
     "metadata": {},
     "output_type": "execute_result"
    }
   ],
   "source": [
    "# 求和sum(), 不能直接放，要加()或者[]\n",
    "sum((1, 2, 3, 4, 5,44, 9))  "
   ]
  },
  {
   "cell_type": "code",
   "execution_count": 22,
   "metadata": {},
   "outputs": [
    {
     "data": {
      "text/plain": [
       "2.0"
      ]
     },
     "execution_count": 22,
     "metadata": {},
     "output_type": "execute_result"
    }
   ],
   "source": [
    "# 借助科学计算库 math/ scipy/ numpy\n",
    "import math\n",
    "math.exp(1)  # 指数运算\n",
    "math.log2(2) # 对数运算\n",
    "math.sqrt(4) # 开方运算"
   ]
  },
  {
   "cell_type": "code",
   "execution_count": 23,
   "metadata": {},
   "outputs": [
    {
     "data": {
      "text/plain": [
       "14.199741302616202"
      ]
     },
     "execution_count": 23,
     "metadata": {},
     "output_type": "execute_result"
    }
   ],
   "source": [
    "import numpy as np\n",
    "a = [1, 2, 3, 4, 5, 44, 9]\n",
    "np.mean(a)   # 求均值\n",
    "np.median(a) # 求中位数\n",
    "np.std(a)    # 求标准差"
   ]
  },
  {
   "cell_type": "code",
   "execution_count": 24,
   "metadata": {},
   "outputs": [],
   "source": [
    "#############字符串类型#############"
   ]
  },
  {
   "cell_type": "code",
   "execution_count": 26,
   "metadata": {},
   "outputs": [
    {
     "name": "stdout",
     "output_type": "stream",
     "text": [
      "3\n"
     ]
    }
   ],
   "source": [
    "# 转义符\\ 换行\n",
    "print\\\n",
    "(3)"
   ]
  },
  {
   "cell_type": "code",
   "execution_count": 27,
   "metadata": {},
   "outputs": [],
   "source": [
    "# 字符串的性质"
   ]
  },
  {
   "cell_type": "code",
   "execution_count": 28,
   "metadata": {},
   "outputs": [
    {
     "name": "stdout",
     "output_type": "stream",
     "text": [
      "a\n",
      "n\n"
     ]
    }
   ],
   "source": [
    "# 字符串的索引\n",
    "s = \"I am so strong\"\n",
    "\n",
    "print(s[2])\n",
    "print(s[-2])"
   ]
  },
  {
   "cell_type": "code",
   "execution_count": 30,
   "metadata": {},
   "outputs": [
    {
     "name": "stdout",
     "output_type": "stream",
     "text": [
      "Pyt\n",
      "Pyt\n",
      "Pyt\n",
      "Python\n",
      "Python\n"
     ]
    }
   ],
   "source": [
    "# 字符串的切片\n",
    "# 变量名[开始位置： 结束位置： 切片间隔]\n",
    "s = \"Python\"\n",
    "print(s[0: 3: 1])\n",
    "print(s[: 3: 1])\n",
    "print(s[: 3:])\n",
    "print(s[:])     # 开始到最后\n",
    "print(s[-6:])"
   ]
  },
  {
   "cell_type": "code",
   "execution_count": 35,
   "metadata": {},
   "outputs": [
    {
     "name": "stdout",
     "output_type": "stream",
     "text": [
      "987654321\n",
      "987654321\n",
      "987654321\n",
      "98765432\n",
      "9876543\n"
     ]
    }
   ],
   "source": [
    "# 反向切片\n",
    "s = \"123456789\"\n",
    "print(s[-1: -10: -1])\n",
    "print(s[: -10: -1])\n",
    "print(s[::-1])\n",
    "print(s[10: 0: -1])\n",
    "print(s[10: 1: -1])"
   ]
  },
  {
   "cell_type": "code",
   "execution_count": 36,
   "metadata": {},
   "outputs": [
    {
     "name": "stdout",
     "output_type": "stream",
     "text": [
      "Ilove youIlove youIlove you Ilove youIlove youIlove you\n"
     ]
    }
   ],
   "source": [
    "# 字符串的操作符\n",
    "# 拼接\n",
    "a = 'I'\n",
    "b = 'love you'\n",
    "a + b\n",
    "\n",
    "# 复制\n",
    "c = a + b\n",
    "print(3*c, c*3)"
   ]
  },
  {
   "cell_type": "code",
   "execution_count": 38,
   "metadata": {},
   "outputs": [
    {
     "data": {
      "text/plain": [
       "True"
      ]
     },
     "execution_count": 38,
     "metadata": {},
     "output_type": "execute_result"
    }
   ],
   "source": [
    "# 成员运算\n",
    "# 子集 in 全集\n",
    "folk_singers = \"I, you and our baby\"\n",
    "\"baby\" in folk_singers"
   ]
  },
  {
   "cell_type": "code",
   "execution_count": 39,
   "metadata": {},
   "outputs": [
    {
     "data": {
      "text/plain": [
       "False"
      ]
     },
     "execution_count": 39,
     "metadata": {},
     "output_type": "execute_result"
    }
   ],
   "source": [
    "\"IYB\" in folk_singers"
   ]
  },
  {
   "cell_type": "code",
   "execution_count": 42,
   "metadata": {},
   "outputs": [
    {
     "name": "stdout",
     "output_type": "stream",
     "text": [
      "P\n",
      "y\n",
      "t\n",
      "h\n",
      "o\n",
      "n\n"
     ]
    }
   ],
   "source": [
    "# 遍历字符串\n",
    "for s in \"Python\":\n",
    "    print(s)"
   ]
  },
  {
   "cell_type": "code",
   "execution_count": 43,
   "metadata": {},
   "outputs": [
    {
     "data": {
      "text/plain": [
       "6"
      ]
     },
     "execution_count": 43,
     "metadata": {},
     "output_type": "execute_result"
    }
   ],
   "source": [
    "len(\"Python\")"
   ]
  },
  {
   "cell_type": "code",
   "execution_count": 44,
   "metadata": {},
   "outputs": [
    {
     "name": "stdout",
     "output_type": "stream",
     "text": [
      "49\n",
      "97\n",
      "42\n",
      "20013\n",
      "36191\n"
     ]
    }
   ],
   "source": [
    "# 转为字符编码Unicode---ord(字符)\n",
    "print(ord(\"1\"))\n",
    "print(ord(\"a\"))\n",
    "print(ord(\"*\"))\n",
    "print(ord(\"中\"))\n",
    "print(ord(\"赟\"))"
   ]
  },
  {
   "cell_type": "code",
   "execution_count": 45,
   "metadata": {},
   "outputs": [
    {
     "name": "stdout",
     "output_type": "stream",
     "text": [
      "ϲ\n",
      "✐\n",
      "㋈\n",
      "\n"
     ]
    }
   ],
   "source": [
    "# 转Unicode转为字符---chr\n",
    "print(chr(1010))\n",
    "print(chr(10000))\n",
    "print(chr(13000))\n",
    "print(chr(60000))"
   ]
  },
  {
   "cell_type": "code",
   "execution_count": 46,
   "metadata": {},
   "outputs": [],
   "source": [
    "# 字符串的处理方法"
   ]
  },
  {
   "cell_type": "code",
   "execution_count": 48,
   "metadata": {},
   "outputs": [
    {
     "name": "stdout",
     "output_type": "stream",
     "text": [
      "['I', 'love', 'you']\n",
      "I love you\n"
     ]
    }
   ],
   "source": [
    "# 字符串的分割\n",
    "s = \"I love you\"\n",
    "s_list = s.split(\" \")\n",
    "print(s_list)\n",
    "print(s)         # 分割后没变"
   ]
  },
  {
   "cell_type": "code",
   "execution_count": 49,
   "metadata": {},
   "outputs": [
    {
     "data": {
      "text/plain": [
       "'1,2,3,4,5'"
      ]
     },
     "execution_count": 49,
     "metadata": {},
     "output_type": "execute_result"
    }
   ],
   "source": [
    "# 字符串的聚合.join(迭代型，如字符串和列表)\n",
    "s = \"12345\"\n",
    "s_join = \",\".join(s)\n",
    "s_join"
   ]
  },
  {
   "cell_type": "code",
   "execution_count": 50,
   "metadata": {},
   "outputs": [
    {
     "data": {
      "text/plain": [
       "'1*2*3*4*5'"
      ]
     },
     "execution_count": 50,
     "metadata": {},
     "output_type": "execute_result"
    }
   ],
   "source": [
    "# 字符才能聚合\n",
    "# s = [1, 2, 3, 4, 5]不行\n",
    "s = ['1', '2', '3', '4', '5']\n",
    "\"*\".join(s)"
   ]
  },
  {
   "cell_type": "code",
   "execution_count": 51,
   "metadata": {},
   "outputs": [
    {
     "name": "stdout",
     "output_type": "stream",
     "text": [
      "I hate you\n",
      "I hate you    \n",
      "       I hate you\n"
     ]
    }
   ],
   "source": [
    "# 删除两端特定字符\n",
    "s = \"       I hate you    \"\n",
    "print(s.strip(' '))\n",
    "print(s.lstrip(' '))\n",
    "print(s.rstrip(' '))"
   ]
  },
  {
   "cell_type": "code",
   "execution_count": 52,
   "metadata": {},
   "outputs": [
    {
     "name": "stdout",
     "output_type": "stream",
     "text": [
      "I love our baby\n"
     ]
    }
   ],
   "source": [
    "# 字符串的替换\n",
    "s = \"I love you\"\n",
    "print(s.replace(\"you\", \"our baby\"))"
   ]
  },
  {
   "cell_type": "code",
   "execution_count": 54,
   "metadata": {},
   "outputs": [
    {
     "name": "stdout",
     "output_type": "stream",
     "text": [
      "our:  0\n"
     ]
    }
   ],
   "source": [
    "# 字符串统计\n",
    "print(\"our: \", s.count(\"our\"))"
   ]
  },
  {
   "cell_type": "code",
   "execution_count": 56,
   "metadata": {},
   "outputs": [
    {
     "name": "stdout",
     "output_type": "stream",
     "text": [
      "NUMPY\n",
      "numpy\n",
      "Numpy\n"
     ]
    }
   ],
   "source": [
    "# 字符串大小写\n",
    "s = \"numPy\"\n",
    "print(s.upper())\n",
    "print(s.lower())\n",
    "print(s.title()) "
   ]
  },
  {
   "cell_type": "code",
   "execution_count": 57,
   "metadata": {},
   "outputs": [
    {
     "data": {
      "text/plain": [
       "'\"布尔类型'"
      ]
     },
     "execution_count": 57,
     "metadata": {},
     "output_type": "execute_result"
    }
   ],
   "source": [
    "\"\"\"\"\"\"\"\"\"\"布尔类型\"\"\"\"\"\"\"\"\""
   ]
  },
  {
   "cell_type": "code",
   "execution_count": 59,
   "metadata": {},
   "outputs": [
    {
     "name": "stdout",
     "output_type": "stream",
     "text": [
      "True\n",
      "False\n"
     ]
    }
   ],
   "source": [
    "# any() : 任何一个非零\n",
    "# all(): 都非零\n",
    "print(any([False, 1, 0, None]))   # False,0,None都是无\n",
    "print(all([False, 1, 0, None]))"
   ]
  },
  {
   "cell_type": "code",
   "execution_count": 62,
   "metadata": {},
   "outputs": [
    {
     "name": "stdout",
     "output_type": "stream",
     "text": [
      "[[False  True  True  True False]]\n"
     ]
    },
    {
     "data": {
      "text/plain": [
       "array([4, 5])"
      ]
     },
     "execution_count": 62,
     "metadata": {},
     "output_type": "execute_result"
    }
   ],
   "source": [
    "# 可以作为掩码\n",
    "import numpy as np\n",
    "s = np.array([[1, 3, 4, 5, 2]])\n",
    "print(s > 2)\n",
    "s[s > 3]"
   ]
  },
  {
   "cell_type": "code",
   "execution_count": 63,
   "metadata": {},
   "outputs": [],
   "source": [
    "########类型判别&类型转换###########"
   ]
  },
  {
   "cell_type": "code",
   "execution_count": 64,
   "metadata": {},
   "outputs": [],
   "source": [
    "# type()\n",
    "# isinstance(name,object)  判断这个是不是这个类的实例,object是祖类"
   ]
  },
  {
   "cell_type": "code",
   "execution_count": 65,
   "metadata": {},
   "outputs": [],
   "source": [
    "# 字符串检查方法\n",
    "age = \"22\"\n",
    "name = \"Ada\""
   ]
  },
  {
   "cell_type": "code",
   "execution_count": 66,
   "metadata": {},
   "outputs": [
    {
     "name": "stdout",
     "output_type": "stream",
     "text": [
      "True\n",
      "False\n"
     ]
    }
   ],
   "source": [
    "# 判断是否纯数字\n",
    "print(age.isdigit())\n",
    "print(name.isdigit())"
   ]
  },
  {
   "cell_type": "code",
   "execution_count": 67,
   "metadata": {},
   "outputs": [
    {
     "name": "stdout",
     "output_type": "stream",
     "text": [
      "False\n",
      "True\n"
     ]
    }
   ],
   "source": [
    "# 判断是否纯字母\n",
    "print(age.isalpha())\n",
    "print(name.isalpha())"
   ]
  },
  {
   "cell_type": "code",
   "execution_count": 68,
   "metadata": {},
   "outputs": [
    {
     "name": "stdout",
     "output_type": "stream",
     "text": [
      "True\n"
     ]
    }
   ],
   "source": [
    "# 判断只有数字和字母\n",
    "print(age.isalnum())"
   ]
  },
  {
   "cell_type": "code",
   "execution_count": 72,
   "metadata": {},
   "outputs": [
    {
     "name": "stdout",
     "output_type": "stream",
     "text": [
      "My age is 22\n",
      "35\n",
      "35.0\n",
      "18.8\n",
      "18.8\n",
      "18.8\n"
     ]
    }
   ],
   "source": [
    "### 类型转换\n",
    "\n",
    "#数字类型 转 字符串\n",
    "age = 22\n",
    "print(\"My age is \" + str(age))\n",
    "\n",
    "# 纯数字字符 转 数字\n",
    "s1 = \"35\"\n",
    "s2 = \"18.8\"\n",
    "print(int(s1))\n",
    "# print(int(s2)) 非整型不可以\n",
    "print(float(s1))\n",
    "print(float(s2))\n",
    "print(s2)\n",
    "print(eval(s2)) #去除引号"
   ]
  }
 ],
 "metadata": {
  "kernelspec": {
   "display_name": "Python 3",
   "language": "python",
   "name": "python3"
  },
  "language_info": {
   "codemirror_mode": {
    "name": "ipython",
    "version": 3
   },
   "file_extension": ".py",
   "mimetype": "text/x-python",
   "name": "python",
   "nbconvert_exporter": "python",
   "pygments_lexer": "ipython3",
   "version": "3.7.6"
  }
 },
 "nbformat": 4,
 "nbformat_minor": 4
}
