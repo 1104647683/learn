{
 "cells": [
  {
   "cell_type": "markdown",
   "metadata": {},
   "source": [
    "# Python 标准库"
   ]
  },
  {
   "cell_type": "markdown",
   "metadata": {},
   "source": [
    "## time 库\n",
    "\n",
    "**Python处理时间的标准库**\n",
    "\n",
    "**1、获取现在时间**\n",
    "\n",
    "（1）time.localtime() 本地时间\n",
    "\n",
    "（2）time.gmtime() UTC世界统一时间\n",
    "\n",
    "北京时间比世界统一时间 UTC 早 8 个小时"
   ]
  },
  {
   "cell_type": "code",
   "execution_count": 1,
   "metadata": {},
   "outputs": [
    {
     "name": "stdout",
     "output_type": "stream",
     "text": [
      "t_local time.struct_time(tm_year=2020, tm_mon=4, tm_mday=1, tm_hour=17, tm_min=27, tm_sec=47, tm_wday=2, tm_yday=92, tm_isdst=0)\n",
      "t_UTC time.struct_time(tm_year=2020, tm_mon=4, tm_mday=1, tm_hour=9, tm_min=27, tm_sec=47, tm_wday=2, tm_yday=92, tm_isdst=0)\n"
     ]
    }
   ],
   "source": [
    "import time\n",
    "\n",
    "t_local = time.localtime()\n",
    "t_UtC = time.gmtime()\n",
    "print('t_local', t_local)\n",
    "print('t_UTC', t_UtC)"
   ]
  },
  {
   "cell_type": "code",
   "execution_count": 3,
   "metadata": {},
   "outputs": [
    {
     "data": {
      "text/plain": [
       "'Wed Apr  1 17:28:44 2020'"
      ]
     },
     "execution_count": 3,
     "metadata": {},
     "output_type": "execute_result"
    }
   ],
   "source": [
    "time.ctime()          # 返回本地时间的字符串"
   ]
  },
  {
   "cell_type": "markdown",
   "metadata": {},
   "source": [
    "**2、时间戳与计时器**\n",
    "\n",
    "（1）time.time() 返回自纪元以来的秒数，记录 sleep\n",
    "\n",
    "（2）time.perf_counter() 随意选取一个时间点，记录现在时间到该时间点的间隔秒数，记录 sleep\n",
    "\n",
    "（3）time.process_time() 随意选取一个时间点，记录现在时间到该时间点的间隔秒数，不记录 sleep\n",
    "\n",
    "perf_counter() 精度较 time() 更高一些"
   ]
  },
  {
   "cell_type": "code",
   "execution_count": 4,
   "metadata": {},
   "outputs": [
    {
     "name": "stdout",
     "output_type": "stream",
     "text": [
      "1585734238.9842937\n",
      "1761.5337528\n",
      "2.125\n",
      "time方法：5.141秒\n",
      "perf_counter方法：5.142秒\n",
      "process_time方法：0.141秒\n"
     ]
    }
   ],
   "source": [
    "t_1_start = time.time()\n",
    "t_2_start = time.perf_counter()\n",
    "t_3_start = time.process_time()\n",
    "\n",
    "print(t_1_start)\n",
    "print(t_2_start)\n",
    "print(t_3_start)\n",
    "\n",
    "res = 0\n",
    "for i in range(1000000):\n",
    "    res += i\n",
    "    \n",
    "time.sleep(5)     # process_time 会把 sleep 的时间去掉\n",
    "t_1_end = time.time()\n",
    "t_2_end = time.perf_counter()\n",
    "t_3_end = time.process_time()\n",
    "\n",
    "print('time方法：{:.3f}秒'.format(t_1_end-t_1_start))\n",
    "print('perf_counter方法：{:.3f}秒'.format(t_2_end-t_2_start))\n",
    "print('process_time方法：{:.3f}秒'.format(t_3_end-t_3_start))"
   ]
  },
  {
   "cell_type": "markdown",
   "metadata": {},
   "source": [
    "**3、格式化**\n",
    "\n",
    "（1）time.strftime 自定义格式化输出"
   ]
  },
  {
   "cell_type": "code",
   "execution_count": 5,
   "metadata": {},
   "outputs": [
    {
     "data": {
      "text/plain": [
       "'2020-04-01 Wednesday 17:48:06'"
      ]
     },
     "execution_count": 5,
     "metadata": {},
     "output_type": "execute_result"
    }
   ],
   "source": [
    "lctime = time.localtime()\n",
    "time.strftime('%Y-%m-%d %A %H:%M:%S')"
   ]
  },
  {
   "cell_type": "markdown",
   "metadata": {},
   "source": [
    "**4、睡觉**"
   ]
  },
  {
   "cell_type": "raw",
   "metadata": {},
   "source": [
    "time.sleep()"
   ]
  },
  {
   "cell_type": "markdown",
   "metadata": {},
   "source": [
    "## random 库\n",
    "\n",
    "随机数在计算机应用中十分常见\n",
    "\n",
    "Python 通过 random库 提供各种伪随机数\n",
    "\n",
    "基本可以用于除加密解密算法外的大多数工程应用\n",
    "\n",
    "**1、随机种子————seed(a=None)**\n",
    "\n",
    "（1）相同种子会产生相同的随机数\n",
    "\n",
    "（2）如果不设置随机种子，以系统当前时间为默认值"
   ]
  },
  {
   "cell_type": "code",
   "execution_count": 6,
   "metadata": {},
   "outputs": [
    {
     "name": "stdout",
     "output_type": "stream",
     "text": [
      "0.5714025946899135\n",
      "0.5714025946899135\n"
     ]
    }
   ],
   "source": [
    "from random import *\n",
    "\n",
    "seed(10)\n",
    "print(random())\n",
    "seed(10)\n",
    "print(random())"
   ]
  },
  {
   "cell_type": "code",
   "execution_count": 7,
   "metadata": {},
   "outputs": [
    {
     "name": "stdout",
     "output_type": "stream",
     "text": [
      "0.4288890546751146\n"
     ]
    }
   ],
   "source": [
    "print(random())"
   ]
  },
  {
   "cell_type": "markdown",
   "metadata": {},
   "source": [
    "**2、产生随机整数**\n",
    "\n",
    "（1）randint(a,b)————产生 [a,b]之间 的随机整数"
   ]
  },
  {
   "cell_type": "code",
   "execution_count": 10,
   "metadata": {},
   "outputs": [
    {
     "data": {
      "text/plain": [
       "[5, 5, 8, 3, 5, 6, 3, 8, 4, 8]"
      ]
     },
     "execution_count": 10,
     "metadata": {},
     "output_type": "execute_result"
    }
   ],
   "source": [
    "numbers = [randint(1, 10) for i in range(10)]\n",
    "numbers"
   ]
  },
  {
   "cell_type": "markdown",
   "metadata": {},
   "source": [
    "（2）randrange(a)————产生 [0,a)之间 的随机整数"
   ]
  },
  {
   "cell_type": "code",
   "execution_count": 11,
   "metadata": {},
   "outputs": [
    {
     "data": {
      "text/plain": [
       "[9, 6, 0, 9, 0, 3, 2, 3, 4, 8]"
      ]
     },
     "execution_count": 11,
     "metadata": {},
     "output_type": "execute_result"
    }
   ],
   "source": [
    "numbers = [randrange(10) for i in range(10)]\n",
    "numbers"
   ]
  },
  {
   "cell_type": "markdown",
   "metadata": {},
   "source": [
    "（3）randrange(a,b,step)————产生 [a,b)之间 以step为步长 的随机整数"
   ]
  },
  {
   "cell_type": "code",
   "execution_count": 12,
   "metadata": {},
   "outputs": [
    {
     "data": {
      "text/plain": [
       "[4, 2, 4, 8, 6, 6, 6, 0, 8, 4]"
      ]
     },
     "execution_count": 12,
     "metadata": {},
     "output_type": "execute_result"
    }
   ],
   "source": [
    "numbers = [randrange(0, 10, 2) for i in range(10)]\n",
    "numbers"
   ]
  },
  {
   "cell_type": "markdown",
   "metadata": {},
   "source": [
    "**3、产生随机浮点数**\n",
    "\n",
    "（1）random()————产生[0.0, 1.0)之间 的随机浮点数"
   ]
  },
  {
   "cell_type": "code",
   "execution_count": 14,
   "metadata": {},
   "outputs": [
    {
     "data": {
      "text/plain": [
       "[0.8440678976619022,\n",
       " 0.1564189183874064,\n",
       " 0.2242989686860415,\n",
       " 0.41287020771484073,\n",
       " 0.03692486905862902,\n",
       " 0.4966034986165482,\n",
       " 0.8179828644296319,\n",
       " 0.6578909387591091,\n",
       " 0.5334837356527721,\n",
       " 0.8551257407736]"
      ]
     },
     "execution_count": 14,
     "metadata": {},
     "output_type": "execute_result"
    }
   ],
   "source": [
    "numbers = [random() for i in range(10)]\n",
    "numbers"
   ]
  },
  {
   "cell_type": "markdown",
   "metadata": {},
   "source": [
    "（2）uniform(a,b)————产生[a,b]之间 的随机浮点数"
   ]
  },
  {
   "cell_type": "code",
   "execution_count": 15,
   "metadata": {},
   "outputs": [
    {
     "data": {
      "text/plain": [
       "[2.3095633889599623,\n",
       " 2.8941296676083734,\n",
       " 2.6238447448473243,\n",
       " 2.9418263659590953,\n",
       " 2.258081982652211,\n",
       " 3.185717781501959,\n",
       " 2.235248166458094,\n",
       " 2.332909244110547,\n",
       " 3.230429652834658,\n",
       " 3.426771493912887]"
      ]
     },
     "execution_count": 15,
     "metadata": {},
     "output_type": "execute_result"
    }
   ],
   "source": [
    "numbers = [uniform(2.1, 3.5) for i in range(10)]\n",
    "numbers"
   ]
  },
  {
   "cell_type": "markdown",
   "metadata": {},
   "source": [
    "**4、序列用函数**\n",
    "\n",
    "（1）choice(seq)————从 序列类型 中随即返回一个元素"
   ]
  },
  {
   "cell_type": "code",
   "execution_count": 16,
   "metadata": {},
   "outputs": [
    {
     "data": {
      "text/plain": [
       "'lose'"
      ]
     },
     "execution_count": 16,
     "metadata": {},
     "output_type": "execute_result"
    }
   ],
   "source": [
    "choice(['win', 'lose', 'draw'])"
   ]
  },
  {
   "cell_type": "code",
   "execution_count": 17,
   "metadata": {},
   "outputs": [
    {
     "data": {
      "text/plain": [
       "'h'"
      ]
     },
     "execution_count": 17,
     "metadata": {},
     "output_type": "execute_result"
    }
   ],
   "source": [
    "choice('Python')"
   ]
  },
  {
   "cell_type": "markdown",
   "metadata": {},
   "source": [
    "（2）choices(seq, weights=None, k)————对 序列类型 进行 k 次重复采样，可设置权重"
   ]
  },
  {
   "cell_type": "code",
   "execution_count": 19,
   "metadata": {},
   "outputs": [
    {
     "data": {
      "text/plain": [
       "['lose', 'draw', 'win', 'lose', 'draw']"
      ]
     },
     "execution_count": 19,
     "metadata": {},
     "output_type": "execute_result"
    }
   ],
   "source": [
    "choices(['win', 'lose', 'draw'], k=5)"
   ]
  },
  {
   "cell_type": "code",
   "execution_count": 21,
   "metadata": {},
   "outputs": [
    {
     "data": {
      "text/plain": [
       "['win', 'lose', 'win', 'win', 'lose', 'win', 'draw', 'win', 'win', 'lose']"
      ]
     },
     "execution_count": 21,
     "metadata": {},
     "output_type": "execute_result"
    }
   ],
   "source": [
    "choices(['win', 'lose', 'draw'], [4, 4, 2], k=10)"
   ]
  },
  {
   "cell_type": "markdown",
   "metadata": {},
   "source": [
    "（3）shuffle(seq)————将 序列类型 中元素随机排列，返回打乱后的序列"
   ]
  },
  {
   "cell_type": "code",
   "execution_count": 22,
   "metadata": {},
   "outputs": [
    {
     "data": {
      "text/plain": [
       "['one', 'three', 'four', 'two']"
      ]
     },
     "execution_count": 22,
     "metadata": {},
     "output_type": "execute_result"
    }
   ],
   "source": [
    "numbers = ['one', 'two', 'three', 'four']\n",
    "shuffle(numbers)\n",
    "numbers"
   ]
  },
  {
   "cell_type": "markdown",
   "metadata": {},
   "source": [
    "（4）sample(pop,k)————从 pop类型 中元素随机选取 k 个元素，以 列表形式 返回"
   ]
  },
  {
   "cell_type": "code",
   "execution_count": 23,
   "metadata": {},
   "outputs": [
    {
     "data": {
      "text/plain": [
       "[20, 30, 40]"
      ]
     },
     "execution_count": 23,
     "metadata": {},
     "output_type": "execute_result"
    }
   ],
   "source": [
    "sample([10, 20, 30, 40, 50], k=3)   # k 不能超过元素个数，如 k=6 会报错"
   ]
  },
  {
   "cell_type": "code",
   "execution_count": 25,
   "metadata": {},
   "outputs": [
    {
     "data": {
      "text/plain": [
       "['lose', 'draw']"
      ]
     },
     "execution_count": 25,
     "metadata": {},
     "output_type": "execute_result"
    }
   ],
   "source": [
    "sample(['win', 'lose', 'draw'], k=2)"
   ]
  },
  {
   "cell_type": "markdown",
   "metadata": {},
   "source": [
    "**5、概率分布————以高斯分布为例**\n",
    "\n",
    "**gauss(mean,std)————生产一个符合高斯分布的随机数**"
   ]
  },
  {
   "cell_type": "code",
   "execution_count": 26,
   "metadata": {},
   "outputs": [
    {
     "data": {
      "text/plain": [
       "1.0704113384161025"
      ]
     },
     "execution_count": 26,
     "metadata": {},
     "output_type": "execute_result"
    }
   ],
   "source": [
    "number = gauss(0, 1)\n",
    "number"
   ]
  },
  {
   "cell_type": "markdown",
   "metadata": {},
   "source": [
    "**多生成几个**"
   ]
  },
  {
   "cell_type": "code",
   "execution_count": 27,
   "metadata": {},
   "outputs": [
    {
     "data": {
      "image/png": "[encoded data removed]",
      "text/plain": [
       "<Figure size 432x288 with 1 Axes>"
      ]
     },
     "metadata": {
      "needs_background": "light"
     },
     "output_type": "display_data"
    }
   ],
   "source": [
    "import matplotlib.pyplot as plt\n",
    "\n",
    "res = [gauss(0, 1) for i in range(1000000)]\n",
    "\n",
    "plt.hist(res, bins=1000)\n",
    "plt.show()"
   ]
  },
  {
   "cell_type": "markdown",
   "metadata": {},
   "source": [
    "【例1】用 random库 实现简单的微信红包分配"
   ]
  },
  {
   "cell_type": "code",
   "execution_count": 30,
   "metadata": {},
   "outputs": [
    {
     "name": "stdout",
     "output_type": "stream",
     "text": [
      "第1位红包金额：  1.47元\n",
      "第2位红包金额：  3.19元\n",
      "第3位红包金额：  3.22元\n",
      "第4位红包金额：  1.43元\n",
      "第5位红包金额：  0.69元\n"
     ]
    }
   ],
   "source": [
    "import random\n",
    "\n",
    "\n",
    "def red_packet(total, num):\n",
    "    for i in range(1, num):\n",
    "        per = random.uniform(0.01, total/(num-i+1)*2)       # 保证每个人分到红包的期望是 total/(num)\n",
    "        total = total - per\n",
    "        print('第{}位红包金额：  {:.2f}元'.format(i, per))\n",
    "    else:\n",
    "        print('第{}位红包金额：  {:.2f}元'.format(num, total))        \n",
    "        \n",
    "        \n",
    "red_packet(10, 5)\n",
    "\n",
    "# 所有都用第一个循环分配的话，总值不一定是 输入的total"
   ]
  },
  {
   "cell_type": "code",
   "execution_count": 35,
   "metadata": {},
   "outputs": [
    {
     "name": "stdout",
     "output_type": "stream",
     "text": [
      "[[0.46 3.04 2.12 0.46 3.92]\n",
      " [2.78 0.98 0.96 0.87 4.41]\n",
      " [1.04 2.55 2.69 3.63 0.09]\n",
      " [1.02 0.98 2.56 0.5  4.94]\n",
      " [0.97 4.32 1.86 1.36 1.49]\n",
      " [2.23 3.81 1.37 1.54 1.05]\n",
      " [2.55 2.52 2.22 1.82 0.89]\n",
      " [1.49 0.57 4.85 0.85 2.24]\n",
      " [2.93 1.86 1.51 0.09 3.61]\n",
      " [0.3  1.53 2.89 0.43 4.85]]\n"
     ]
    },
    {
     "data": {
      "text/plain": [
       "array([2.001421 , 2.0036132, 2.0091899, 2.0011004, 1.9846755])"
      ]
     },
     "execution_count": 35,
     "metadata": {},
     "output_type": "execute_result"
    }
   ],
   "source": [
    "import random\n",
    "import numpy as np\n",
    "\n",
    "\n",
    "def red_packet(total, num):\n",
    "    ls = []\n",
    "    for i in range(1, num):\n",
    "        per = round(random.uniform(0.01, total/(num-i+1)*2), 2)       # 均匀分布，保证每个人分到红包的期望是 total/(num)\n",
    "        ls.append(per)\n",
    "        total = total - per\n",
    "    else:\n",
    "        ls.append(total)\n",
    "    \n",
    "    return ls\n",
    "\n",
    "        \n",
    "# 重复十万次，统计每个位置的平均值（约等于期望）\n",
    "res = []\n",
    "for i in range(100000):\n",
    "    ls = red_packet(10, 5)\n",
    "    res.append(ls)\n",
    "    \n",
    "res = np.array(res)\n",
    "print(res[:10])\n",
    "np.mean(res, axis=0)"
   ]
  },
  {
   "cell_type": "markdown",
   "metadata": {},
   "source": [
    "【例2】生产 4 位由数字和英文字母构成的验证码"
   ]
  },
  {
   "cell_type": "code",
   "execution_count": 36,
   "metadata": {},
   "outputs": [
    {
     "name": "stdout",
     "output_type": "stream",
     "text": [
      "0123456789\n",
      "abcdefghijklmnopqrstuvwxyzABCDEFGHIJKLMNOPQRSTUVWXYZ\n",
      "['l', 'V', 'a', 'b']\n",
      "lVab\n"
     ]
    }
   ],
   "source": [
    "import random\n",
    "import string\n",
    "\n",
    "print(string.digits)\n",
    "print(string.ascii_letters)\n",
    "\n",
    "s = string.digits + string.ascii_letters\n",
    "v = random.sample(s, 4)\n",
    "print(v)\n",
    "print(''.join(v))"
   ]
  },
  {
   "cell_type": "markdown",
   "metadata": {},
   "source": [
    "## collections库————容器数据类型"
   ]
  },
  {
   "cell_type": "code",
   "execution_count": 37,
   "metadata": {},
   "outputs": [],
   "source": [
    "import collections"
   ]
  },
  {
   "cell_type": "markdown",
   "metadata": {},
   "source": [
    "**1、namedtuple————具名元组**\n",
    "\n",
    "- 点的坐标，仅看数据，很难知道表达的是一个点的坐标"
   ]
  },
  {
   "cell_type": "code",
   "execution_count": 38,
   "metadata": {},
   "outputs": [],
   "source": [
    "p = (1, 2)"
   ]
  },
  {
   "cell_type": "markdown",
   "metadata": {},
   "source": [
    "- 构建一个新的元组子类\n",
    "\n",
    "    定义方法如下：typename 是元组名字，field_names 是域名"
   ]
  },
  {
   "cell_type": "raw",
   "metadata": {},
   "source": [
    "collections.namedtuple(typename, field_names, *, rename=False, defaults=None, module=None)"
   ]
  },
  {
   "cell_type": "code",
   "execution_count": 40,
   "metadata": {},
   "outputs": [
    {
     "data": {
      "text/plain": [
       "Point(x=1, y=2)"
      ]
     },
     "execution_count": 40,
     "metadata": {},
     "output_type": "execute_result"
    }
   ],
   "source": [
    "Point = collections.namedtuple('Point', ['x', 'y'])\n",
    "p = Point(1, y=2)\n",
    "p"
   ]
  },
  {
   "cell_type": "markdown",
   "metadata": {},
   "source": [
    "- 可以调用属性"
   ]
  },
  {
   "cell_type": "code",
   "execution_count": 41,
   "metadata": {},
   "outputs": [
    {
     "name": "stdout",
     "output_type": "stream",
     "text": [
      "1\n",
      "2\n"
     ]
    }
   ],
   "source": [
    "print(p.x)\n",
    "print(p.y)"
   ]
  },
  {
   "cell_type": "markdown",
   "metadata": {},
   "source": [
    "- 有元组性质"
   ]
  },
  {
   "cell_type": "code",
   "execution_count": 42,
   "metadata": {},
   "outputs": [
    {
     "name": "stdout",
     "output_type": "stream",
     "text": [
      "1\n",
      "2\n",
      "1\n",
      "2\n"
     ]
    }
   ],
   "source": [
    "print(p[0])\n",
    "print(p[1])\n",
    "\n",
    "x, y = p\n",
    "\n",
    "print(x)\n",
    "print(y)"
   ]
  },
  {
   "cell_type": "markdown",
   "metadata": {},
   "source": [
    "- 确实是元组的子类"
   ]
  },
  {
   "cell_type": "code",
   "execution_count": 44,
   "metadata": {},
   "outputs": [
    {
     "name": "stdout",
     "output_type": "stream",
     "text": [
      "True\n"
     ]
    }
   ],
   "source": [
    "print(isinstance(p, tuple))"
   ]
  },
  {
   "cell_type": "markdown",
   "metadata": {},
   "source": [
    "【例】模拟扑克牌"
   ]
  },
  {
   "cell_type": "code",
   "execution_count": 45,
   "metadata": {},
   "outputs": [
    {
     "name": "stdout",
     "output_type": "stream",
     "text": [
      "ranks ['2', '3', '4', '5', '6', '7', '8', '9', '10', 'J', 'Q', 'K', 'A']\n",
      "suits ['spades', 'diamonds', 'clubs', 'hearts']\n"
     ]
    },
    {
     "data": {
      "text/plain": [
       "[Card(rank='2', suit='spades'),\n",
       " Card(rank='2', suit='diamonds'),\n",
       " Card(rank='2', suit='clubs'),\n",
       " Card(rank='2', suit='hearts'),\n",
       " Card(rank='3', suit='spades'),\n",
       " Card(rank='3', suit='diamonds'),\n",
       " Card(rank='3', suit='clubs'),\n",
       " Card(rank='3', suit='hearts'),\n",
       " Card(rank='4', suit='spades'),\n",
       " Card(rank='4', suit='diamonds'),\n",
       " Card(rank='4', suit='clubs'),\n",
       " Card(rank='4', suit='hearts'),\n",
       " Card(rank='5', suit='spades'),\n",
       " Card(rank='5', suit='diamonds'),\n",
       " Card(rank='5', suit='clubs'),\n",
       " Card(rank='5', suit='hearts'),\n",
       " Card(rank='6', suit='spades'),\n",
       " Card(rank='6', suit='diamonds'),\n",
       " Card(rank='6', suit='clubs'),\n",
       " Card(rank='6', suit='hearts'),\n",
       " Card(rank='7', suit='spades'),\n",
       " Card(rank='7', suit='diamonds'),\n",
       " Card(rank='7', suit='clubs'),\n",
       " Card(rank='7', suit='hearts'),\n",
       " Card(rank='8', suit='spades'),\n",
       " Card(rank='8', suit='diamonds'),\n",
       " Card(rank='8', suit='clubs'),\n",
       " Card(rank='8', suit='hearts'),\n",
       " Card(rank='9', suit='spades'),\n",
       " Card(rank='9', suit='diamonds'),\n",
       " Card(rank='9', suit='clubs'),\n",
       " Card(rank='9', suit='hearts'),\n",
       " Card(rank='10', suit='spades'),\n",
       " Card(rank='10', suit='diamonds'),\n",
       " Card(rank='10', suit='clubs'),\n",
       " Card(rank='10', suit='hearts'),\n",
       " Card(rank='J', suit='spades'),\n",
       " Card(rank='J', suit='diamonds'),\n",
       " Card(rank='J', suit='clubs'),\n",
       " Card(rank='J', suit='hearts'),\n",
       " Card(rank='Q', suit='spades'),\n",
       " Card(rank='Q', suit='diamonds'),\n",
       " Card(rank='Q', suit='clubs'),\n",
       " Card(rank='Q', suit='hearts'),\n",
       " Card(rank='K', suit='spades'),\n",
       " Card(rank='K', suit='diamonds'),\n",
       " Card(rank='K', suit='clubs'),\n",
       " Card(rank='K', suit='hearts'),\n",
       " Card(rank='A', suit='spades'),\n",
       " Card(rank='A', suit='diamonds'),\n",
       " Card(rank='A', suit='clubs'),\n",
       " Card(rank='A', suit='hearts')]"
      ]
     },
     "execution_count": 45,
     "metadata": {},
     "output_type": "execute_result"
    }
   ],
   "source": [
    "Card = collections.namedtuple('Card', ['rank', 'suit'])\n",
    "ranks = [str(n) for n in range(2, 11)] + list('JQKA')\n",
    "suits = 'spades diamonds clubs hearts'.split()\n",
    "print('ranks', ranks)\n",
    "print('suits', suits)\n",
    "cards = [Card(rank, suit) for rank in ranks\n",
    "                for suit in suits]\n",
    "cards"
   ]
  },
  {
   "cell_type": "code",
   "execution_count": 46,
   "metadata": {},
   "outputs": [],
   "source": [
    "from random import *"
   ]
  },
  {
   "cell_type": "code",
   "execution_count": 47,
   "metadata": {},
   "outputs": [
    {
     "data": {
      "text/plain": [
       "[Card(rank='Q', suit='diamonds'),\n",
       " Card(rank='K', suit='clubs'),\n",
       " Card(rank='5', suit='hearts'),\n",
       " Card(rank='3', suit='clubs'),\n",
       " Card(rank='A', suit='diamonds'),\n",
       " Card(rank='J', suit='hearts'),\n",
       " Card(rank='J', suit='clubs'),\n",
       " Card(rank='7', suit='diamonds'),\n",
       " Card(rank='3', suit='hearts'),\n",
       " Card(rank='Q', suit='spades'),\n",
       " Card(rank='2', suit='spades'),\n",
       " Card(rank='8', suit='hearts'),\n",
       " Card(rank='10', suit='hearts'),\n",
       " Card(rank='J', suit='diamonds'),\n",
       " Card(rank='K', suit='spades'),\n",
       " Card(rank='9', suit='spades'),\n",
       " Card(rank='K', suit='hearts'),\n",
       " Card(rank='A', suit='clubs'),\n",
       " Card(rank='9', suit='hearts'),\n",
       " Card(rank='2', suit='hearts'),\n",
       " Card(rank='6', suit='spades'),\n",
       " Card(rank='Q', suit='clubs'),\n",
       " Card(rank='4', suit='clubs'),\n",
       " Card(rank='10', suit='diamonds'),\n",
       " Card(rank='4', suit='diamonds'),\n",
       " Card(rank='8', suit='diamonds'),\n",
       " Card(rank='9', suit='clubs'),\n",
       " Card(rank='10', suit='spades'),\n",
       " Card(rank='4', suit='spades'),\n",
       " Card(rank='5', suit='diamonds'),\n",
       " Card(rank='9', suit='diamonds'),\n",
       " Card(rank='2', suit='clubs'),\n",
       " Card(rank='6', suit='clubs'),\n",
       " Card(rank='6', suit='diamonds'),\n",
       " Card(rank='J', suit='spades'),\n",
       " Card(rank='A', suit='hearts'),\n",
       " Card(rank='K', suit='diamonds'),\n",
       " Card(rank='8', suit='clubs'),\n",
       " Card(rank='5', suit='spades'),\n",
       " Card(rank='4', suit='hearts'),\n",
       " Card(rank='A', suit='spades'),\n",
       " Card(rank='7', suit='spades'),\n",
       " Card(rank='2', suit='diamonds'),\n",
       " Card(rank='8', suit='spades'),\n",
       " Card(rank='5', suit='clubs'),\n",
       " Card(rank='Q', suit='hearts'),\n",
       " Card(rank='3', suit='diamonds'),\n",
       " Card(rank='3', suit='spades'),\n",
       " Card(rank='10', suit='clubs'),\n",
       " Card(rank='6', suit='hearts'),\n",
       " Card(rank='7', suit='hearts'),\n",
       " Card(rank='7', suit='clubs')]"
      ]
     },
     "execution_count": 47,
     "metadata": {},
     "output_type": "execute_result"
    }
   ],
   "source": [
    "# 洗牌\n",
    "shuffle(cards)\n",
    "cards"
   ]
  },
  {
   "cell_type": "code",
   "execution_count": 48,
   "metadata": {},
   "outputs": [
    {
     "data": {
      "text/plain": [
       "Card(rank='A', suit='clubs')"
      ]
     },
     "execution_count": 48,
     "metadata": {},
     "output_type": "execute_result"
    }
   ],
   "source": [
    "# 随机抽一张牌\n",
    "choice(cards)"
   ]
  },
  {
   "cell_type": "code",
   "execution_count": 49,
   "metadata": {},
   "outputs": [
    {
     "data": {
      "text/plain": [
       "[Card(rank='J', suit='diamonds'),\n",
       " Card(rank='K', suit='spades'),\n",
       " Card(rank='A', suit='diamonds'),\n",
       " Card(rank='4', suit='clubs'),\n",
       " Card(rank='2', suit='spades')]"
      ]
     },
     "execution_count": 49,
     "metadata": {},
     "output_type": "execute_result"
    }
   ],
   "source": [
    "# 随机抽多张牌\n",
    "sample(cards, k=5)       # 放回抽用 choices, 不放回用 sample"
   ]
  },
  {
   "cell_type": "code",
   "execution_count": 61,
   "metadata": {},
   "outputs": [
    {
     "data": {
      "text/plain": [
       "[Card(rank='Q', suit='diamonds'),\n",
       " Card(rank='K', suit='clubs'),\n",
       " Card(rank='5', suit='hearts'),\n",
       " Card(rank='3', suit='clubs'),\n",
       " Card(rank='A', suit='diamonds'),\n",
       " Card(rank='J', suit='hearts'),\n",
       " Card(rank='J', suit='clubs'),\n",
       " Card(rank='7', suit='diamonds'),\n",
       " Card(rank='3', suit='hearts'),\n",
       " Card(rank='Q', suit='spades'),\n",
       " Card(rank='2', suit='spades'),\n",
       " Card(rank='8', suit='hearts'),\n",
       " Card(rank='10', suit='hearts'),\n",
       " Card(rank='J', suit='diamonds'),\n",
       " Card(rank='K', suit='spades'),\n",
       " Card(rank='9', suit='spades'),\n",
       " Card(rank='K', suit='hearts'),\n",
       " Card(rank='A', suit='clubs'),\n",
       " Card(rank='9', suit='hearts'),\n",
       " Card(rank='2', suit='hearts'),\n",
       " Card(rank='6', suit='spades'),\n",
       " Card(rank='Q', suit='clubs'),\n",
       " Card(rank='4', suit='clubs'),\n",
       " Card(rank='10', suit='diamonds'),\n",
       " Card(rank='4', suit='diamonds'),\n",
       " Card(rank='8', suit='diamonds'),\n",
       " Card(rank='9', suit='clubs'),\n",
       " Card(rank='10', suit='spades'),\n",
       " Card(rank='4', suit='spades'),\n",
       " Card(rank='5', suit='diamonds'),\n",
       " Card(rank='9', suit='diamonds'),\n",
       " Card(rank='2', suit='clubs'),\n",
       " Card(rank='6', suit='clubs'),\n",
       " Card(rank='6', suit='diamonds'),\n",
       " Card(rank='J', suit='spades'),\n",
       " Card(rank='A', suit='hearts'),\n",
       " Card(rank='K', suit='diamonds'),\n",
       " Card(rank='8', suit='clubs'),\n",
       " Card(rank='5', suit='spades'),\n",
       " Card(rank='4', suit='hearts'),\n",
       " Card(rank='A', suit='spades'),\n",
       " Card(rank='7', suit='spades'),\n",
       " Card(rank='2', suit='diamonds'),\n",
       " Card(rank='8', suit='spades'),\n",
       " Card(rank='5', suit='clubs'),\n",
       " Card(rank='Q', suit='hearts'),\n",
       " Card(rank='3', suit='diamonds'),\n",
       " Card(rank='3', suit='spades'),\n",
       " Card(rank='10', suit='clubs'),\n",
       " Card(rank='6', suit='hearts'),\n",
       " Card(rank='7', suit='hearts'),\n",
       " Card(rank='7', suit='clubs')]"
      ]
     },
     "execution_count": 61,
     "metadata": {},
     "output_type": "execute_result"
    }
   ],
   "source": [
    "cards        # 列表没变，说明并非真正意义上的不放回，只是实现了不放回的功能"
   ]
  },
  {
   "cell_type": "markdown",
   "metadata": {},
   "source": [
    "**2、Counter————计数器工具**"
   ]
  },
  {
   "cell_type": "code",
   "execution_count": 50,
   "metadata": {},
   "outputs": [],
   "source": [
    "from collections import Counter"
   ]
  },
  {
   "cell_type": "code",
   "execution_count": 51,
   "metadata": {},
   "outputs": [
    {
     "name": "stdout",
     "output_type": "stream",
     "text": [
      "Counter({'o': 4, 'g': 3, 'h': 3, 'r': 2, 'i': 2, 'y': 1, 'f': 1, 'd': 1, 'b': 1, 'j': 1, 'e': 1})\n",
      "Counter({'1': 3, '5': 2, '3': 1, '2': 1})\n"
     ]
    }
   ],
   "source": [
    "s = 'rygohgoifdobjoigherh'\n",
    "nums = ['1', '3', '5', '1', '1', '2', '5']\n",
    "cnt_str = Counter(s)\n",
    "cnt_num = Counter(nums)\n",
    "print(cnt_str)\n",
    "print(cnt_num)"
   ]
  },
  {
   "cell_type": "markdown",
   "metadata": {},
   "source": [
    "- 是字典的一个子类"
   ]
  },
  {
   "cell_type": "code",
   "execution_count": 56,
   "metadata": {},
   "outputs": [
    {
     "name": "stdout",
     "output_type": "stream",
     "text": [
      "True\n"
     ]
    }
   ],
   "source": [
    "print(isinstance(Counter(), dict))"
   ]
  },
  {
   "cell_type": "markdown",
   "metadata": {},
   "source": [
    "- 最常见的统计————most_common(n)\n",
    "    提供 n 个频率最高的元素和计数"
   ]
  },
  {
   "cell_type": "code",
   "execution_count": 57,
   "metadata": {},
   "outputs": [
    {
     "data": {
      "text/plain": [
       "[('1', 3), ('5', 2)]"
      ]
     },
     "execution_count": 57,
     "metadata": {},
     "output_type": "execute_result"
    }
   ],
   "source": [
    "cnt_num.most_common(2)"
   ]
  },
  {
   "cell_type": "markdown",
   "metadata": {},
   "source": [
    "- 元素展开"
   ]
  },
  {
   "cell_type": "code",
   "execution_count": 59,
   "metadata": {},
   "outputs": [
    {
     "data": {
      "text/plain": [
       "['1', '1', '1', '3', '5', '5', '2']"
      ]
     },
     "execution_count": 59,
     "metadata": {},
     "output_type": "execute_result"
    }
   ],
   "source": [
    "list(cnt_num.elements())"
   ]
  },
  {
   "cell_type": "markdown",
   "metadata": {},
   "source": [
    "- 其他一些加减操作"
   ]
  },
  {
   "cell_type": "code",
   "execution_count": 60,
   "metadata": {},
   "outputs": [
    {
     "data": {
      "text/plain": [
       "Counter({'a': 4, 'b': 3})"
      ]
     },
     "execution_count": 60,
     "metadata": {},
     "output_type": "execute_result"
    }
   ],
   "source": [
    "c = Counter(a=3, b=1)\n",
    "d = Counter(a=1, b=2)\n",
    "\n",
    "c + d"
   ]
  },
  {
   "cell_type": "markdown",
   "metadata": {},
   "source": [
    "【例】从一副牌中抽取 10 张，大于 10 的比例有多少"
   ]
  },
  {
   "cell_type": "code",
   "execution_count": 65,
   "metadata": {},
   "outputs": [
    {
     "name": "stdout",
     "output_type": "stream",
     "text": [
      "['low_card', 'tens', 'low_card', 'low_card', 'low_card', 'low_card', 'low_card', 'low_card', 'low_card', 'low_card']\n"
     ]
    },
    {
     "data": {
      "text/plain": [
       "0.1"
      ]
     },
     "execution_count": 65,
     "metadata": {},
     "output_type": "execute_result"
    }
   ],
   "source": [
    "cards = collections.Counter(tens=20, low_card=32)    # 比十大的 JQKA2 \n",
    "seen = sample(list(cards.elements()), k=10)\n",
    "print(seen)\n",
    "seen.count('tens') / 10   # 实验次数少，概率会不断变化"
   ]
  },
  {
   "cell_type": "markdown",
   "metadata": {},
   "source": [
    "**3、deque————双向队列**\n",
    "\n",
    "列表访问数据非常快速\n",
    "\n",
    "插入和删除操作非常慢————通过移动元素位置来实现\n",
    "\n",
    "特别是 insert(0,v) 和 pop(0), 在列表开始进行的插入和删除操作\n",
    "\n",
    "**双向队列可以方便的在队列两端高效、快速的增删元素**"
   ]
  },
  {
   "cell_type": "code",
   "execution_count": 67,
   "metadata": {},
   "outputs": [
    {
     "data": {
      "text/plain": [
       "deque(['c', 'd', 'e'])"
      ]
     },
     "execution_count": 67,
     "metadata": {},
     "output_type": "execute_result"
    }
   ],
   "source": [
    "from collections import deque\n",
    "\n",
    "d = deque('cde')\n",
    "d"
   ]
  },
  {
   "cell_type": "code",
   "execution_count": 68,
   "metadata": {},
   "outputs": [
    {
     "data": {
      "text/plain": [
       "deque(['a', 'b', 'c', 'd', 'e', 'f', 'g'])"
      ]
     },
     "execution_count": 68,
     "metadata": {},
     "output_type": "execute_result"
    }
   ],
   "source": [
    "d.append('f')       # 右端增加\n",
    "d.append('g')\n",
    "d.appendleft('b')   # 左端增加\n",
    "d.appendleft('a')\n",
    "\n",
    "d"
   ]
  },
  {
   "cell_type": "code",
   "execution_count": 69,
   "metadata": {},
   "outputs": [
    {
     "data": {
      "text/plain": [
       "deque(['b', 'c', 'd', 'e', 'f'])"
      ]
     },
     "execution_count": 69,
     "metadata": {},
     "output_type": "execute_result"
    }
   ],
   "source": [
    "d.pop()             # 右端删除\n",
    "d.popleft()         # 左端删除\n",
    "\n",
    "d"
   ]
  },
  {
   "cell_type": "markdown",
   "metadata": {},
   "source": [
    "**deque 其他用法可参考官方文档**"
   ]
  },
  {
   "cell_type": "markdown",
   "metadata": {},
   "source": [
    "## itertools库————迭代器\n",
    "\n",
    "**1、排列组合迭代器**\n",
    "\n",
    "（1）product————笛卡尔积"
   ]
  },
  {
   "cell_type": "code",
   "execution_count": 70,
   "metadata": {},
   "outputs": [
    {
     "name": "stdout",
     "output_type": "stream",
     "text": [
      "('A', '0')\n",
      "('A', '1')\n",
      "('B', '0')\n",
      "('B', '1')\n",
      "('C', '0')\n",
      "('C', '1')\n"
     ]
    }
   ],
   "source": [
    "import itertools\n",
    "\n",
    "for i in itertools.product('ABC', '01'):\n",
    "    print(i)"
   ]
  },
  {
   "cell_type": "code",
   "execution_count": 71,
   "metadata": {},
   "outputs": [
    {
     "name": "stdout",
     "output_type": "stream",
     "text": [
      "('A', 'A', 'A')\n",
      "('A', 'A', 'B')\n",
      "('A', 'A', 'C')\n",
      "('A', 'B', 'A')\n",
      "('A', 'B', 'B')\n",
      "('A', 'B', 'C')\n",
      "('A', 'C', 'A')\n",
      "('A', 'C', 'B')\n",
      "('A', 'C', 'C')\n",
      "('B', 'A', 'A')\n",
      "('B', 'A', 'B')\n",
      "('B', 'A', 'C')\n",
      "('B', 'B', 'A')\n",
      "('B', 'B', 'B')\n",
      "('B', 'B', 'C')\n",
      "('B', 'C', 'A')\n",
      "('B', 'C', 'B')\n",
      "('B', 'C', 'C')\n",
      "('C', 'A', 'A')\n",
      "('C', 'A', 'B')\n",
      "('C', 'A', 'C')\n",
      "('C', 'B', 'A')\n",
      "('C', 'B', 'B')\n",
      "('C', 'B', 'C')\n",
      "('C', 'C', 'A')\n",
      "('C', 'C', 'B')\n",
      "('C', 'C', 'C')\n"
     ]
    }
   ],
   "source": [
    "for i in itertools.product('ABC', repeat=3):\n",
    "    print(i)"
   ]
  },
  {
   "cell_type": "markdown",
   "metadata": {},
   "source": [
    "（2）permutations————排列"
   ]
  },
  {
   "cell_type": "code",
   "execution_count": 73,
   "metadata": {},
   "outputs": [
    {
     "name": "stdout",
     "output_type": "stream",
     "text": [
      "('A', 'B', 'C')\n",
      "('A', 'B', 'D')\n",
      "('A', 'C', 'B')\n",
      "('A', 'C', 'D')\n",
      "('A', 'D', 'B')\n",
      "('A', 'D', 'C')\n",
      "('B', 'A', 'C')\n",
      "('B', 'A', 'D')\n",
      "('B', 'C', 'A')\n",
      "('B', 'C', 'D')\n",
      "('B', 'D', 'A')\n",
      "('B', 'D', 'C')\n",
      "('C', 'A', 'B')\n",
      "('C', 'A', 'D')\n",
      "('C', 'B', 'A')\n",
      "('C', 'B', 'D')\n",
      "('C', 'D', 'A')\n",
      "('C', 'D', 'B')\n",
      "('D', 'A', 'B')\n",
      "('D', 'A', 'C')\n",
      "('D', 'B', 'A')\n",
      "('D', 'B', 'C')\n",
      "('D', 'C', 'A')\n",
      "('D', 'C', 'B')\n"
     ]
    }
   ],
   "source": [
    "for i in itertools.permutations('ABCD', 3):     # 3 是排列的长度\n",
    "    print(i)"
   ]
  },
  {
   "cell_type": "code",
   "execution_count": 74,
   "metadata": {},
   "outputs": [
    {
     "name": "stdout",
     "output_type": "stream",
     "text": [
      "(0, 1, 2)\n",
      "(0, 2, 1)\n",
      "(1, 0, 2)\n",
      "(1, 2, 0)\n",
      "(2, 0, 1)\n",
      "(2, 1, 0)\n"
     ]
    }
   ],
   "source": [
    "for i in itertools.permutations(range(3)): \n",
    "    print(i)"
   ]
  },
  {
   "cell_type": "markdown",
   "metadata": {},
   "source": [
    "（3）combinations————组合"
   ]
  },
  {
   "cell_type": "code",
   "execution_count": 75,
   "metadata": {},
   "outputs": [
    {
     "name": "stdout",
     "output_type": "stream",
     "text": [
      "('A', 'B')\n",
      "('A', 'C')\n",
      "('A', 'D')\n",
      "('B', 'C')\n",
      "('B', 'D')\n",
      "('C', 'D')\n"
     ]
    }
   ],
   "source": [
    "for i in itertools.combinations('ABCD', 2):     # 3 是组合的长度\n",
    "    print(i)"
   ]
  },
  {
   "cell_type": "code",
   "execution_count": 76,
   "metadata": {},
   "outputs": [
    {
     "name": "stdout",
     "output_type": "stream",
     "text": [
      "(0, 1, 2)\n",
      "(0, 1, 3)\n",
      "(0, 2, 3)\n",
      "(1, 2, 3)\n"
     ]
    }
   ],
   "source": [
    "for i in itertools.combinations(range(4), 3): \n",
    "    print(i)"
   ]
  },
  {
   "cell_type": "markdown",
   "metadata": {},
   "source": [
    "（4）combinations_with_replacement————元素可重复组合"
   ]
  },
  {
   "cell_type": "code",
   "execution_count": 77,
   "metadata": {},
   "outputs": [
    {
     "name": "stdout",
     "output_type": "stream",
     "text": [
      "('A', 'A')\n",
      "('A', 'B')\n",
      "('A', 'C')\n",
      "('B', 'B')\n",
      "('B', 'C')\n",
      "('C', 'C')\n"
     ]
    }
   ],
   "source": [
    "for i in itertools.combinations_with_replacement('ABC', 2):     # 3 是组合的长度\n",
    "    print(i)"
   ]
  },
  {
   "cell_type": "code",
   "execution_count": 78,
   "metadata": {},
   "outputs": [
    {
     "name": "stdout",
     "output_type": "stream",
     "text": [
      "('A', 'A')\n",
      "('A', 'B')\n",
      "('A', 'C')\n",
      "('B', 'A')\n",
      "('B', 'B')\n",
      "('B', 'C')\n",
      "('C', 'A')\n",
      "('C', 'B')\n",
      "('C', 'C')\n"
     ]
    }
   ],
   "source": [
    "for i in itertools.product('ABC', repeat=2):\n",
    "    print(i)"
   ]
  },
  {
   "cell_type": "markdown",
   "metadata": {},
   "source": [
    "**笛卡尔积相当于加了顺序这个维度**"
   ]
  },
  {
   "cell_type": "markdown",
   "metadata": {},
   "source": [
    "**2、拉链**\n",
    "\n",
    "（1）zip——短拉链"
   ]
  },
  {
   "cell_type": "code",
   "execution_count": 80,
   "metadata": {},
   "outputs": [
    {
     "name": "stdout",
     "output_type": "stream",
     "text": [
      "('A', '0', 'x')\n",
      "('B', '1', 'y')\n",
      "('C', '2', 'z')\n"
     ]
    }
   ],
   "source": [
    "for i in zip('ABC', '012', 'xyz'):\n",
    "    print(i)"
   ]
  },
  {
   "cell_type": "markdown",
   "metadata": {},
   "source": [
    "**长短不一时，执行到最短的对象处，就停止**"
   ]
  },
  {
   "cell_type": "code",
   "execution_count": 82,
   "metadata": {},
   "outputs": [
    {
     "name": "stdout",
     "output_type": "stream",
     "text": [
      "('A', '0')\n",
      "('B', '1')\n",
      "('C', '2')\n"
     ]
    }
   ],
   "source": [
    "for i in zip('ABC', '012345'):      # zip 是内置的，不需要加 itertools\n",
    "    print(i)"
   ]
  },
  {
   "cell_type": "markdown",
   "metadata": {},
   "source": [
    "（2）zip_longest——长拉链\n",
    "\n",
    "长度不一时，执行到最长的对象处，就停止，缺省元素用 None 或者 指定字符 代替"
   ]
  },
  {
   "cell_type": "code",
   "execution_count": 83,
   "metadata": {},
   "outputs": [
    {
     "name": "stdout",
     "output_type": "stream",
     "text": [
      "('A', '0')\n",
      "('B', '1')\n",
      "('C', '2')\n",
      "(None, '3')\n",
      "(None, '4')\n",
      "(None, '5')\n"
     ]
    }
   ],
   "source": [
    "for i in itertools.zip_longest('ABC', '012345'):\n",
    "    print(i)"
   ]
  },
  {
   "cell_type": "code",
   "execution_count": 84,
   "metadata": {},
   "outputs": [
    {
     "name": "stdout",
     "output_type": "stream",
     "text": [
      "('A', '0')\n",
      "('B', '1')\n",
      "('C', '2')\n",
      "('？', '3')\n",
      "('？', '4')\n",
      "('？', '5')\n"
     ]
    }
   ],
   "source": [
    "for i in itertools.zip_longest('ABC', '012345', fillvalue = '？'):\n",
    "    print(i)"
   ]
  },
  {
   "cell_type": "markdown",
   "metadata": {},
   "source": [
    "**3、无穷迭代器**\n",
    "\n",
    "（1）count(start=0, step=1)——计数\n",
    "\n",
    "    创建一个迭代器，它从 start 值开始，返回均匀间隔的值"
   ]
  },
  {
   "cell_type": "raw",
   "metadata": {},
   "source": [
    "itertools.count(10)\n",
    "\n",
    "10\n",
    "11\n",
    "12\n",
    ".\n",
    ".\n",
    "."
   ]
  },
  {
   "cell_type": "markdown",
   "metadata": {},
   "source": [
    "（2）cycle(iterable)——循环\n",
    "    \n",
    "    创建一个迭代器，返回 iterable 中所有元素，无限重复"
   ]
  },
  {
   "cell_type": "raw",
   "metadata": {},
   "source": [
    "itertools.cycle('ABC')\n",
    "\n",
    "A\n",
    "B\n",
    "C\n",
    "A\n",
    "B\n",
    "C\n",
    "A\n",
    ".\n",
    ".\n",
    "."
   ]
  },
  {
   "cell_type": "markdown",
   "metadata": {},
   "source": [
    "（3）repeat(object [, times])——重复\n",
    "\n",
    "    创建一个迭代器，不断重复 object ，除非设定参数 times ，否则将无限重复"
   ]
  },
  {
   "cell_type": "code",
   "execution_count": 86,
   "metadata": {},
   "outputs": [
    {
     "name": "stdout",
     "output_type": "stream",
     "text": [
      "10\n",
      "10\n",
      "10\n"
     ]
    }
   ],
   "source": [
    "for i in itertools.repeat(10, 3):     # 3 是 times(次数)\n",
    "    print(i)"
   ]
  },
  {
   "cell_type": "markdown",
   "metadata": {},
   "source": [
    "**4、其他**\n",
    "\n",
    "（1）chain(iterables)——锁链\n",
    "\n",
    "    把一组迭代对象串联起来，形成一个更大的迭代器"
   ]
  },
  {
   "cell_type": "code",
   "execution_count": 87,
   "metadata": {},
   "outputs": [
    {
     "name": "stdout",
     "output_type": "stream",
     "text": [
      "A\n",
      "B\n",
      "C\n",
      "1\n",
      "2\n",
      "3\n"
     ]
    }
   ],
   "source": [
    "for i in itertools.chain('ABC', [1, 2, 3]):\n",
    "    print(i)"
   ]
  },
  {
   "cell_type": "markdown",
   "metadata": {},
   "source": [
    "（2）enumerate(iterable, start=0)——枚举\n",
    "\n",
    "    产出由两个元素组成的元组，结构是 (index, item), 其中 index 从 start 开始，item 从 iterable 中取"
   ]
  },
  {
   "cell_type": "code",
   "execution_count": 88,
   "metadata": {},
   "outputs": [
    {
     "name": "stdout",
     "output_type": "stream",
     "text": [
      "(1, 'P')\n",
      "(2, 'y')\n",
      "(3, 't')\n",
      "(4, 'h')\n",
      "(5, 'o')\n",
      "(6, 'n')\n"
     ]
    }
   ],
   "source": [
    "for i in enumerate('Python', start=1):\n",
    "    print(i)"
   ]
  },
  {
   "cell_type": "markdown",
   "metadata": {},
   "source": [
    "（3）goupby(iterable, key=None)——分组\n",
    "\n",
    "    创建一个迭代器，按照 key 指定的方式，返回 iterable 中连续的键和组\n",
    "    一般来说，要预先对数据进行排序\n",
    "    key 为 None 默认把连续重复元素分组"
   ]
  },
  {
   "cell_type": "code",
   "execution_count": 90,
   "metadata": {},
   "outputs": [
    {
     "name": "stdout",
     "output_type": "stream",
     "text": [
      "A ['A', 'A', 'A', 'A']\n",
      "B ['B', 'B', 'B']\n",
      "C ['C', 'C']\n",
      "D ['D']\n",
      "A ['A', 'A']\n",
      "B ['B', 'B', 'B']\n"
     ]
    }
   ],
   "source": [
    "for key, group in itertools.groupby('AAAABBBCCDAABBB'):\n",
    "    print(key, list(group))"
   ]
  },
  {
   "cell_type": "code",
   "execution_count": 91,
   "metadata": {},
   "outputs": [
    {
     "name": "stdout",
     "output_type": "stream",
     "text": [
      "['rat', 'duck', 'bear', 'lion', 'eagle', 'shark', 'giraffe', 'dolphin']\n"
     ]
    }
   ],
   "source": [
    "# 一般来说要先排序，因为只能分组连续的重复值\n",
    "\n",
    "animals = ['duck', 'eagle', 'rat', 'giraffe', 'bear', 'dolphin', 'shark', 'lion']\n",
    "animals.sort(key=len)      # 按长度进行排序，使用 len\n",
    "print(animals)"
   ]
  },
  {
   "cell_type": "code",
   "execution_count": 92,
   "metadata": {},
   "outputs": [
    {
     "name": "stdout",
     "output_type": "stream",
     "text": [
      "3 ['rat']\n",
      "4 ['duck', 'bear', 'lion']\n",
      "5 ['eagle', 'shark']\n",
      "7 ['giraffe', 'dolphin']\n"
     ]
    }
   ],
   "source": [
    "for key, group in itertools.groupby(animals, key = len):    # 即按长度进行分组\n",
    "    print(key, list(group))"
   ]
  },
  {
   "cell_type": "code",
   "execution_count": 93,
   "metadata": {},
   "outputs": [
    {
     "name": "stdout",
     "output_type": "stream",
     "text": [
      "['bear', 'duck', 'dolphin', 'eagle', 'giraffe', 'lion', 'rat', 'shark']\n"
     ]
    }
   ],
   "source": [
    "animals = ['duck', 'eagle', 'rat', 'giraffe', 'bear', 'dolphin', 'shark', 'lion']\n",
    "animals.sort(key=lambda x : x[0])\n",
    "print(animals)"
   ]
  },
  {
   "cell_type": "code",
   "execution_count": 94,
   "metadata": {},
   "outputs": [
    {
     "name": "stdout",
     "output_type": "stream",
     "text": [
      "b ['bear']\n",
      "d ['duck', 'dolphin']\n",
      "e ['eagle']\n",
      "g ['giraffe']\n",
      "l ['lion']\n",
      "r ['rat']\n",
      "s ['shark']\n"
     ]
    }
   ],
   "source": [
    "for key, group in itertools.groupby(animals, key=lambda x : x[0]):    # 即按长度进行分组\n",
    "    print(key, list(group))"
   ]
  },
  {
   "cell_type": "markdown",
   "metadata": {},
   "source": [
    "**itertools 其他函数可参考官方文档**"
   ]
  },
  {
   "cell_type": "markdown",
   "metadata": {},
   "source": [
    "# 题目\n",
    "\n",
    "## 题目一 模拟经典的“三门问题”\n",
    "\n",
    "### 经典错法！！！"
   ]
  },
  {
   "cell_type": "code",
   "execution_count": 95,
   "metadata": {},
   "outputs": [],
   "source": [
    "import random\n",
    "import numpy as np"
   ]
  },
  {
   "cell_type": "code",
   "execution_count": 96,
   "metadata": {},
   "outputs": [
    {
     "data": {
      "text/plain": [
       "0.7605582826919427"
      ]
     },
     "execution_count": 96,
     "metadata": {},
     "output_type": "execute_result"
    }
   ],
   "source": [
    "P_A = random.random()   # 打开 A门 赢的概率\n",
    "P_A"
   ]
  },
  {
   "cell_type": "code",
   "execution_count": 97,
   "metadata": {},
   "outputs": [],
   "source": [
    "P_NOT_CHANGE = []       # 不换门的获胜概率\n",
    "P_CHANGE = []           # 换门的获胜概率"
   ]
  },
  {
   "cell_type": "code",
   "execution_count": 98,
   "metadata": {},
   "outputs": [],
   "source": [
    "for i in range(10000):\n",
    "    P_NOT_CHANGE.append(random.random())\n",
    "    P_CHANGE.append(random.random())\n",
    "    \n",
    "P_NOT_CHANGE = np.mean(P_NOT_CHANGE)\n",
    "P_CHANGE = np.mean(P_CHANGE)"
   ]
  },
  {
   "cell_type": "code",
   "execution_count": 99,
   "metadata": {},
   "outputs": [
    {
     "name": "stdout",
     "output_type": "stream",
     "text": [
      "P_NOT_CHANGE = 0.49732063674720656, P_CHANGE = 0.4967559936837499\n"
     ]
    }
   ],
   "source": [
    "print('P_NOT_CHANGE = {}, P_CHANGE = {}'.format(P_NOT_CHANGE, P_CHANGE))"
   ]
  },
  {
   "cell_type": "markdown",
   "metadata": {},
   "source": [
    "### 正确解法之一"
   ]
  },
  {
   "cell_type": "code",
   "execution_count": 100,
   "metadata": {},
   "outputs": [
    {
     "name": "stdout",
     "output_type": "stream",
     "text": [
      "3243\n",
      "6757\n"
     ]
    }
   ],
   "source": [
    "import random\n",
    "P_NOT_CHANGE=0 #不换\n",
    "P_CHANGE=0 #换\n",
    "\n",
    "for i in range(10000): #这意味着我们要做1000次实验\n",
    "    car = random.choice([1,2,3]) #汽车随机出现在三扇门之中\n",
    "    challenger = random.choice([1,2,3]) #挑战者随机选择了一扇门\n",
    "    #以下五行代码：主持人随机选择一扇门，这扇门不是挑战者选择的门，也不是汽车所在的门\n",
    "    host_list = [1,2,3]\n",
    "    host_list.remove(challenger)\n",
    "    if car in host_list:\n",
    "        host_list.remove(car)\n",
    "    host = random.choice(host_list)\n",
    "    \n",
    "    if challenger == car:\n",
    "        P_NOT_CHANGE = P_NOT_CHANGE+1 #如果挑战者一开始选的门背后有汽车，那么不换是对的\n",
    "    else:\n",
    "        P_CHANGE = P_CHANGE+1 #如果挑战者一开始选的门背后没有汽车，那么换是对的\n",
    "    \n",
    "print(P_NOT_CHANGE)\n",
    "print(P_CHANGE)"
   ]
  },
  {
   "cell_type": "markdown",
   "metadata": {},
   "source": [
    "## 题目二 求解经典的“24点问题”"
   ]
  },
  {
   "cell_type": "code",
   "execution_count": 13,
   "metadata": {},
   "outputs": [],
   "source": [
    "import operator\n",
    "from itertools import product, permutations\n",
    "import time"
   ]
  },
  {
   "cell_type": "code",
   "execution_count": 14,
   "metadata": {},
   "outputs": [],
   "source": [
    "def mydiv(n, d):\n",
    "    return n / d if d != 0 else 9999999"
   ]
  },
  {
   "cell_type": "code",
   "execution_count": 15,
   "metadata": {},
   "outputs": [],
   "source": [
    "syms = [operator.add, operator.sub, operator.mul, mydiv]\n",
    "op = {sym: ch for sym, ch in zip(syms, '+-*/')}"
   ]
  },
  {
   "cell_type": "code",
   "execution_count": 16,
   "metadata": {},
   "outputs": [],
   "source": [
    "def solve24(nums):\n",
    "    for x, y, z in product(syms, repeat=3):\n",
    "        for a, b, c, d in permutations(nums):\n",
    "            if round(x(y(a, b), z(c, d)), 5) is 24:\n",
    "                return f'({a} ({op[y]} {b}) {op[x]} ({c} {op[z]}) {d})'\n",
    "            elif round(x(a, y(b, z(c, d))), 5) is 24:\n",
    "                return f'{a} {op[x]} ({b} {op[y]} ({c} {op[z]} {d}))'\n",
    "            elif round(x(y(z(c, d), b), a), 5) is 24:\n",
    "                return f'(({c} {op[z]} {d}) {op[y]} {b}) {op[x]} {a}'\n",
    "            elif round(x(y(b, z(c, d)), a), 5) is 24:\n",
    "                return f'({b} {op[y]} ({c} {op[z]} {d})) {op[x]} {a}'\n",
    "    return 'No Answer!'"
   ]
  },
  {
   "cell_type": "code",
   "execution_count": 17,
   "metadata": {},
   "outputs": [
    {
     "name": "stdout",
     "output_type": "stream",
     "text": [
      "solve24([2, 2, 2, 9]) -> 2 + (2 * (2 + 9))\n",
      "solve24([7, 9, 2, 8]) -> ((7 + 9) * 2) - 8\n",
      "solve24([7, 7, 1, 2]) -> No Answer!\n",
      "solve24([4, 4, 4, 4]) -> (4 (+ 4) + (4 *) 4)\n",
      "solve24([10, 10, 4, 4]) -> No Answer!\n",
      "solve24([5, 5, 1, 5]) -> No Answer!\n",
      "solve24([3, 8, 3, 8]) -> No Answer!\n",
      "All the time spended: 0.02249741554260254s\n"
     ]
    }
   ],
   "source": [
    "start_time = time.time()\n",
    "\n",
    "for nums in [[2, 2, 2, 9],\n",
    "            [7, 9, 2, 8],\n",
    "            [7, 7, 1, 2],\n",
    "            [4, 4, 4, 4],\n",
    "            [10, 10, 4, 4],\n",
    "            [5, 5, 1, 5],\n",
    "            [3, 8, 3, 8]]:\n",
    "    print(f'solve24({nums}) -> {solve24(nums)}')\n",
    "end_time = time.time()\n",
    "\n",
    "print('All the time spended: {}s'.format(end_time - start_time))"
   ]
  }
 ],
 "metadata": {
  "kernelspec": {
   "display_name": "Python 3",
   "language": "python",
   "name": "python3"
  },
  "language_info": {
   "codemirror_mode": {
    "name": "ipython",
    "version": 3
   },
   "file_extension": ".py",
   "mimetype": "text/x-python",
   "name": "python",
   "nbconvert_exporter": "python",
   "pygments_lexer": "ipython3",
   "version": "3.7.2"
  }
 },
 "nbformat": 4,
 "nbformat_minor": 4
}
