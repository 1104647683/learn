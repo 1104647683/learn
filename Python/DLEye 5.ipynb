{
 "cells": [
  {
   "cell_type": "code",
   "execution_count": 3,
   "metadata": {},
   "outputs": [
    {
     "name": "stdout",
     "output_type": "stream",
     "text": [
      "空的\n"
     ]
    }
   ],
   "source": [
    "# 非空\n",
    "ls = [] # 数据结构不为空、变量不为0、None、False 则条件成立\n",
    "if ls:  # 可以自己试一下None或者False\n",
    "    print('非空')\n",
    "else:\n",
    "    print('空的')"
   ]
  },
  {
   "cell_type": "code",
   "execution_count": 5,
   "metadata": {},
   "outputs": [
    {
     "name": "stdout",
     "output_type": "stream",
     "text": [
      "True\n",
      "True\n",
      "False\n",
      "False\n"
     ]
    }
   ],
   "source": [
    "# 非 > 与 > 或；not > and > or\n",
    "print(True or True and False)\n",
    "print(True or False and False)\n",
    "print((True or True) and False)\n",
    "print((True or False) and False)"
   ]
  },
  {
   "cell_type": "code",
   "execution_count": 6,
   "metadata": {},
   "outputs": [],
   "source": [
    "# 存在运算 in、not in"
   ]
  },
  {
   "cell_type": "code",
   "execution_count": 7,
   "metadata": {},
   "outputs": [],
   "source": [
    "# 判断分支语句\n",
    "# if:\n",
    "# if:\\  else:\n",
    "# if:\\  elif:\\ else:"
   ]
  },
  {
   "cell_type": "code",
   "execution_count": 8,
   "metadata": {},
   "outputs": [],
   "source": [
    "# 嵌套语句 缩进\n",
    "# 而输入常用 eval(input('*******'))\n",
    "# 或者 bool(eval(input('*******'))) 判断1、0、True、False"
   ]
  },
  {
   "cell_type": "code",
   "execution_count": 12,
   "metadata": {},
   "outputs": [
    {
     "name": "stdout",
     "output_type": "stream",
     "text": [
      "This is number——3\n",
      "This is number——2\n",
      "This is number——0\n",
      "This is number——9\n",
      "1 aaa\n",
      "2 bbb\n",
      "3 ccc\n",
      "1\n",
      "2\n",
      "3\n",
      "[256, 324, 400, 484, 576]\n",
      "99960004\n"
     ]
    }
   ],
   "source": [
    "# 遍历循环语句 for\n",
    "\n",
    "# 直接迭代————列表[]、元组()、集合{}、字符串\"\"\n",
    "t = ('3', '2', '0', '9')\n",
    "for i in t:\n",
    "    print('This is number——'+i)\n",
    "    \n",
    "# 变换迭代————字典\n",
    "d = {1: 'aaa', 2: 'bbb', 3: 'ccc'}\n",
    "for k, v in d.items():\n",
    "    print(k, v)\n",
    "for i in d:\n",
    "    print(i)\n",
    "    \n",
    "# range()对象\n",
    "res = []\n",
    "for i in range(16,10000,2):\n",
    "    res.append(i**2)\n",
    "print(res[:5])\n",
    "print(res[-1])"
   ]
  },
  {
   "cell_type": "code",
   "execution_count": 13,
   "metadata": {},
   "outputs": [],
   "source": [
    "# 循环控制 break 和 continue\n",
    "\n",
    "# break 结束整个循环\n",
    "# continue 结束本次循环\n",
    "# 如果 for 循环全部执行完毕，没有被 break 中止，则运行 else"
   ]
  },
  {
   "cell_type": "code",
   "execution_count": 15,
   "metadata": {},
   "outputs": [
    {
     "name": "stdin",
     "output_type": "stream",
     "text": [
      ">>: 18\n"
     ]
    },
    {
     "name": "stdout",
     "output_type": "stream",
     "text": [
      "恭喜你，猜对了！！！\n"
     ]
    }
   ],
   "source": [
    "# 无限循环————while 循环（条件循环）\n",
    "\n",
    "# 当要运行最后一次，又不知道要多少次的时候\n",
    "# 风向标 flag\n",
    "alber_age = 18\n",
    "flag = True      # 布尔类型\n",
    "while flag:\n",
    "    guess = int(input('>>:'))\n",
    "    if guess > alber_age :\n",
    "        print('猜得太大了... ...')\n",
    "    elif guess < alber_age :\n",
    "        print('猜得太小了... ...')\n",
    "    else :\n",
    "        print('恭喜你，猜对了！！！')\n",
    "        flag = False   # 条件满足，风向改变"
   ]
  },
  {
   "cell_type": "code",
   "execution_count": 16,
   "metadata": {},
   "outputs": [],
   "source": [
    "# 循环逐层判断，当flag 为False 时，循环会退出\n",
    "flag = True\n",
    "while flag:\n",
    "    pass\n",
    "    while flag:\n",
    "        pass\n",
    "        while flag:\n",
    "            flag = False"
   ]
  },
  {
   "cell_type": "code",
   "execution_count": 17,
   "metadata": {},
   "outputs": [],
   "source": [
    "# while 也可以和 else 配合"
   ]
  },
  {
   "cell_type": "code",
   "execution_count": 20,
   "metadata": {},
   "outputs": [
    {
     "name": "stdout",
     "output_type": "stream",
     "text": [
      "太复杂\n",
      "应该这样\n"
     ]
    }
   ],
   "source": [
    "# 控制语句注意问题\n",
    "\n",
    "# 1、尽可能减少多层嵌套 if:if:if... ，可读性差\n",
    "# 2、避免死循环\n",
    "# 3、封装过于复杂的判断条件，实在复杂则考虑将 ‘条件’ 封装成 ‘函数’\n",
    "\n",
    "a, b, c, d, e = 10, 4, 9, 6, 0\n",
    "if (a > b) and (c > d) and (not e):\n",
    "    print('太复杂')\n",
    "    \n",
    "##############################################################\n",
    "    \n",
    "numbers = (10, 4, 9, 6, 0)\n",
    "\n",
    "def judge(num):\n",
    "    a, b, c, d, e = num\n",
    "    x = a > b\n",
    "    y = c > d\n",
    "    z = not e\n",
    "    return x and y and z\n",
    "\n",
    "if judge(numbers):\n",
    "    print('应该这样')"
   ]
  },
  {
   "cell_type": "code",
   "execution_count": 21,
   "metadata": {},
   "outputs": [],
   "source": [
    "## 题目"
   ]
  },
  {
   "cell_type": "code",
   "execution_count": 25,
   "metadata": {},
   "outputs": [
    {
     "name": "stdout",
     "output_type": "stream",
     "text": [
      "U can get 0 yuan\n",
      "U can get 50 yuan\n"
     ]
    }
   ],
   "source": [
    "# 摸球奖金\n",
    "\n",
    "ball = 'black'\n",
    "ball1 = 'purple'\n",
    "\n",
    "def ballgame(color):\n",
    "    if color is 'black'    :return 0\n",
    "    if color is 'white'    :return 10\n",
    "    if color is 'blue'     :return 20\n",
    "    if color is 'pink'     :return 30\n",
    "    if color is 'purple'   :return 50\n",
    "    if color is 'colorful' :return 100\n",
    "\n",
    "print('U can get {} yuan'.format(ballgame(ball)))\n",
    "print('U can get {} yuan'.format(ballgame(ball1)))"
   ]
  },
  {
   "cell_type": "code",
   "execution_count": 34,
   "metadata": {},
   "outputs": [
    {
     "name": "stdout",
     "output_type": "stream",
     "text": [
      "1×1=1 \n",
      "2×1=2 2×2=4 \n",
      "3×1=3 3×2=6 3×3=9 \n",
      "4×1=4 4×2=8 4×3=12 4×4=16 \n",
      "5×1=5 5×2=10 5×3=15 5×4=20 5×5=25 \n",
      "6×1=6 6×2=12 6×3=18 6×4=24 6×5=30 6×6=36 \n",
      "7×1=7 7×2=14 7×3=21 7×4=28 7×5=35 7×6=42 7×7=49 \n",
      "8×1=8 8×2=16 8×3=24 8×4=32 8×5=40 8×6=48 8×7=56 8×8=64 \n",
      "9×1=9 9×2=18 9×3=27 9×4=36 9×5=45 9×6=54 9×7=63 9×8=72 9×9=81 \n"
     ]
    }
   ],
   "source": [
    "# 九九乘法表\n",
    "\n",
    "x,y = 1,1\n",
    "for x in range(1, 10):\n",
    "    for y in range(1, x + 1):\n",
    "        print('{}×{}={}'.format(x,y,x*y), end=' ')\n",
    "    print()"
   ]
  },
  {
   "cell_type": "code",
   "execution_count": 36,
   "metadata": {},
   "outputs": [
    {
     "name": "stdin",
     "output_type": "stream",
     "text": [
      "请输入学生学号、姓名、性别: q q q\n"
     ]
    },
    {
     "name": "stdout",
     "output_type": "stream",
     "text": [
      "q ('q', 'q')\n"
     ]
    }
   ],
   "source": [
    "# 输入学生信息\n",
    "# 不完整，可以用风向标\n",
    "\n",
    "students_of_grade3_class2 = {}   \n",
    "\n",
    "\n",
    "while True:\n",
    "    student_id, student_name, student_gender = input('请输入学生学号、姓名、性别:').split(' ')\n",
    "    students_of_grade3_class2[student_id] = (student_name, student_gender)\n",
    "    if student_id in ['Q', 'q']:\n",
    "        break\n",
    "        \n",
    "for k, v in students_of_grade3_class2.items():\n",
    "    print(k, v)"
   ]
  }
 ],
 "metadata": {
  "kernelspec": {
   "display_name": "Python 3",
   "language": "python",
   "name": "python3"
  },
  "language_info": {
   "codemirror_mode": {
    "name": "ipython",
    "version": 3
   },
   "file_extension": ".py",
   "mimetype": "text/x-python",
   "name": "python",
   "nbconvert_exporter": "python",
   "pygments_lexer": "ipython3",
   "version": "3.7.2"
  }
 },
 "nbformat": 4,
 "nbformat_minor": 4
}
