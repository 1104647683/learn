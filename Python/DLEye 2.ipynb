{
 "cells": [
  {
   "cell_type": "code",
   "execution_count": 1,
   "metadata": {},
   "outputs": [],
   "source": [
    "# 类名：驼峰体 AgeOfStudents\n",
    "# 常量：全大写 MAXNUMBER\n",
    "# 符号前/后记得加空格\n",
    "# 为了格式，数字可能右对齐"
   ]
  },
  {
   "cell_type": "code",
   "execution_count": 3,
   "metadata": {},
   "outputs": [
    {
     "name": "stdout",
     "output_type": "stream",
     "text": [
      "1 2\n"
     ]
    }
   ],
   "source": [
    "# 多赋值\n",
    "a,b = 1,2\n",
    "print(a,b)"
   ]
  },
  {
   "cell_type": "code",
   "execution_count": 1,
   "metadata": {},
   "outputs": [
    {
     "name": "stdout",
     "output_type": "stream",
     "text": [
      "Please input a number:4\n"
     ]
    },
    {
     "data": {
      "text/plain": [
       "'4'"
      ]
     },
     "execution_count": 1,
     "metadata": {},
     "output_type": "execute_result"
    }
   ],
   "source": [
    "# 输入输出\n",
    "# 1/外部文件导入\n",
    "# 2/文件中定义\n",
    "# 3/动态交互（input）\n",
    "x = input('Please input a number:')\n",
    "x"
   ]
  },
  {
   "cell_type": "code",
   "execution_count": 6,
   "metadata": {},
   "outputs": [
    {
     "name": "stdout",
     "output_type": "stream",
     "text": [
      "4\n"
     ]
    },
    {
     "data": {
      "text/plain": [
       "str"
      ]
     },
     "execution_count": 6,
     "metadata": {},
     "output_type": "execute_result"
    }
   ],
   "source": [
    "print(x)\n",
    "type(x)"
   ]
  },
  {
   "cell_type": "code",
   "execution_count": 2,
   "metadata": {},
   "outputs": [
    {
     "name": "stdout",
     "output_type": "stream",
     "text": [
      "Please input a number:8.8\n"
     ]
    },
    {
     "data": {
      "text/plain": [
       "8.8"
      ]
     },
     "execution_count": 2,
     "metadata": {},
     "output_type": "execute_result"
    }
   ],
   "source": [
    "# eval()去除引号，直接input会有引号\n",
    "y = eval(input('Please input a number:'))\n",
    "y"
   ]
  },
  {
   "cell_type": "code",
   "execution_count": 3,
   "metadata": {},
   "outputs": [
    {
     "name": "stdout",
     "output_type": "stream",
     "text": [
      "xxx\n",
      "1\n",
      "8.8\n"
     ]
    }
   ],
   "source": [
    "# print默认换行\n",
    "print('xxx')# str\n",
    "print(1)# num\n",
    "print(y)# var"
   ]
  },
  {
   "cell_type": "code",
   "execution_count": 4,
   "metadata": {},
   "outputs": [
    {
     "name": "stdout",
     "output_type": "stream",
     "text": [
      "111here110\n"
     ]
    }
   ],
   "source": [
    "# 不想换行，用换行控制end=\n",
    "print(111,end='here')\n",
    "print(110)"
   ]
  },
  {
   "cell_type": "code",
   "execution_count": 5,
   "metadata": {},
   "outputs": [
    {
     "name": "stdout",
     "output_type": "stream",
     "text": [
      "PI =  3.1415926 E =  2.71828\n"
     ]
    }
   ],
   "source": [
    "# 组合输出\n",
    "PI = 3.1415926\n",
    "E = 2.71828\n",
    "print('PI = ', PI, 'E = ', E)"
   ]
  },
  {
   "cell_type": "code",
   "execution_count": 6,
   "metadata": {},
   "outputs": [
    {
     "name": "stdout",
     "output_type": "stream",
     "text": [
      "PI = 3.1415926, E = 2.71828\n"
     ]
    }
   ],
   "source": [
    "# 格式化输出format,不写是默认顺序，写了按照index填充\n",
    "print('PI = {0}, E = {1}'.format(PI, E))"
   ]
  },
  {
   "cell_type": "code",
   "execution_count": 16,
   "metadata": {},
   "outputs": [
    {
     "name": "stdout",
     "output_type": "stream",
     "text": [
      "__________3.1415926___________\n",
      "2.71828*************\n",
      "%%%%%%%%%%%1,000,000\n"
     ]
    }
   ],
   "source": [
    "# 填充输出\n",
    "print('{0:_^30}'.format(PI))# ^居中，数字是总宽度\n",
    "print('{0:*<20}'.format(E))# <在后面，>在前面\n",
    "print('{0:%>20,}'.format(1000000))# 千分位分隔符加，"
   ]
  },
  {
   "cell_type": "code",
   "execution_count": 18,
   "metadata": {},
   "outputs": [
    {
     "name": "stdout",
     "output_type": "stream",
     "text": [
      "3.14\n"
     ]
    }
   ],
   "source": [
    "# 浮点数简化输出\n",
    "print('{0:.2f}'.format(PI))"
   ]
  },
  {
   "cell_type": "code",
   "execution_count": 21,
   "metadata": {},
   "outputs": [
    {
     "name": "stdout",
     "output_type": "stream",
     "text": [
      "89.0%\n",
      "1.00e+00\n"
     ]
    }
   ],
   "source": [
    "# 按百分位输出,科学计数法输出\n",
    "print('{0:.1%}'.format(0.88999))\n",
    "print('{0:.2e}'.format(0.99999))"
   ]
  },
  {
   "cell_type": "code",
   "execution_count": 23,
   "metadata": {},
   "outputs": [
    {
     "name": "stdout",
     "output_type": "stream",
     "text": [
      "二进制11111010,Unicodeú,十进制250，八进制372,十六进制fa\n"
     ]
    }
   ],
   "source": [
    "# 进制转换输出\n",
    "print(\"二进制{0:b},Unicode{0:c},十进制{0:d}，八进制{0:o},十六进制{0:x}\".format(250))"
   ]
  },
  {
   "cell_type": "code",
   "execution_count": 26,
   "metadata": {},
   "outputs": [
    {
     "data": {
      "text/plain": [
       "'\\n*print(2)'"
      ]
     },
     "execution_count": 26,
     "metadata": {},
     "output_type": "execute_result"
    }
   ],
   "source": [
    "# 单行注释\n",
    "\"\"\"\n",
    "*print(2)\"\"\""
   ]
  }
 ],
 "metadata": {
  "kernelspec": {
   "display_name": "Python 3",
   "language": "python",
   "name": "python3"
  },
  "language_info": {
   "codemirror_mode": {
    "name": "ipython",
    "version": 3
   },
   "file_extension": ".py",
   "mimetype": "text/x-python",
   "name": "python",
   "nbconvert_exporter": "python",
   "pygments_lexer": "ipython3",
   "version": "3.7.6"
  }
 },
 "nbformat": 4,
 "nbformat_minor": 4
}
