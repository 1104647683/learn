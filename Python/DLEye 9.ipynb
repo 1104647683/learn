{
 "cells": [
  {
   "cell_type": "markdown",
   "metadata": {},
   "source": [
    "# 有益的探索\n",
    "\n",
    "## 数据类型的底层实现\n",
    "\n",
    "### 从奇怪的列表说起\n",
    "\n",
    "1、错综复杂的复制"
   ]
  },
  {
   "cell_type": "code",
   "execution_count": 1,
   "metadata": {},
   "outputs": [],
   "source": [
    "list_1 = [1, [22, 33, 44], (5, 6, 7), {'name': 'Sarah'}]"
   ]
  },
  {
   "cell_type": "code",
   "execution_count": 2,
   "metadata": {},
   "outputs": [],
   "source": [
    "# 浅拷贝\n",
    "\n",
    "# list_3 = list_1                # 错误\n",
    "list_2 = list_1.copy()           # 或者list_1[:] \\ lsit(lsit_1)均可实现浅拷贝"
   ]
  },
  {
   "cell_type": "code",
   "execution_count": 3,
   "metadata": {},
   "outputs": [
    {
     "name": "stdout",
     "output_type": "stream",
     "text": [
      "list_1:  [1, [22, 33, 44, 55], (5, 6, 7), {'name': 'Sarah'}]\n",
      "list_2:  [1, [22, 33, 44, 55], (5, 6, 7), {'name': 'Sarah'}]\n"
     ]
    }
   ],
   "source": [
    "# 对浅拷贝前后两列表分别进行操作\n",
    "\n",
    "list_2[1].append(55)\n",
    "\n",
    "print('list_1: ', list_1)\n",
    "print('list_2: ', list_2)\n",
    "\n",
    "# 浅拷贝只是拷贝了地址"
   ]
  },
  {
   "cell_type": "markdown",
   "metadata": {},
   "source": [
    "2、列表的底层实现\n",
    "\n",
    "引用数组概念  \n",
    "\n",
    "列表内的元素可以分散的存储在内存中\n",
    "\n",
    "列表存储的，实际上是这些元素的地址！！！—————地址的存储在内存中是连续的"
   ]
  },
  {
   "cell_type": "markdown",
   "metadata": {},
   "source": [
    "（1）新增元素"
   ]
  },
  {
   "cell_type": "code",
   "execution_count": 4,
   "metadata": {},
   "outputs": [
    {
     "name": "stdout",
     "output_type": "stream",
     "text": [
      "list_1:  [1, [22, 33, 44, 55], (5, 6, 7), {'name': 'Sarah'}, 100]\n",
      "list_2:  [1, [22, 33, 44, 55], (5, 6, 7), {'name': 'Sarah'}, 'n']\n"
     ]
    }
   ],
   "source": [
    "list_1.append(100)\n",
    "list_2.append('n')\n",
    "\n",
    "print('list_1: ', list_1)\n",
    "print('list_2: ', list_2)"
   ]
  },
  {
   "cell_type": "markdown",
   "metadata": {},
   "source": [
    "（2）修改元素"
   ]
  },
  {
   "cell_type": "code",
   "execution_count": 5,
   "metadata": {},
   "outputs": [
    {
     "name": "stdout",
     "output_type": "stream",
     "text": [
      "list_1:  [10, [22, 33, 44, 55], (5, 6, 7), {'name': 'Sarah'}, 100]\n",
      "list_2:  [20, [22, 33, 44, 55], (5, 6, 7), {'name': 'Sarah'}, 'n']\n"
     ]
    }
   ],
   "source": [
    "list_1[0] = 10\n",
    "list_2[0] = 20\n",
    "\n",
    "print('list_1: ', list_1)\n",
    "print('list_2: ', list_2)"
   ]
  },
  {
   "cell_type": "markdown",
   "metadata": {},
   "source": [
    "（3）对列表型元素进行操作"
   ]
  },
  {
   "cell_type": "code",
   "execution_count": 6,
   "metadata": {},
   "outputs": [
    {
     "name": "stdout",
     "output_type": "stream",
     "text": [
      "list_1:  [10, [22, 33, 55, 55, 66], (5, 6, 7), {'name': 'Sarah'}, 100]\n",
      "list_2:  [20, [22, 33, 55, 55, 66], (5, 6, 7), {'name': 'Sarah'}, 'n']\n"
     ]
    }
   ],
   "source": [
    "list_1[1].remove(44)\n",
    "list_2[1] += [55, 66]\n",
    "\n",
    "print('list_1: ', list_1)\n",
    "print('list_2: ', list_2)\n",
    "\n",
    "# 列表的地址 是 地址列表，是一串"
   ]
  },
  {
   "cell_type": "markdown",
   "metadata": {},
   "source": [
    "（4）对元组型元素进行操作"
   ]
  },
  {
   "cell_type": "code",
   "execution_count": 8,
   "metadata": {},
   "outputs": [
    {
     "name": "stdout",
     "output_type": "stream",
     "text": [
      "list_1:  [10, [22, 33, 55, 55, 66], (5, 6, 7), {'name': 'Sarah'}, 100]\n",
      "list_2:  [20, [22, 33, 55, 55, 66], (5, 6, 7, 8, 9), {'name': 'Sarah'}, 'n']\n"
     ]
    }
   ],
   "source": [
    "list_2[2] += (8,9)\n",
    "\n",
    "print('list_1: ', list_1)\n",
    "print('list_2: ', list_2)\n",
    "\n",
    "# 元组的地址 也是 地址元组，也是一串\n",
    "# 但元组不可变，所以会生成一个 新的地址元组"
   ]
  },
  {
   "cell_type": "markdown",
   "metadata": {},
   "source": [
    "**元组是不可变的！！！**"
   ]
  },
  {
   "cell_type": "markdown",
   "metadata": {},
   "source": [
    "（5）对字典型元素进行操作"
   ]
  },
  {
   "cell_type": "code",
   "execution_count": 9,
   "metadata": {},
   "outputs": [
    {
     "name": "stdout",
     "output_type": "stream",
     "text": [
      "list_1:  [10, [22, 33, 55, 55, 66], (5, 6, 7), {'name': 'Sarah', 'age': 18}, 100]\n",
      "list_2:  [20, [22, 33, 55, 55, 66], (5, 6, 7, 8, 9), {'name': 'Sarah', 'age': 18}, 'n']\n"
     ]
    }
   ],
   "source": [
    "list_1[-2]['age'] = 18\n",
    "\n",
    "print('list_1: ', list_1)\n",
    "print('list_2: ', list_2)\n",
    "\n",
    "# 字典是通过 散列表 存储的"
   ]
  },
  {
   "cell_type": "markdown",
   "metadata": {},
   "source": [
    "3、引入深拷贝\n",
    "\n",
    "浅拷贝之后\n",
    "- 针对不可变元素（数字、字符串、元组）的操作，都各自生效了\n",
    "- 针对不可变元素（列表、集合）的操作，发生了一些混淆"
   ]
  },
  {
   "cell_type": "markdown",
   "metadata": {},
   "source": [
    "引入深拷贝\n",
    "- 深拷贝将所有层级的相关元素全部复制，完全分开，泾渭分明，避免了上述问题"
   ]
  },
  {
   "cell_type": "code",
   "execution_count": 10,
   "metadata": {},
   "outputs": [
    {
     "name": "stdout",
     "output_type": "stream",
     "text": [
      "list_1:  [1, [22, 33, 44], (5, 6, 7), {'name': 'Sarah', 'age': 18}]\n",
      "list_2:  [1, [22, 33, 44, 55], (5, 6, 7), {'name': 'Sarah'}]\n"
     ]
    }
   ],
   "source": [
    "import copy\n",
    "\n",
    "list_1 = [1, [22, 33, 44], (5, 6, 7), {'name': 'Sarah'}]\n",
    "list_2 = copy.deepcopy(list_1)\n",
    "list_1[-1]['age'] = 18\n",
    "list_2[1].append(55)\n",
    "\n",
    "print('list_1: ', list_1)\n",
    "print('list_2: ', list_2)"
   ]
  },
  {
   "cell_type": "markdown",
   "metadata": {},
   "source": [
    "### 神秘的字典\n",
    "\n",
    "1、快速的查找"
   ]
  },
  {
   "cell_type": "code",
   "execution_count": 11,
   "metadata": {},
   "outputs": [
    {
     "name": "stdout",
     "output_type": "stream",
     "text": [
      "查找1000个元素，在ls_1列表中的有500个，共用时5.51秒。\n"
     ]
    }
   ],
   "source": [
    "import time\n",
    "\n",
    "ls_1 = list(range(1000000))\n",
    "ls_2 = list(range(500))+[-10]*500\n",
    "\n",
    "start = time.time()\n",
    "count = 0\n",
    "for n in ls_2:\n",
    "    if n in ls_1:\n",
    "        count += 1\n",
    "end = time.time()\n",
    "print('查找{}个元素，在ls_1列表中的有{}个，共用时{}秒。'.format(len(ls_2), count, round((end-start),2)))    "
   ]
  },
  {
   "cell_type": "code",
   "execution_count": 13,
   "metadata": {},
   "outputs": [
    {
     "name": "stdout",
     "output_type": "stream",
     "text": [
      "查找1000个元素，在ls_1列表中的有500个，共用时0秒。\n"
     ]
    }
   ],
   "source": [
    "import time\n",
    "\n",
    "d = {i:i for i in range(1000000)}\n",
    "ls_2 = list(range(500))+[-10]*500\n",
    "\n",
    "start = time.time()\n",
    "count = 0\n",
    "for n in ls_2:\n",
    "    try:\n",
    "        d[n]\n",
    "    except:\n",
    "        pass\n",
    "    else:\n",
    "        count += 1\n",
    "end = time.time()\n",
    "print('查找{}个元素，在ls_1列表中的有{}个，共用时{}秒。'.format(len(ls_2), count, round((end-start))))    "
   ]
  },
  {
   "cell_type": "markdown",
   "metadata": {},
   "source": [
    "2、字典的底层实现\n",
    "\n",
    "通过稀疏数组来实现值的存储与访问\n",
    "\n",
    "**字典的创建过程**\n",
    "\n",
    "- 第一步：创建一个散列表（稀疏数组 N>>n）"
   ]
  },
  {
   "cell_type": "code",
   "execution_count": 14,
   "metadata": {},
   "outputs": [],
   "source": [
    "d = {}"
   ]
  },
  {
   "cell_type": "markdown",
   "metadata": {},
   "source": [
    "- 第二步：通过 hash() 计算键的散列值"
   ]
  },
  {
   "cell_type": "code",
   "execution_count": 17,
   "metadata": {},
   "outputs": [
    {
     "name": "stdout",
     "output_type": "stream",
     "text": [
      "721202377029526252\n",
      "1024\n",
      "3713081631934410656\n"
     ]
    }
   ],
   "source": [
    "print(hash('Python'))\n",
    "print(hash(1024))\n",
    "print(hash((1,2)))"
   ]
  },
  {
   "cell_type": "code",
   "execution_count": 18,
   "metadata": {},
   "outputs": [
    {
     "name": "stdout",
     "output_type": "stream",
     "text": [
      "772815007290302243\n"
     ]
    }
   ],
   "source": [
    "d['age'] = 18      # 增加键值对的操作，首先会计算键的散列值 hash('age')\n",
    "print(hash('age'))"
   ]
  },
  {
   "cell_type": "markdown",
   "metadata": {},
   "source": [
    "- 第三步：根据计算的散列表确定其在散列表中的位置\n",
    "\n",
    "极个别时候，散列值会发生冲突，则内部有相应的解决冲突的办法\n",
    "\n",
    "- 第四步：在该位置上存入值"
   ]
  },
  {
   "cell_type": "markdown",
   "metadata": {},
   "source": [
    "**键值对的访问过程**"
   ]
  },
  {
   "cell_type": "code",
   "execution_count": 19,
   "metadata": {},
   "outputs": [
    {
     "data": {
      "text/plain": [
       "18"
      ]
     },
     "execution_count": 19,
     "metadata": {},
     "output_type": "execute_result"
    }
   ],
   "source": [
    "d['age']"
   ]
  },
  {
   "cell_type": "markdown",
   "metadata": {},
   "source": [
    "- 第一步：计算要访问的键的散列值\n",
    "\n",
    "- 第二步：根据计算的散列值，通过一定的规则，确定其在散列表中的位置\n",
    "\n",
    "- 第三步：读取该位置上存储的值\n",
    "\n",
    "        如果存在，则返回该值\n",
    "        如果不存在，则报错KeyError"
   ]
  },
  {
   "cell_type": "markdown",
   "metadata": {},
   "source": [
    "**小结**\n",
    "\n",
    "（1）字典数据类型，通过空间换时间，实现了快速的数据查找\n",
    "\n",
    "- 也就注定了字典的空间利用效率地下\n",
    "\n",
    "（2）因为散列值对应位置的顺序与键在字典中显示的顺序可能不同，因此表现出来字典是无序的\n",
    "\n",
    "- 回顾一下 N>>n\n",
    "  如果 N = n ，会发生很多位置冲突\n",
    "    \n",
    "- 思考一下开头的小例子，为什么字典实现了比列表的查找\n"
   ]
  },
  {
   "cell_type": "markdown",
   "metadata": {},
   "source": [
    "### 紧凑的字符串\n",
    "\n",
    "通过紧凑数组实现字符串的存储\n",
    "\n",
    "- 数据在内存中是连续存放的，效率更高，节省空间\n",
    "\n",
    "- 思考一下，同为序列类型，为什么列表采用数组，而字符串采用紧凑数组\n",
    "\n",
    "        列表可变，无法预留相应的地址上的空间；而字符串是字符组成，固定，可预留"
   ]
  },
  {
   "cell_type": "markdown",
   "metadata": {},
   "source": [
    "**是否可变**\n",
    "\n",
    "**1、不可变类型：数字、字符串、元组**\n",
    "\n",
    "在生命周期中保持内容不变\n",
    "\n",
    "- 换句话说，改变了就不是他自己了（id变了）\n",
    "\n",
    "- 不可变对象的 += 操作，实际上创建了一个新的对象"
   ]
  },
  {
   "cell_type": "code",
   "execution_count": 21,
   "metadata": {},
   "outputs": [
    {
     "name": "stdout",
     "output_type": "stream",
     "text": [
      "x id:  140732693799760\n",
      "y id:  1825731268536\n"
     ]
    }
   ],
   "source": [
    "x = 1\n",
    "y = 'Python'\n",
    "\n",
    "print('x id: ', id(x))\n",
    "print('y id: ', id(y))"
   ]
  },
  {
   "cell_type": "code",
   "execution_count": 22,
   "metadata": {},
   "outputs": [
    {
     "name": "stdout",
     "output_type": "stream",
     "text": [
      "x id:  140732693799824\n",
      "y id:  1825797647280\n"
     ]
    }
   ],
   "source": [
    "x += 2\n",
    "y += '3.7'\n",
    "\n",
    "print('x id: ', id(x))\n",
    "print('y id: ', id(y))"
   ]
  },
  {
   "cell_type": "markdown",
   "metadata": {},
   "source": [
    "**元组并不是总是不可变的**"
   ]
  },
  {
   "cell_type": "code",
   "execution_count": 23,
   "metadata": {},
   "outputs": [
    {
     "name": "stdout",
     "output_type": "stream",
     "text": [
      "(1, [2, 3])\n"
     ]
    }
   ],
   "source": [
    "# 元组内部元素都不可变时，才是不可变！！！\n",
    "\n",
    "t = (1, [2])\n",
    "t[1].append(3)\n",
    "\n",
    "print(t)"
   ]
  },
  {
   "cell_type": "markdown",
   "metadata": {},
   "source": [
    "**可变类型：列表、字典、集合**\n",
    "\n",
    "- id 保持不变，但里面的内容可以变\n",
    "\n",
    "- 可变对象的 += 操作，实际在原对象的基础上就地修改"
   ]
  },
  {
   "cell_type": "code",
   "execution_count": 24,
   "metadata": {},
   "outputs": [
    {
     "name": "stdout",
     "output_type": "stream",
     "text": [
      "ls id:  1825788116168\n",
      "d id:  1825788501376\n"
     ]
    }
   ],
   "source": [
    "ls = [1, 2, 3]\n",
    "d = {'Name': 'Sarah', 'Age': 18}\n",
    "\n",
    "print('ls id: ', id(ls))\n",
    "print('d id: ', id(d))"
   ]
  },
  {
   "cell_type": "code",
   "execution_count": 25,
   "metadata": {},
   "outputs": [
    {
     "name": "stdout",
     "output_type": "stream",
     "text": [
      "ls id:  1825788116168\n",
      "d id:  1825788501376\n"
     ]
    }
   ],
   "source": [
    "ls += [4, 5]\n",
    "d_2 = {'Sex': 'female'}\n",
    "d.update(d_2)                # 将 d_2 中的元素更新到 d 中\n",
    "\n",
    "print('ls id: ', id(ls))\n",
    "print('d id: ', id(d))"
   ]
  },
  {
   "cell_type": "markdown",
   "metadata": {},
   "source": [
    "### 列表操作的几个小例子"
   ]
  },
  {
   "cell_type": "markdown",
   "metadata": {},
   "source": [
    "**【例1】删除列表内的特定元素**\n",
    "\n",
    "- 方法1 存在运算删除法\n",
    "\n",
    "缺点：每次存在运算，都要从头对列表进行遍历、查找、效率低"
   ]
  },
  {
   "cell_type": "code",
   "execution_count": 26,
   "metadata": {},
   "outputs": [
    {
     "name": "stdout",
     "output_type": "stream",
     "text": [
      "['2', '2', '4']\n"
     ]
    }
   ],
   "source": [
    "alist = ['d', 'd', 'd', '2', '2', 'd', 'd', '4']\n",
    "s = 'd'\n",
    "while True:\n",
    "    if s in alist:\n",
    "        alist.remove(s)\n",
    "    else:\n",
    "        break\n",
    "print(alist)"
   ]
  },
  {
   "cell_type": "markdown",
   "metadata": {},
   "source": [
    "- 方法2 一次性遍历元素执行删除"
   ]
  },
  {
   "cell_type": "code",
   "execution_count": 27,
   "metadata": {},
   "outputs": [
    {
     "name": "stdout",
     "output_type": "stream",
     "text": [
      "['2', '2', 'd', 'd', '4']\n"
     ]
    }
   ],
   "source": [
    "alist = ['d', 'd', 'd', '2', '2', 'd', 'd', '4']\n",
    "for s in alist:\n",
    "    if s is 'd':\n",
    "        alist.remove(s)           # remove(s) 删除列表中第一次出现的该元素\n",
    "print(alist)\n",
    "\n",
    "# 因为列表会缩短，下标变化了\n",
    "# 然后每次识别出来就启动 remove 删除列表第一个 'd'"
   ]
  },
  {
   "cell_type": "markdown",
   "metadata": {},
   "source": [
    "解决方法：使用负向索引"
   ]
  },
  {
   "cell_type": "code",
   "execution_count": 30,
   "metadata": {},
   "outputs": [
    {
     "name": "stdout",
     "output_type": "stream",
     "text": [
      "['2', '2', '4']\n"
     ]
    }
   ],
   "source": [
    "alist = ['d', 'd', 'd', '2', '2', 'd', 'd', '4']\n",
    "for i in range(-len(alist), 0):\n",
    "    if alist[i] is 'd':\n",
    "        alist.remove(alist[i])           # remove(s) 删除列表中第一次出现的该元素\n",
    "print(alist)"
   ]
  },
  {
   "cell_type": "markdown",
   "metadata": {},
   "source": [
    "**【例2】多维列表的创建**"
   ]
  },
  {
   "cell_type": "code",
   "execution_count": 31,
   "metadata": {},
   "outputs": [
    {
     "data": {
      "text/plain": [
       "[[0, 0, 0, 0, 0, 0, 0, 0, 0, 0],\n",
       " [0, 0, 0, 0, 0, 0, 0, 0, 0, 0],\n",
       " [0, 0, 0, 0, 0, 0, 0, 0, 0, 0],\n",
       " [0, 0, 0, 0, 0, 0, 0, 0, 0, 0],\n",
       " [0, 0, 0, 0, 0, 0, 0, 0, 0, 0]]"
      ]
     },
     "execution_count": 31,
     "metadata": {},
     "output_type": "execute_result"
    }
   ],
   "source": [
    "ls = [[0]*10]*5\n",
    "ls"
   ]
  },
  {
   "cell_type": "code",
   "execution_count": 32,
   "metadata": {},
   "outputs": [
    {
     "data": {
      "text/plain": [
       "[[0, 0, 0, 0, 0, 0, 0, 0, 0, 0]]"
      ]
     },
     "execution_count": 32,
     "metadata": {},
     "output_type": "execute_result"
    }
   ],
   "source": [
    "[[0]*10]"
   ]
  },
  {
   "cell_type": "code",
   "execution_count": 33,
   "metadata": {},
   "outputs": [
    {
     "data": {
      "text/plain": [
       "[[1, 0, 0, 0, 0, 0, 0, 0, 0, 0],\n",
       " [1, 0, 0, 0, 0, 0, 0, 0, 0, 0],\n",
       " [1, 0, 0, 0, 0, 0, 0, 0, 0, 0],\n",
       " [1, 0, 0, 0, 0, 0, 0, 0, 0, 0],\n",
       " [1, 0, 0, 0, 0, 0, 0, 0, 0, 0]]"
      ]
     },
     "execution_count": 33,
     "metadata": {},
     "output_type": "execute_result"
    }
   ],
   "source": [
    "ls[0][0] = 1\n",
    "ls"
   ]
  },
  {
   "cell_type": "markdown",
   "metadata": {},
   "source": [
    "## 更加简洁的语法\n",
    "\n",
    "### 解析语法"
   ]
  },
  {
   "cell_type": "code",
   "execution_count": 34,
   "metadata": {},
   "outputs": [
    {
     "data": {
      "text/plain": [
       "[[0, 0, 0, 0, 0, 0, 0, 0, 0, 0],\n",
       " [0, 0, 0, 0, 0, 0, 0, 0, 0, 0],\n",
       " [0, 0, 0, 0, 0, 0, 0, 0, 0, 0],\n",
       " [0, 0, 0, 0, 0, 0, 0, 0, 0, 0],\n",
       " [0, 0, 0, 0, 0, 0, 0, 0, 0, 0]]"
      ]
     },
     "execution_count": 34,
     "metadata": {},
     "output_type": "execute_result"
    }
   ],
   "source": [
    "ls = [[0]*10 for i in range(5)]\n",
    "ls"
   ]
  },
  {
   "cell_type": "code",
   "execution_count": 35,
   "metadata": {},
   "outputs": [
    {
     "data": {
      "text/plain": [
       "[[1, 0, 0, 0, 0, 0, 0, 0, 0, 0],\n",
       " [0, 0, 0, 0, 0, 0, 0, 0, 0, 0],\n",
       " [0, 0, 0, 0, 0, 0, 0, 0, 0, 0],\n",
       " [0, 0, 0, 0, 0, 0, 0, 0, 0, 0],\n",
       " [0, 0, 0, 0, 0, 0, 0, 0, 0, 0]]"
      ]
     },
     "execution_count": 35,
     "metadata": {},
     "output_type": "execute_result"
    }
   ],
   "source": [
    "ls[0][0] = 1\n",
    "ls"
   ]
  },
  {
   "cell_type": "markdown",
   "metadata": {},
   "source": [
    "**1、解析语法的基本结构————以列表解析为例（也称为列表推导）**\n",
    "\n",
    "[expression **for value in iterable** if condition]"
   ]
  },
  {
   "cell_type": "markdown",
   "metadata": {},
   "source": [
    "- 三要素：表达式、可迭代对象、if条件（可选）\n",
    "\n",
    "**执行过程**\n",
    "\n",
    "（1）从可迭代对象中拿出一个元素\n",
    "\n",
    "（2）通过if条件（如果有的话），对元素进行筛选\n",
    "        \n",
    "        若通过筛选，则将元素传递给表达式"
   ]
  },
  {
   "attachments": {
    "image.png": {
     "image/png": "[encoded data removed]"
    }
   },
   "cell_type": "markdown",
   "metadata": {},
   "source": [
    "**执行过程**\n",
    "\n",
    "![image.png](attachment:image.png)"
   ]
  },
  {
   "cell_type": "code",
   "execution_count": null,
   "metadata": {},
   "outputs": [],
   "source": [
    "# 等价于此代码\n",
    "\n",
    "result = []\n",
    "for value in iterable:\n",
    "    if condition:\n",
    "        result.append(expression)"
   ]
  },
  {
   "cell_type": "markdown",
   "metadata": {},
   "source": [
    "**【例】求20以内奇数的平方**"
   ]
  },
  {
   "cell_type": "code",
   "execution_count": 37,
   "metadata": {},
   "outputs": [
    {
     "name": "stdout",
     "output_type": "stream",
     "text": [
      "[1, 9, 25, 49, 81, 121, 169, 225, 289, 361]\n"
     ]
    }
   ],
   "source": [
    "squares = []\n",
    "for i in range(1, 21):\n",
    "    if i%2 is 1:\n",
    "        squares.append(i**2)\n",
    "print(squares)"
   ]
  },
  {
   "cell_type": "code",
   "execution_count": 40,
   "metadata": {},
   "outputs": [
    {
     "name": "stdout",
     "output_type": "stream",
     "text": [
      "[1, 9, 25, 49, 81, 121, 169, 225, 289, 361]\n"
     ]
    }
   ],
   "source": [
    "squares = [i**2 for i in range(1, 21) if i%2 is 1]\n",
    "print(squares)"
   ]
  },
  {
   "cell_type": "markdown",
   "metadata": {},
   "source": [
    "**支持多变量**"
   ]
  },
  {
   "cell_type": "code",
   "execution_count": 41,
   "metadata": {},
   "outputs": [
    {
     "data": {
      "text/plain": [
       "[1, 4, 9]"
      ]
     },
     "execution_count": 41,
     "metadata": {},
     "output_type": "execute_result"
    }
   ],
   "source": [
    "x = [1, 2, 3]\n",
    "y = [1, 2, 3]\n",
    "\n",
    "results = [i*j for i, j in zip(x, y)]\n",
    "results"
   ]
  },
  {
   "cell_type": "markdown",
   "metadata": {},
   "source": [
    "**支持循环嵌套**"
   ]
  },
  {
   "cell_type": "code",
   "execution_count": 43,
   "metadata": {},
   "outputs": [
    {
     "data": {
      "text/plain": [
       "['balck S', 'balck M', 'balck L', 'white S', 'white M', 'white L']"
      ]
     },
     "execution_count": 43,
     "metadata": {},
     "output_type": "execute_result"
    }
   ],
   "source": [
    "colors = ['balck', 'white']\n",
    "sizes = ['S', 'M', 'L']\n",
    "tshirts = ['{} {}'.format(color, size) for color in colors for size in sizes]\n",
    "tshirts"
   ]
  },
  {
   "cell_type": "markdown",
   "metadata": {},
   "source": [
    "**2、其他解析语法的例子**\n",
    "\n",
    "- 解析语法构造字典（字典推导）"
   ]
  },
  {
   "cell_type": "code",
   "execution_count": 44,
   "metadata": {},
   "outputs": [
    {
     "name": "stdout",
     "output_type": "stream",
     "text": [
      "0 :  0\n",
      "1 :  1\n",
      "2 :  4\n",
      "3 :  9\n",
      "4 :  16\n",
      "5 :  25\n",
      "6 :  36\n",
      "7 :  49\n",
      "8 :  64\n",
      "9 :  81\n"
     ]
    }
   ],
   "source": [
    "squares = {i: i**2 for i in range(10)}\n",
    "for k, v in squares.items():\n",
    "    print(k, ': ', v)"
   ]
  },
  {
   "cell_type": "markdown",
   "metadata": {},
   "source": [
    "- 解析语法构造集合（集合推导）"
   ]
  },
  {
   "cell_type": "code",
   "execution_count": 45,
   "metadata": {},
   "outputs": [
    {
     "data": {
      "text/plain": [
       "{0, 1, 4, 9, 16, 25, 36, 49, 64, 81}"
      ]
     },
     "execution_count": 45,
     "metadata": {},
     "output_type": "execute_result"
    }
   ],
   "source": [
    "squares = {i**2 for i in range(10)}\n",
    "squares"
   ]
  },
  {
   "cell_type": "markdown",
   "metadata": {},
   "source": [
    "- 生成器表达式"
   ]
  },
  {
   "cell_type": "code",
   "execution_count": 46,
   "metadata": {},
   "outputs": [
    {
     "data": {
      "text/plain": [
       "<generator object <genexpr> at 0x000001A918885C00>"
      ]
     },
     "execution_count": 46,
     "metadata": {},
     "output_type": "execute_result"
    }
   ],
   "source": [
    "squares = (i**2 for i in range(10))\n",
    "squares"
   ]
  },
  {
   "cell_type": "code",
   "execution_count": 47,
   "metadata": {},
   "outputs": [
    {
     "name": "stdout",
     "output_type": "stream",
     "text": [
      "balck S\n",
      "balck M\n",
      "balck L\n",
      "white S\n",
      "white M\n",
      "white L\n"
     ]
    }
   ],
   "source": [
    "colors = ['balck', 'white']\n",
    "sizes = ['S', 'M', 'L']\n",
    "tshirts = ('{} {}'.format(color, size) for color in colors for size in sizes)\n",
    "for tshirt in tshirts:\n",
    "    print(tshirt)"
   ]
  },
  {
   "cell_type": "markdown",
   "metadata": {},
   "source": [
    "### 条件表达式"
   ]
  },
  {
   "cell_type": "raw",
   "metadata": {},
   "source": [
    "exprl if condition else expr2"
   ]
  },
  {
   "cell_type": "markdown",
   "metadata": {},
   "source": [
    "【例】将变量 n 的绝对值赋值给变量 x"
   ]
  },
  {
   "cell_type": "code",
   "execution_count": 48,
   "metadata": {},
   "outputs": [
    {
     "data": {
      "text/plain": [
       "10"
      ]
     },
     "execution_count": 48,
     "metadata": {},
     "output_type": "execute_result"
    }
   ],
   "source": [
    "n = 10\n",
    "if n >= 0:\n",
    "    x = n \n",
    "else:\n",
    "    x = -n\n",
    "x"
   ]
  },
  {
   "cell_type": "code",
   "execution_count": 49,
   "metadata": {},
   "outputs": [
    {
     "data": {
      "text/plain": [
       "10"
      ]
     },
     "execution_count": 49,
     "metadata": {},
     "output_type": "execute_result"
    }
   ],
   "source": [
    "n = -10\n",
    "x = n if n>= 0 else -n\n",
    "x"
   ]
  },
  {
   "cell_type": "markdown",
   "metadata": {},
   "source": [
    "条件表达式和解析语法简单实用，运行速度相对更快一点"
   ]
  },
  {
   "cell_type": "markdown",
   "metadata": {},
   "source": [
    "## 三大神器\n",
    "\n",
    "### 生成器"
   ]
  },
  {
   "cell_type": "code",
   "execution_count": 50,
   "metadata": {},
   "outputs": [],
   "source": [
    "ls = [i**2 for i in range(1, 1000001)]"
   ]
  },
  {
   "cell_type": "code",
   "execution_count": 51,
   "metadata": {},
   "outputs": [],
   "source": [
    "for i in ls:\n",
    "    pass"
   ]
  },
  {
   "cell_type": "markdown",
   "metadata": {},
   "source": [
    "缺点：占用大量内存"
   ]
  },
  {
   "attachments": {
    "image.png": {
     "image/png": "[encoded data removed]"
    }
   },
   "cell_type": "markdown",
   "metadata": {},
   "source": [
    "![image.png](attachment:image.png)"
   ]
  },
  {
   "cell_type": "markdown",
   "metadata": {},
   "source": [
    "**1、生成器表达式**\n",
    "\n",
    "- 海量数据，不需存储"
   ]
  },
  {
   "cell_type": "code",
   "execution_count": 52,
   "metadata": {},
   "outputs": [],
   "source": [
    "squares = (i**2 for i in range(1000000))"
   ]
  },
  {
   "cell_type": "code",
   "execution_count": 53,
   "metadata": {},
   "outputs": [],
   "source": [
    "for i in squares:\n",
    "    pass"
   ]
  },
  {
   "cell_type": "markdown",
   "metadata": {},
   "source": [
    "- 求 0-100 的和\n",
    "\n",
    "无需显示存储全部数据，节省内存"
   ]
  },
  {
   "cell_type": "code",
   "execution_count": 54,
   "metadata": {},
   "outputs": [
    {
     "data": {
      "text/plain": [
       "5050"
      ]
     },
     "execution_count": 54,
     "metadata": {},
     "output_type": "execute_result"
    }
   ],
   "source": [
    "sum((i for i in range(101)))"
   ]
  },
  {
   "cell_type": "markdown",
   "metadata": {},
   "source": [
    "**2、生成器函数————yield**\n",
    "\n",
    "- 生产斐波那契数列\n",
    "\n",
    "数列前两个元素为 1，1 之后的元素为其前两个元素之和"
   ]
  },
  {
   "cell_type": "code",
   "execution_count": 55,
   "metadata": {},
   "outputs": [
    {
     "data": {
      "text/plain": [
       "[1, 1, 2, 3, 5, 8, 13, 21, 34, 55]"
      ]
     },
     "execution_count": 55,
     "metadata": {},
     "output_type": "execute_result"
    }
   ],
   "source": [
    "def fib(max):\n",
    "    ls = []\n",
    "    n, a, b = 0, 1, 1\n",
    "    while n < max:\n",
    "        ls.append(a)\n",
    "        a, b = b, a + b\n",
    "        n = n + 1\n",
    "    return ls\n",
    "\n",
    "\n",
    "fib(10)"
   ]
  },
  {
   "cell_type": "markdown",
   "metadata": {},
   "source": [
    "中间尝试"
   ]
  },
  {
   "cell_type": "code",
   "execution_count": 56,
   "metadata": {},
   "outputs": [
    {
     "name": "stdout",
     "output_type": "stream",
     "text": [
      "1\n",
      "1\n",
      "2\n",
      "3\n",
      "5\n",
      "8\n",
      "13\n",
      "21\n",
      "34\n",
      "55\n"
     ]
    }
   ],
   "source": [
    "def fib(max):\n",
    "    ls = []\n",
    "    n, a, b = 0, 1, 1\n",
    "    while n < max:\n",
    "        print(a)\n",
    "        a, b = b, a + b\n",
    "        n = n + 1\n",
    "\n",
    "\n",
    "fib(10)"
   ]
  },
  {
   "cell_type": "markdown",
   "metadata": {},
   "source": [
    "构造生成器函数\n",
    "\n",
    "在每次调用 next() 的时候执行，遇到 yield 语句返回，再次执行时从上次返回的 yield 语句处继续执行\n",
    "\n",
    "CSDN yield解释帖\n",
    "https://blog.csdn.net/mieleizhi0522/article/details/82142856/"
   ]
  },
  {
   "cell_type": "code",
   "execution_count": 57,
   "metadata": {},
   "outputs": [
    {
     "data": {
      "text/plain": [
       "<generator object fib at 0x000001A9199B3048>"
      ]
     },
     "execution_count": 57,
     "metadata": {},
     "output_type": "execute_result"
    }
   ],
   "source": [
    "def fib(max):\n",
    "    ls = []\n",
    "    n, a, b = 0, 1, 1\n",
    "    while n < max:\n",
    "        yield(a)\n",
    "        a, b = b, a + b\n",
    "        n = n + 1\n",
    "\n",
    "\n",
    "fib(10)"
   ]
  },
  {
   "cell_type": "code",
   "execution_count": 58,
   "metadata": {},
   "outputs": [
    {
     "name": "stdout",
     "output_type": "stream",
     "text": [
      "1\n",
      "1\n",
      "2\n",
      "3\n",
      "5\n",
      "8\n",
      "13\n",
      "21\n",
      "34\n",
      "55\n"
     ]
    }
   ],
   "source": [
    "for i in fib(10):\n",
    "    print(i)"
   ]
  },
  {
   "cell_type": "markdown",
   "metadata": {},
   "source": [
    "### 迭代器\n",
    "\n",
    "**1、可迭代对象**\n",
    "\n",
    "可直接作用于 for循环 的对象统称为可迭代对象：Iterable 对象\n",
    "\n",
    "**（1）列表、元组、字符串、字典、集合、文件**\n",
    "\n",
    "可以使用 isinstance() 判断一个对象是否是 Iterate 对象"
   ]
  },
  {
   "cell_type": "code",
   "execution_count": 61,
   "metadata": {},
   "outputs": [
    {
     "data": {
      "text/plain": [
       "True"
      ]
     },
     "execution_count": 61,
     "metadata": {},
     "output_type": "execute_result"
    }
   ],
   "source": [
    "from collections.abc import Iterable\n",
    "\n",
    "isinstance({'name': 'Sarah'}, Iterable)"
   ]
  },
  {
   "cell_type": "code",
   "execution_count": 62,
   "metadata": {},
   "outputs": [
    {
     "data": {
      "text/plain": [
       "True"
      ]
     },
     "execution_count": 62,
     "metadata": {},
     "output_type": "execute_result"
    }
   ],
   "source": [
    "isinstance({'name': 'Sarah'}, Iterable)"
   ]
  },
  {
   "cell_type": "code",
   "execution_count": 63,
   "metadata": {},
   "outputs": [
    {
     "data": {
      "text/plain": [
       "True"
      ]
     },
     "execution_count": 63,
     "metadata": {},
     "output_type": "execute_result"
    }
   ],
   "source": [
    "isinstance('Python', Iterable)"
   ]
  },
  {
   "cell_type": "markdown",
   "metadata": {},
   "source": [
    "**（2）生成器**"
   ]
  },
  {
   "cell_type": "code",
   "execution_count": 65,
   "metadata": {},
   "outputs": [
    {
     "data": {
      "text/plain": [
       "True"
      ]
     },
     "execution_count": 65,
     "metadata": {},
     "output_type": "execute_result"
    }
   ],
   "source": [
    "squares = (i**2 for i in range(5))\n",
    "isinstance(squares, Iterable)"
   ]
  },
  {
   "cell_type": "markdown",
   "metadata": {},
   "source": [
    "生成器不但可以用于 for循环， 还可以被 next()函数 调用"
   ]
  },
  {
   "cell_type": "code",
   "execution_count": 66,
   "metadata": {},
   "outputs": [
    {
     "name": "stdout",
     "output_type": "stream",
     "text": [
      "0\n",
      "1\n",
      "4\n",
      "9\n",
      "16\n"
     ]
    },
    {
     "ename": "StopIteration",
     "evalue": "",
     "output_type": "error",
     "traceback": [
      "\u001b[1;31m---------------------------------------------------------------------------\u001b[0m",
      "\u001b[1;31mStopIteration\u001b[0m                             Traceback (most recent call last)",
      "\u001b[1;32m<ipython-input-66-bf8e20dcf2cf>\u001b[0m in \u001b[0;36m<module>\u001b[1;34m\u001b[0m\n\u001b[0;32m      4\u001b[0m \u001b[0mprint\u001b[0m\u001b[1;33m(\u001b[0m\u001b[0mnext\u001b[0m\u001b[1;33m(\u001b[0m\u001b[0msquares\u001b[0m\u001b[1;33m)\u001b[0m\u001b[1;33m)\u001b[0m\u001b[1;33m\u001b[0m\u001b[1;33m\u001b[0m\u001b[0m\n\u001b[0;32m      5\u001b[0m \u001b[0mprint\u001b[0m\u001b[1;33m(\u001b[0m\u001b[0mnext\u001b[0m\u001b[1;33m(\u001b[0m\u001b[0msquares\u001b[0m\u001b[1;33m)\u001b[0m\u001b[1;33m)\u001b[0m\u001b[1;33m\u001b[0m\u001b[1;33m\u001b[0m\u001b[0m\n\u001b[1;32m----> 6\u001b[1;33m \u001b[0mprint\u001b[0m\u001b[1;33m(\u001b[0m\u001b[0mnext\u001b[0m\u001b[1;33m(\u001b[0m\u001b[0msquares\u001b[0m\u001b[1;33m)\u001b[0m\u001b[1;33m)\u001b[0m\u001b[1;33m\u001b[0m\u001b[1;33m\u001b[0m\u001b[0m\n\u001b[0m",
      "\u001b[1;31mStopIteration\u001b[0m: "
     ]
    }
   ],
   "source": [
    "print(next(squares))\n",
    "print(next(squares))\n",
    "print(next(squares))\n",
    "print(next(squares))\n",
    "print(next(squares))\n",
    "\n",
    "# 直到没有数据可取，抛出 StopIteration\n",
    "print(next(squares))"
   ]
  },
  {
   "cell_type": "markdown",
   "metadata": {},
   "source": [
    "**可以被 next()函数 调用并不断返回下一个值，直至没有数据可取的对象称为迭代器：Iterator**\n",
    "\n",
    "**2、迭代器**\n",
    "\n",
    "可以使用 isinstance() 判断一个对象是否是 Iterator 对象\n",
    "\n",
    "**（1）生成器都是迭代器**"
   ]
  },
  {
   "cell_type": "code",
   "execution_count": 67,
   "metadata": {},
   "outputs": [
    {
     "data": {
      "text/plain": [
       "True"
      ]
     },
     "execution_count": 67,
     "metadata": {},
     "output_type": "execute_result"
    }
   ],
   "source": [
    "from collections.abc import Iterator\n",
    "\n",
    "squares = (i**2 for i in range(5))\n",
    "isinstance(squares, Iterator)"
   ]
  },
  {
   "cell_type": "markdown",
   "metadata": {},
   "source": [
    "**（2）列表、元组、字符串、字典、集合不是迭代器**"
   ]
  },
  {
   "cell_type": "code",
   "execution_count": 68,
   "metadata": {},
   "outputs": [
    {
     "data": {
      "text/plain": [
       "False"
      ]
     },
     "execution_count": 68,
     "metadata": {},
     "output_type": "execute_result"
    }
   ],
   "source": [
    "isinstance([1, 2, 3], Iterator)"
   ]
  },
  {
   "cell_type": "code",
   "execution_count": 69,
   "metadata": {},
   "outputs": [
    {
     "data": {
      "text/plain": [
       "True"
      ]
     },
     "execution_count": 69,
     "metadata": {},
     "output_type": "execute_result"
    }
   ],
   "source": [
    "# 可以通过 iter(Iterable) 创建迭代器\n",
    "\n",
    "isinstance(iter([1, 2, 3]), Iterator)"
   ]
  },
  {
   "cell_type": "markdown",
   "metadata": {},
   "source": [
    "for item in Iterable 等价于:\n",
    "    \n",
    "    先通过 iter()函数 获取可迭代对象 Iterable 的迭代器\n",
    "    \n",
    "    然后对获取到的迭代器不断调用 next()方法 来获取下一个值并将其赋值给 item\n",
    "    \n",
    "    当遇到 StopIteration 的一场后循环结束"
   ]
  },
  {
   "cell_type": "markdown",
   "metadata": {},
   "source": [
    "**（3）zip、enumerate 等 itertools 里的函数是迭代器**"
   ]
  },
  {
   "cell_type": "code",
   "execution_count": 70,
   "metadata": {},
   "outputs": [
    {
     "data": {
      "text/plain": [
       "<zip at 0x1a91f42c508>"
      ]
     },
     "execution_count": 70,
     "metadata": {},
     "output_type": "execute_result"
    }
   ],
   "source": [
    "x = [1, 2]\n",
    "y = ['a', 'b']\n",
    "zip(x, y)"
   ]
  },
  {
   "cell_type": "code",
   "execution_count": 71,
   "metadata": {},
   "outputs": [
    {
     "name": "stdout",
     "output_type": "stream",
     "text": [
      "(1, 'a')\n",
      "(2, 'b')\n"
     ]
    },
    {
     "data": {
      "text/plain": [
       "True"
      ]
     },
     "execution_count": 71,
     "metadata": {},
     "output_type": "execute_result"
    }
   ],
   "source": [
    "for i in zip(x, y):\n",
    "    print(i)\n",
    "    \n",
    "isinstance(zip(x, y), Iterator)"
   ]
  },
  {
   "cell_type": "code",
   "execution_count": 72,
   "metadata": {},
   "outputs": [
    {
     "data": {
      "text/plain": [
       "<enumerate at 0x1a9198ab1b0>"
      ]
     },
     "execution_count": 72,
     "metadata": {},
     "output_type": "execute_result"
    }
   ],
   "source": [
    "numbers = [1, 2, 3, 4, 5]\n",
    "enumerate(numbers)"
   ]
  },
  {
   "cell_type": "code",
   "execution_count": 73,
   "metadata": {},
   "outputs": [
    {
     "name": "stdout",
     "output_type": "stream",
     "text": [
      "(0, 1)\n",
      "(1, 2)\n",
      "(2, 3)\n",
      "(3, 4)\n",
      "(4, 5)\n"
     ]
    }
   ],
   "source": [
    "for i in enumerate(numbers):\n",
    "    print(i)\n",
    "    \n",
    "    isinstance(enumerate(numbers), Iterator)"
   ]
  },
  {
   "cell_type": "markdown",
   "metadata": {},
   "source": [
    "**（4）文件是迭代器**"
   ]
  },
  {
   "cell_type": "code",
   "execution_count": 74,
   "metadata": {},
   "outputs": [
    {
     "name": "stdout",
     "output_type": "stream",
     "text": [
      "True\n"
     ]
    }
   ],
   "source": [
    "with open('恋曲1980.txt', 'r', encoding = 'utf8') as f:\n",
    "    print(isinstance(f, Iterator))"
   ]
  },
  {
   "cell_type": "markdown",
   "metadata": {},
   "source": [
    "**（5）迭代器是可耗尽的**"
   ]
  },
  {
   "cell_type": "markdown",
   "metadata": {},
   "source": [
    "**（6）range() 不是迭代器**"
   ]
  },
  {
   "cell_type": "code",
   "execution_count": 75,
   "metadata": {},
   "outputs": [
    {
     "data": {
      "text/plain": [
       "False"
      ]
     },
     "execution_count": 75,
     "metadata": {},
     "output_type": "execute_result"
    }
   ],
   "source": [
    "numbers = range(10)\n",
    "isinstance(numbers, Iterator)"
   ]
  },
  {
   "cell_type": "code",
   "execution_count": 76,
   "metadata": {},
   "outputs": [
    {
     "name": "stdout",
     "output_type": "stream",
     "text": [
      "10\n",
      "0\n",
      "True\n"
     ]
    },
    {
     "ename": "TypeError",
     "evalue": "'range' object is not an iterator",
     "output_type": "error",
     "traceback": [
      "\u001b[1;31m---------------------------------------------------------------------------\u001b[0m",
      "\u001b[1;31mTypeError\u001b[0m                                 Traceback (most recent call last)",
      "\u001b[1;32m<ipython-input-76-90fc47bb8f19>\u001b[0m in \u001b[0;36m<module>\u001b[1;34m\u001b[0m\n\u001b[0;32m      2\u001b[0m \u001b[0mprint\u001b[0m\u001b[1;33m(\u001b[0m\u001b[0mnumbers\u001b[0m\u001b[1;33m[\u001b[0m\u001b[1;36m0\u001b[0m\u001b[1;33m]\u001b[0m\u001b[1;33m)\u001b[0m      \u001b[1;31m# 可索引\u001b[0m\u001b[1;33m\u001b[0m\u001b[1;33m\u001b[0m\u001b[0m\n\u001b[0;32m      3\u001b[0m \u001b[0mprint\u001b[0m\u001b[1;33m(\u001b[0m\u001b[1;36m9\u001b[0m \u001b[1;32min\u001b[0m \u001b[0mnumbers\u001b[0m\u001b[1;33m)\u001b[0m    \u001b[1;31m# 可存在计算\u001b[0m\u001b[1;33m\u001b[0m\u001b[1;33m\u001b[0m\u001b[0m\n\u001b[1;32m----> 4\u001b[1;33m \u001b[0mnext\u001b[0m\u001b[1;33m(\u001b[0m\u001b[0mnumbers\u001b[0m\u001b[1;33m)\u001b[0m          \u001b[1;31m# 不可被 next() 调用\u001b[0m\u001b[1;33m\u001b[0m\u001b[1;33m\u001b[0m\u001b[0m\n\u001b[0m",
      "\u001b[1;31mTypeError\u001b[0m: 'range' object is not an iterator"
     ]
    }
   ],
   "source": [
    "print(len(numbers))    # 有 长度\n",
    "print(numbers[0])      # 可 索引\n",
    "print(9 in numbers)    # 可 存在计算\n",
    "next(numbers)          # 不可被 next() 调用"
   ]
  },
  {
   "cell_type": "code",
   "execution_count": 77,
   "metadata": {},
   "outputs": [
    {
     "name": "stdout",
     "output_type": "stream",
     "text": [
      "0\n",
      "1\n",
      "2\n",
      "3\n",
      "4\n",
      "5\n",
      "6\n",
      "7\n",
      "8\n",
      "9\n"
     ]
    }
   ],
   "source": [
    "for number in numbers:\n",
    "    print(number)\n",
    "    \n",
    "# 可以再次循环"
   ]
  },
  {
   "cell_type": "markdown",
   "metadata": {},
   "source": [
    "**不会被耗尽！！！**"
   ]
  },
  {
   "cell_type": "markdown",
   "metadata": {},
   "source": [
    "**可以称range()为懒序列**\n",
    "    \n",
    "    它是一种序列\n",
    "    \n",
    "    但并不包含任何内存中的内容\n",
    "    \n",
    "    而是通过计算来回答问题"
   ]
  },
  {
   "attachments": {
    "image.png": {
     "image/png": "[encoded data removed]"
    }
   },
   "cell_type": "markdown",
   "metadata": {},
   "source": [
    "### 装饰器\n",
    "\n",
    "**1、需求的提出**\n",
    "\n",
    "![image.png](attachment:image.png)\n",
    "\n",
    "**比如说，要统计每个函数的运行时间**"
   ]
  },
  {
   "cell_type": "code",
   "execution_count": 78,
   "metadata": {},
   "outputs": [],
   "source": [
    "def f1():\n",
    "    pass\n",
    "\n",
    "\n",
    "def f2():\n",
    "    pass\n",
    "\n",
    "\n",
    "def f3():\n",
    "    pass\n",
    "\n",
    "\n",
    "f1()\n",
    "f2()\n",
    "f3()"
   ]
  },
  {
   "cell_type": "markdown",
   "metadata": {},
   "source": [
    "**没问题，我们有装饰器！！！**\n",
    "\n",
    "**2、函数对象**\n",
    "\n",
    "函数是Python中的第一类对象：\n",
    "\n",
    "（1）可以把函数赋值给变量\n",
    "\n",
    "（2）对该变量进行调用，可实现原函数的功能"
   ]
  },
  {
   "cell_type": "code",
   "execution_count": 79,
   "metadata": {},
   "outputs": [
    {
     "name": "stdout",
     "output_type": "stream",
     "text": [
      "<class 'function'>\n"
     ]
    }
   ],
   "source": [
    "def square(x):\n",
    "    return x**2\n",
    "\n",
    "print(type(square))    # square 是 function类 的一个实例"
   ]
  },
  {
   "cell_type": "code",
   "execution_count": 80,
   "metadata": {},
   "outputs": [
    {
     "name": "stdout",
     "output_type": "stream",
     "text": [
      "25\n",
      "25\n"
     ]
    }
   ],
   "source": [
    "pow_2 = square         # 可以理解成给这个函数起了个别名 pow_2\n",
    "print(pow_2(5))\n",
    "print(square(5))"
   ]
  },
  {
   "cell_type": "markdown",
   "metadata": {},
   "source": [
    "可以将函数作为参数进行传递"
   ]
  },
  {
   "cell_type": "markdown",
   "metadata": {},
   "source": [
    "**3、高阶函数**\n",
    "\n",
    "（1）接收函数作为参数\n",
    "\n",
    "（2）或者返回一个函数\n",
    "\n",
    "**满足上述条件之一的函数称之为高阶函数**"
   ]
  },
  {
   "cell_type": "code",
   "execution_count": 81,
   "metadata": {},
   "outputs": [
    {
     "data": {
      "text/plain": [
       "64"
      ]
     },
     "execution_count": 81,
     "metadata": {},
     "output_type": "execute_result"
    }
   ],
   "source": [
    "def square(x):\n",
    "    return x**2\n",
    "\n",
    "\n",
    "def pow_2(fun):\n",
    "    return fun\n",
    "\n",
    "\n",
    "f = pow_2(square)\n",
    "f(8)"
   ]
  },
  {
   "cell_type": "code",
   "execution_count": 82,
   "metadata": {},
   "outputs": [
    {
     "name": "stdout",
     "output_type": "stream",
     "text": [
      "True\n"
     ]
    }
   ],
   "source": [
    "print(f is square)"
   ]
  },
  {
   "cell_type": "markdown",
   "metadata": {},
   "source": [
    "**4、嵌套函数**\n",
    "\n",
    "**在函数内部定义一个函数**"
   ]
  },
  {
   "cell_type": "code",
   "execution_count": 84,
   "metadata": {},
   "outputs": [
    {
     "name": "stdout",
     "output_type": "stream",
     "text": [
      "outer is running\n",
      "inner is running\n"
     ]
    }
   ],
   "source": [
    "def outer():\n",
    "    print('outer is running')\n",
    "    \n",
    "    def inner():\n",
    "        print('inner is running')\n",
    "        \n",
    "    inner()\n",
    "    \n",
    "    \n",
    "outer()"
   ]
  },
  {
   "cell_type": "markdown",
   "metadata": {},
   "source": [
    "**5、闭包**"
   ]
  },
  {
   "cell_type": "code",
   "execution_count": 85,
   "metadata": {},
   "outputs": [
    {
     "name": "stdout",
     "output_type": "stream",
     "text": [
      "<function outer.<locals>.inner at 0x000001A91FD6DA60>\n"
     ]
    }
   ],
   "source": [
    "def outer():\n",
    "    x = 1\n",
    "    z = 10\n",
    "    \n",
    "    def inner():\n",
    "        y = x+100\n",
    "        return y, z\n",
    "    \n",
    "    return inner\n",
    "\n",
    "\n",
    "f = outer()               # 实际上包含了 inner函数本身+outer函数的环境\n",
    "print(f)"
   ]
  },
  {
   "cell_type": "code",
   "execution_count": 86,
   "metadata": {},
   "outputs": [
    {
     "name": "stdout",
     "output_type": "stream",
     "text": [
      "(<cell at 0x000001A91FC8E438: int object at 0x00007FFEE238E350>, <cell at 0x000001A91FC8E678: int object at 0x00007FFEE238E470>)\n",
      "1\n",
      "10\n"
     ]
    }
   ],
   "source": [
    "print(f.__closure__)           # __closure__属性中包含了来自外部函数的信息\n",
    "for i in f.__closure__:\n",
    "    print(i.cell_contents)"
   ]
  },
  {
   "cell_type": "code",
   "execution_count": 89,
   "metadata": {},
   "outputs": [
    {
     "name": "stdout",
     "output_type": "stream",
     "text": [
      "(101, 10)\n",
      "(101, 10)\n"
     ]
    }
   ],
   "source": [
    "res = f()\n",
    "print(res)\n",
    "print(outer()())"
   ]
  },
  {
   "attachments": {
    "image.png": {
     "image/png": "[encoded data removed]"
    }
   },
   "cell_type": "markdown",
   "metadata": {},
   "source": [
    "![image.png](attachment:image.png)"
   ]
  },
  {
   "cell_type": "markdown",
   "metadata": {},
   "source": [
    "- 一旦在内层函数重新定义了相同名字的变量， 则变量成为局部变量"
   ]
  },
  {
   "cell_type": "code",
   "execution_count": 90,
   "metadata": {},
   "outputs": [
    {
     "ename": "UnboundLocalError",
     "evalue": "local variable 'x' referenced before assignment",
     "output_type": "error",
     "traceback": [
      "\u001b[1;31m---------------------------------------------------------------------------\u001b[0m",
      "\u001b[1;31mUnboundLocalError\u001b[0m                         Traceback (most recent call last)",
      "\u001b[1;32m<ipython-input-90-8e59a3719ab2>\u001b[0m in \u001b[0;36m<module>\u001b[1;34m\u001b[0m\n\u001b[0;32m     10\u001b[0m \u001b[1;33m\u001b[0m\u001b[0m\n\u001b[0;32m     11\u001b[0m \u001b[0mf\u001b[0m \u001b[1;33m=\u001b[0m \u001b[0mouter\u001b[0m\u001b[1;33m(\u001b[0m\u001b[1;33m)\u001b[0m\u001b[1;33m\u001b[0m\u001b[1;33m\u001b[0m\u001b[0m\n\u001b[1;32m---> 12\u001b[1;33m \u001b[0mf\u001b[0m\u001b[1;33m(\u001b[0m\u001b[1;33m)\u001b[0m\u001b[1;33m\u001b[0m\u001b[1;33m\u001b[0m\u001b[0m\n\u001b[0m",
      "\u001b[1;32m<ipython-input-90-8e59a3719ab2>\u001b[0m in \u001b[0;36minner\u001b[1;34m()\u001b[0m\n\u001b[0;32m      3\u001b[0m \u001b[1;33m\u001b[0m\u001b[0m\n\u001b[0;32m      4\u001b[0m     \u001b[1;32mdef\u001b[0m \u001b[0minner\u001b[0m\u001b[1;33m(\u001b[0m\u001b[1;33m)\u001b[0m\u001b[1;33m:\u001b[0m\u001b[1;33m\u001b[0m\u001b[1;33m\u001b[0m\u001b[0m\n\u001b[1;32m----> 5\u001b[1;33m         \u001b[0mx\u001b[0m \u001b[1;33m=\u001b[0m \u001b[0mx\u001b[0m\u001b[1;33m+\u001b[0m\u001b[1;36m100\u001b[0m\u001b[1;33m\u001b[0m\u001b[1;33m\u001b[0m\u001b[0m\n\u001b[0m\u001b[0;32m      6\u001b[0m         \u001b[1;32mreturn\u001b[0m \u001b[0mx\u001b[0m\u001b[1;33m\u001b[0m\u001b[1;33m\u001b[0m\u001b[0m\n\u001b[0;32m      7\u001b[0m \u001b[1;33m\u001b[0m\u001b[0m\n",
      "\u001b[1;31mUnboundLocalError\u001b[0m: local variable 'x' referenced before assignment"
     ]
    }
   ],
   "source": [
    "def outer():\n",
    "    x = 1\n",
    "    \n",
    "    def inner():\n",
    "        x = x+100\n",
    "        return x\n",
    "    \n",
    "    return inner\n",
    "\n",
    "\n",
    "f = outer()\n",
    "f()"
   ]
  },
  {
   "cell_type": "markdown",
   "metadata": {},
   "source": [
    "nonlocla 允许内嵌的函数来修改闭包变量"
   ]
  },
  {
   "cell_type": "code",
   "execution_count": 91,
   "metadata": {},
   "outputs": [
    {
     "data": {
      "text/plain": [
       "101"
      ]
     },
     "execution_count": 91,
     "metadata": {},
     "output_type": "execute_result"
    }
   ],
   "source": [
    "def outer():\n",
    "    x = 1\n",
    "    \n",
    "    def inner():\n",
    "        nonlocal x\n",
    "        x = x+100\n",
    "        return x\n",
    "    \n",
    "    return inner\n",
    "\n",
    "\n",
    "f = outer()\n",
    "f()"
   ]
  },
  {
   "cell_type": "markdown",
   "metadata": {},
   "source": [
    "**6、一个简单的装饰器**\n",
    "\n",
    "**嵌套函数实现**"
   ]
  },
  {
   "cell_type": "code",
   "execution_count": 94,
   "metadata": {},
   "outputs": [
    {
     "name": "stdout",
     "output_type": "stream",
     "text": [
      "inner run\n",
      "f1 run\n",
      "f1 函数运行用时1.00秒\n"
     ]
    }
   ],
   "source": [
    "import time\n",
    "\n",
    "def timer(func):\n",
    "    \n",
    "    def inner():\n",
    "        print('inner run')\n",
    "        start = time.time()\n",
    "        func()\n",
    "        end = time.time()\n",
    "        print('{} 函数运行用时{:.2f}秒'.format(func.__name__, (end-start)))\n",
    "        \n",
    "    return inner\n",
    "\n",
    "\n",
    "def f1():\n",
    "    print('f1 run')\n",
    "    time.sleep(1)\n",
    "    \n",
    "    \n",
    "    \n",
    "f1 = timer(f1)          # 包含 inner() 和 timer的环境，如传递过来的 参数func\n",
    "f1()                    # 注意 return 的是 inner，其实就是 inner()且附带环境变量"
   ]
  },
  {
   "cell_type": "markdown",
   "metadata": {},
   "source": [
    "**语法糖**"
   ]
  },
  {
   "cell_type": "code",
   "execution_count": 95,
   "metadata": {},
   "outputs": [
    {
     "name": "stdout",
     "output_type": "stream",
     "text": [
      "inner run\n",
      "f1 run\n",
      "f1 函数运行用时1.00秒\n"
     ]
    }
   ],
   "source": [
    "import time\n",
    "\n",
    "def timer(func):\n",
    "    \n",
    "    def inner():\n",
    "        print('inner run')\n",
    "        start = time.time()\n",
    "        func()\n",
    "        end = time.time()\n",
    "        print('{} 函数运行用时{:.2f}秒'.format(func.__name__, (end-start)))\n",
    "        \n",
    "    return inner\n",
    "\n",
    "@timer                       # 相当于实现了 f1 = timer(f1)\n",
    "def f1():\n",
    "    print('f1 run')\n",
    "    time.sleep(1)\n",
    "    \n",
    "    \n",
    "    \n",
    "f1()"
   ]
  },
  {
   "cell_type": "markdown",
   "metadata": {},
   "source": [
    "**7、装饰有参函数**"
   ]
  },
  {
   "cell_type": "code",
   "execution_count": 98,
   "metadata": {},
   "outputs": [
    {
     "name": "stdout",
     "output_type": "stream",
     "text": [
      "inner run\n",
      "f1 run\n",
      "f1 函数运行用时2.00秒\n"
     ]
    }
   ],
   "source": [
    "# 被修饰的有参数\n",
    "\n",
    "import time\n",
    "\n",
    "def timer(func):\n",
    "    \n",
    "    def inner(*args, **kwargs):         # *args接收任意多普通参数, **kwargs接收任意多字典参数 https://www.cnblogs.com/cwind/p/8996000.html\n",
    "        print('inner run')\n",
    "        start = time.time()\n",
    "        func(*args, **kwargs)\n",
    "        end = time.time()\n",
    "        print('{} 函数运行用时{:.2f}秒'.format(func.__name__, (end-start)))\n",
    "        \n",
    "    return inner\n",
    "\n",
    "@timer                       # 相当于实现了 f1 = timer(f1)\n",
    "def f1(n):                   # 原函数要用参数，就可以采用 *args,**kwargs\n",
    "    print('f1 run')\n",
    "    time.sleep(n)\n",
    "    \n",
    "    \n",
    "    \n",
    "f1(2)"
   ]
  },
  {
   "cell_type": "markdown",
   "metadata": {},
   "source": [
    "**被装饰函数有返回值的情况**"
   ]
  },
  {
   "cell_type": "code",
   "execution_count": 100,
   "metadata": {},
   "outputs": [
    {
     "name": "stdout",
     "output_type": "stream",
     "text": [
      "inner run\n",
      "f1 run\n",
      "f1 函数运行用时2.00秒\n",
      "wake up\n"
     ]
    }
   ],
   "source": [
    "# 被修饰的有参数\n",
    "\n",
    "import time\n",
    "\n",
    "def timer(func):\n",
    "    \n",
    "    def inner(*args, **kwargs):         # *args接收任意多普通参数, **kwargs接收任意多字典参数 https://www.cnblogs.com/cwind/p/8996000.html\n",
    "        print('inner run')\n",
    "        start = time.time()\n",
    "        res = func(*args, **kwargs)\n",
    "        end = time.time()\n",
    "        print('{} 函数运行用时{:.2f}秒'.format(func.__name__, (end-start)))\n",
    "        return res\n",
    "        \n",
    "    return inner\n",
    "\n",
    "@timer                       # 相当于实现了 f1 = timer(f1)\n",
    "def f1(n):                   # 原函数要用参数，就可以采用 *args,**kwargs\n",
    "    print('f1 run')\n",
    "    time.sleep(n)\n",
    "    return 'wake up'\n",
    "    \n",
    "    \n",
    "res = f1(2)\n",
    "print(res)"
   ]
  },
  {
   "cell_type": "markdown",
   "metadata": {},
   "source": [
    "**8、带参数的装饰器**\n",
    "\n",
    "装饰器本身要传递一些额外参数\n",
    "\n",
    "- 需求：有时需要统计绝对时间，有时需要统计绝对时间的2倍"
   ]
  },
  {
   "cell_type": "code",
   "execution_count": 104,
   "metadata": {},
   "outputs": [
    {
     "name": "stdout",
     "output_type": "stream",
     "text": [
      "inner run\n",
      "origin_inner run\n",
      "f1 run\n",
      "f1 函数运行用时1.00秒\n",
      "\n",
      "inner run\n",
      "double_inner run\n",
      "f2 run\n",
      "f2 函数运行用时2.00秒\n"
     ]
    }
   ],
   "source": [
    "import time\n",
    "\n",
    "def timer(method):\n",
    "    \n",
    "    def outer(func):\n",
    "    \n",
    "        def inner(*args, **kwargs):         # *args接收任意多普通参数, **kwargs接收任意多字典参数 https://www.cnblogs.com/cwind/p/8996000.html\n",
    "            print('inner run')\n",
    "            if method is 'origin':\n",
    "                print('origin_inner run')\n",
    "                start = time.time()\n",
    "                res = func(*args, **kwargs)\n",
    "                end = time.time()\n",
    "                print('{} 函数运行用时{:.2f}秒'.format(func.__name__, (end-start)))\n",
    "            elif method is 'double':\n",
    "                print('double_inner run')\n",
    "                start = time.time()\n",
    "                res = func(*args, **kwargs)\n",
    "                end = time.time()\n",
    "                print('{} 函数运行用时{:.2f}秒'.format(func.__name__, 2*(end-start)))\n",
    "            return res\n",
    "        \n",
    "        return inner\n",
    "\n",
    "    return outer\n",
    "\n",
    "\n",
    "@timer(method='origin')      # 相当于 timer = timer(method = 'origin')  f1 = timer(f1)  # f1 对应的是 inner; timer(f1)的 f1 对应的是 outer\n",
    "def f1():                   # 原函数要用参数，就可以采用 *args,**kwargs\n",
    "    print('f1 run')\n",
    "    time.sleep(1)\n",
    "\n",
    "\n",
    "@timer(method='double')\n",
    "def f2():\n",
    "    print('f2 run')\n",
    "    time.sleep(1)\n",
    "    \n",
    "    \n",
    "f1()\n",
    "print()                      # 加个空行 ：）\n",
    "f2()"
   ]
  },
  {
   "cell_type": "markdown",
   "metadata": {},
   "source": [
    "**9、何时执行装饰器**\n",
    "\n",
    "- 一装饰就执行，不必等调用"
   ]
  },
  {
   "cell_type": "code",
   "execution_count": 105,
   "metadata": {},
   "outputs": [
    {
     "name": "stdout",
     "output_type": "stream",
     "text": [
      "run\n",
      "run\n",
      "run\n"
     ]
    }
   ],
   "source": [
    "func_names = []\n",
    "def find_function(func):\n",
    "    print('run')\n",
    "    func_names.append(func)\n",
    "    return func\n",
    "\n",
    "\n",
    "@find_function\n",
    "def f1():\n",
    "    print('f1 run')\n",
    "    \n",
    "    \n",
    "@find_function\n",
    "def f2():\n",
    "    print('f2 run')\n",
    "    \n",
    "    \n",
    "@find_function\n",
    "def f3():\n",
    "    print('f3 run')\n",
    "    \n",
    "    \n",
    "#for func in func_names:\n",
    "     #func()"
   ]
  },
  {
   "cell_type": "code",
   "execution_count": 106,
   "metadata": {},
   "outputs": [
    {
     "name": "stdout",
     "output_type": "stream",
     "text": [
      "f1\n",
      "f1 run\n",
      "\n",
      "f2\n",
      "f2 run\n",
      "\n",
      "f3\n",
      "f3 run\n",
      "\n"
     ]
    }
   ],
   "source": [
    "for func in func_names:\n",
    "    print(func.__name__)\n",
    "    func()\n",
    "    print()"
   ]
  },
  {
   "cell_type": "code",
   "execution_count": 107,
   "metadata": {},
   "outputs": [
    {
     "name": "stdout",
     "output_type": "stream",
     "text": [
      "[<function f1 at 0x000001A91F3441E0>, <function f2 at 0x000001A91F344F28>, <function f3 at 0x000001A91F344C80>]\n"
     ]
    }
   ],
   "source": [
    "print(func_names)"
   ]
  },
  {
   "cell_type": "markdown",
   "metadata": {},
   "source": [
    "**10、回归本源**\n",
    "\n",
    "- 原函数的属性被掩盖了"
   ]
  },
  {
   "cell_type": "code",
   "execution_count": 108,
   "metadata": {},
   "outputs": [
    {
     "name": "stdout",
     "output_type": "stream",
     "text": [
      "inner\n"
     ]
    }
   ],
   "source": [
    "import time\n",
    "\n",
    "def timer(func):\n",
    "    \n",
    "    def inner():\n",
    "        print('inner run')\n",
    "        start = time.time()\n",
    "        func()\n",
    "        end = time.time()\n",
    "        print('{} 函数运行用时{:.2f}秒'.format(func.__name__, (end-start)))\n",
    "        \n",
    "    return inner\n",
    "\n",
    "@timer                       # 相当于实现了 f1 = timer(f1)\n",
    "def f1():\n",
    "    print('f1 run')\n",
    "    time.sleep(1)\n",
    "    \n",
    "    \n",
    "    \n",
    "print(f1.__name__)"
   ]
  },
  {
   "cell_type": "markdown",
   "metadata": {},
   "source": [
    "- 回来"
   ]
  },
  {
   "cell_type": "code",
   "execution_count": 110,
   "metadata": {},
   "outputs": [
    {
     "name": "stdout",
     "output_type": "stream",
     "text": [
      "f1\n",
      "\n",
      "inner run\n",
      "f1 run\n",
      "f1 函数运行用时1.00秒\n"
     ]
    }
   ],
   "source": [
    "import time\n",
    "from functools import wraps\n",
    "\n",
    "def timer(func):\n",
    "    @wraps(func)\n",
    "    def inner():\n",
    "        print('inner run')\n",
    "        start = time.time()\n",
    "        func()\n",
    "        end = time.time()\n",
    "        print('{} 函数运行用时{:.2f}秒'.format(func.__name__, (end-start)))\n",
    "        \n",
    "    return inner\n",
    "\n",
    "@timer                       # 相当于实现了 f1 = timer(f1)\n",
    "def f1():\n",
    "    print('f1 run')\n",
    "    time.sleep(1)\n",
    "    \n",
    "    \n",
    "print(f1.__name__)\n",
    "print()\n",
    "f1()"
   ]
  },
  {
   "cell_type": "markdown",
   "metadata": {},
   "source": [
    "# 题目\n",
    "\n",
    "## 题目一 简答题（数据类型的底层实现）\n",
    "\n",
    "以下两段程序分别会输出怎样的结果？请运行验证，并给出理由\n",
    "\n",
    "代码1："
   ]
  },
  {
   "cell_type": "code",
   "execution_count": 111,
   "metadata": {},
   "outputs": [
    {
     "name": "stdout",
     "output_type": "stream",
     "text": [
      "[1]\n",
      "[1, 1]\n",
      "[1, 1, 1]\n"
     ]
    }
   ],
   "source": [
    "def f1(ls=[]):\n",
    "    ls.append(1)\n",
    "    return ls\n",
    "\n",
    "\n",
    "print(f1())\n",
    "print(f1())\n",
    "print(f1())"
   ]
  },
  {
   "cell_type": "markdown",
   "metadata": {},
   "source": [
    "代码2："
   ]
  },
  {
   "cell_type": "code",
   "execution_count": 113,
   "metadata": {},
   "outputs": [
    {
     "name": "stdout",
     "output_type": "stream",
     "text": [
      "{'name': 'Mary', 'id': 2}\n",
      "[{'name': 'Mary', 'id': 2}, {'name': 'Mary', 'id': 2}, {'name': 'Mary', 'id': 2}]\n"
     ]
    }
   ],
   "source": [
    "person = {'name': '', 'id': 0}\n",
    "team = []\n",
    "\n",
    "for i in range(3):\n",
    "    x = person\n",
    "    x['id'] = i\n",
    "    team.append(x)\n",
    "    \n",
    "\n",
    "team[0]['name'] = 'Peter'\n",
    "team[1]['name'] = 'Tom'\n",
    "team[2]['name'] = 'Mary'\n",
    "\n",
    "print(team[1])\n",
    "print(team)"
   ]
  },
  {
   "cell_type": "markdown",
   "metadata": {},
   "source": [
    "## 题目二 编程题（更加简洁的语法）\n",
    "\n",
    "### 1、用列表推导实现一个过滤器\n",
    "\n",
    "- 实现一个判断数字 n 是否为素数的函数 isprime(n)"
   ]
  },
  {
   "cell_type": "code",
   "execution_count": 114,
   "metadata": {},
   "outputs": [],
   "source": [
    "from math import sqrt\n",
    "\n",
    "def isprime(num):\n",
    "    if num is 1:\n",
    "        return False\n",
    "    for i in range(2, int(sqrt(num)) + 1):\n",
    "            if num%i is 0:\n",
    "                return False\n",
    "    return True"
   ]
  },
  {
   "cell_type": "code",
   "execution_count": 115,
   "metadata": {},
   "outputs": [
    {
     "data": {
      "text/plain": [
       "[2,\n",
       " 3,\n",
       " 5,\n",
       " 7,\n",
       " 11,\n",
       " 13,\n",
       " 17,\n",
       " 19,\n",
       " 23,\n",
       " 29,\n",
       " 31,\n",
       " 37,\n",
       " 41,\n",
       " 43,\n",
       " 47,\n",
       " 53,\n",
       " 59,\n",
       " 61,\n",
       " 67,\n",
       " 71,\n",
       " 73,\n",
       " 79,\n",
       " 83,\n",
       " 89,\n",
       " 97]"
      ]
     },
     "execution_count": 115,
     "metadata": {},
     "output_type": "execute_result"
    }
   ],
   "source": [
    "# 用列表推导获得100以内的素数列表\n",
    "\n",
    "[i for i in range(1, 100) if isprime(i)]"
   ]
  },
  {
   "cell_type": "markdown",
   "metadata": {},
   "source": [
    "### 2、用列表推导实现两列表对应元素的操作\n",
    "\n",
    "- 获得新列表 z，列表内元素\n",
    "\n",
    "z[i] = pow(x[i], y[i])\n",
    "\n",
    "x = [1, 2, 3, 4]\n",
    "\n",
    "y = [0, 2, 3, 1]"
   ]
  },
  {
   "cell_type": "code",
   "execution_count": 116,
   "metadata": {},
   "outputs": [
    {
     "data": {
      "text/plain": [
       "[1.0, 4.0, 27.0, 4.0]"
      ]
     },
     "execution_count": 116,
     "metadata": {},
     "output_type": "execute_result"
    }
   ],
   "source": [
    "from math import pow\n",
    "\n",
    "x = [1, 2, 3, 4]\n",
    "y = [0, 2, 3, 1]\n",
    "z = [pow(x[i], y[i]) for i in range(len(x))]\n",
    "z"
   ]
  },
  {
   "cell_type": "markdown",
   "metadata": {},
   "source": [
    "### 3、使用条件表达式，将 x, y 中的最大值赋值给 z"
   ]
  },
  {
   "cell_type": "code",
   "execution_count": 117,
   "metadata": {},
   "outputs": [
    {
     "data": {
      "text/plain": [
       "20"
      ]
     },
     "execution_count": 117,
     "metadata": {},
     "output_type": "execute_result"
    }
   ],
   "source": [
    "x, y = 10, 20\n",
    "\n",
    "max = x if x > y else y\n",
    "max"
   ]
  },
  {
   "cell_type": "markdown",
   "metadata": {},
   "source": [
    "## 题目三 编程题（三大神器）\n",
    "\n",
    "### 1、构造一个生产 n 以内的素数生成器， 与编程题2-1 进行相互验证\n",
    "\n",
    "**这个是逐渐删除 素数的倍数 最后得到素数列表！！！**\n",
    "\n",
    "埃氏素数生成法(埃拉托斯特尼筛法)：https://www.jianshu.com/p/4c6253653b4c\n",
    "\n",
    "Python实现：https://blog.csdn.net/andy_super/article/details/80937770"
   ]
  },
  {
   "cell_type": "code",
   "execution_count": 119,
   "metadata": {},
   "outputs": [
    {
     "name": "stdout",
     "output_type": "stream",
     "text": [
      "2\n",
      "3\n",
      "5\n",
      "7\n",
      "11\n",
      "13\n",
      "17\n",
      "19\n",
      "23\n",
      "29\n",
      "31\n",
      "37\n",
      "41\n",
      "43\n",
      "47\n",
      "53\n",
      "59\n",
      "61\n",
      "67\n",
      "71\n",
      "73\n",
      "79\n",
      "83\n",
      "89\n",
      "97\n"
     ]
    }
   ],
   "source": [
    "# -*- coding: utf-8 -*-\n",
    "\n",
    "# 埃氏筛法计算素数\n",
    "# 简单地讲，yield 的作用就是把一个函数变成一个 generator\n",
    "\n",
    "def _odd_list():\n",
    "    \"\"\"奇数生成器（不包括1）生成的是一个无限序列\"\"\"\n",
    "    n = 1\n",
    "    while True:\n",
    "        n += 2\n",
    "        yield n\n",
    "\n",
    "        \n",
    "def filter_not_prime(n):\n",
    "    \"\"\"过滤因子（筛选函数），保留不能整除的，筛掉可以整除的，即倍数\"\"\"\n",
    "    return lambda x : x % n > 0\n",
    "\n",
    "\n",
    "def primes():\n",
    "    \"\"\"生成素数序列\"\"\"\n",
    "    yield 2\n",
    "    it = _odd_list()    #初始序列\n",
    "    while True:\n",
    "        n = next(it)\n",
    "        yield n\n",
    "        it = filter(filter_not_prime(n), it)    #it在不断的next调用中，进行筛选。\n",
    "\n",
    "        \n",
    "def is_prime(num):\n",
    "    \"\"\"遍历素数生成器\"\"\"\n",
    "    for i, x in enumerate(primes()):    # enumerate迭代遍历键值对（索引：素数）\n",
    "        if x > num:\n",
    "            #if i > num\n",
    "            break\n",
    "        else:\n",
    "            print(x)\n",
    "        \n",
    "        \n",
    "def run():\n",
    "    is_prime(100)\n",
    "    \n",
    "\n",
    "if __name__ is '__main__':\n",
    "    run()"
   ]
  },
  {
   "attachments": {
    "image.png": {
     "image/png": "[encoded data removed]"
    }
   },
   "cell_type": "markdown",
   "metadata": {},
   "source": [
    "### 2、某大型购物网站进行中秋优惠促销活动，请在不改变原计费函数 charge() 的基础上，输出“中秋节快乐！”，并实现总价打 8折 的优惠\n",
    "\n",
    "![image.png](attachment:image.png)"
   ]
  },
  {
   "cell_type": "code",
   "execution_count": 120,
   "metadata": {},
   "outputs": [],
   "source": [
    "goods = {'water': 1.5, 'egg': 1, 'meat': 15}"
   ]
  },
  {
   "cell_type": "code",
   "execution_count": 121,
   "metadata": {},
   "outputs": [
    {
     "name": "stdout",
     "output_type": "stream",
     "text": [
      "中秋节快乐！\n"
     ]
    },
    {
     "data": {
      "text/plain": [
       "3.6"
      ]
     },
     "execution_count": 121,
     "metadata": {},
     "output_type": "execute_result"
    }
   ],
   "source": [
    "def charge(goods_name, goods_count):\n",
    "    \"\"\"购物计费\"\"\"\n",
    "    cost = goods[goods_name] * goods_count\n",
    "    if goods_count in range(6):\n",
    "        return cost\n",
    "    elif goods_count in range(11):\n",
    "        return cost * 0.95\n",
    "    elif goods_count > 10:\n",
    "        return cost * 0.9\n",
    "    \n",
    "    \n",
    "def shop(goods_name, goods_count):\n",
    "    print('中秋节快乐！')\n",
    "    return charge(goods_name, goods_count) * 0.8\n",
    "\n",
    "\n",
    "cost = shop('water', 3)\n",
    "cost"
   ]
  },
  {
   "cell_type": "code",
   "execution_count": 126,
   "metadata": {},
   "outputs": [
    {
     "name": "stdout",
     "output_type": "stream",
     "text": [
      "中秋节快乐！\n"
     ]
    },
    {
     "data": {
      "text/plain": [
       "3.6"
      ]
     },
     "execution_count": 126,
     "metadata": {},
     "output_type": "execute_result"
    }
   ],
   "source": [
    "from functools import wraps\n",
    "\n",
    "\n",
    "def mid_autumn(func):\n",
    "    @wraps(func)\n",
    "    def shop(goods_name, goods_count):\n",
    "        print('中秋节快乐！')\n",
    "        cost = func(goods_name, goods_count) * 0.8\n",
    "        return cost\n",
    "    \n",
    "    return shop\n",
    "    \n",
    "@mid_autumn\n",
    "def charge(goods_name, goods_count):\n",
    "    \"\"\"购物计费\"\"\"\n",
    "    cost = goods[goods_name] * goods_count\n",
    "    if goods_count in range(6):\n",
    "        return cost\n",
    "    elif goods_count in range(11):\n",
    "        return cost * 0.95\n",
    "    elif goods_count > 10:\n",
    "        return cost * 0.9\n",
    "    \n",
    "    \n",
    "cost = charge('water', 3)\n",
    "cost"
   ]
  }
 ],
 "metadata": {
  "kernelspec": {
   "display_name": "Python 3",
   "language": "python",
   "name": "python3"
  },
  "language_info": {
   "codemirror_mode": {
    "name": "ipython",
    "version": 3
   },
   "file_extension": ".py",
   "mimetype": "text/x-python",
   "name": "python",
   "nbconvert_exporter": "python",
   "pygments_lexer": "ipython3",
   "version": "3.7.2"
  }
 },
 "nbformat": 4,
 "nbformat_minor": 4
}
