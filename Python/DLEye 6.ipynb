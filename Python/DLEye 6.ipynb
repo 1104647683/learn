{
 "cells": [
  {
   "cell_type": "code",
   "execution_count": 1,
   "metadata": {},
   "outputs": [],
   "source": [
    "### 函数的定义及应用\n",
    "\n",
    "## 为什么要用函数\n",
    "# 1、复用性（抽象，封装）\n",
    "# 2、分治（模块化设计）\n",
    "# 3、利于维护"
   ]
  },
  {
   "cell_type": "code",
   "execution_count": 2,
   "metadata": {},
   "outputs": [],
   "source": [
    "# 顺序式、调用式"
   ]
  },
  {
   "cell_type": "code",
   "execution_count": 3,
   "metadata": {},
   "outputs": [],
   "source": [
    "## 函数的定义及调用\n",
    "\n",
    "# 白箱子：输入——处理——输出\n",
    "# 三要素：参数、函数体、返回值"
   ]
  },
  {
   "cell_type": "code",
   "execution_count": 4,
   "metadata": {},
   "outputs": [],
   "source": [
    "## 参数传递\n",
    "\n",
    "# 形参（形式参数）：函数定义时的参数，变量名\n",
    "# 实参（实际参数）：函数调用时的参数，变量值\n",
    "# 位置参数：严格按照位置顺序，用实参对形参进行赋值（关联） # 如多赋值 实参形参必须一一对应"
   ]
  },
  {
   "cell_type": "code",
   "execution_count": 5,
   "metadata": {},
   "outputs": [
    {
     "name": "stdout",
     "output_type": "stream",
     "text": [
      "3 1 2\n"
     ]
    }
   ],
   "source": [
    "# 关键字参数：可以调动顺序，但形参实参必须数量一致\n",
    "\n",
    "def function(x, y, z):\n",
    "    print(x, y, z)\n",
    "    \n",
    "function(y=1, z=2, x=3)"
   ]
  },
  {
   "cell_type": "code",
   "execution_count": 6,
   "metadata": {},
   "outputs": [
    {
     "name": "stdout",
     "output_type": "stream",
     "text": [
      "1 3 2\n"
     ]
    }
   ],
   "source": [
    "# 位置参数和关键字参数可以混用，但位置参数必须在前\n",
    "# 不能多次赋值 如 function(1, y=2, x=3)\n",
    "\n",
    "function(1, z=2, y=3)    "
   ]
  },
  {
   "cell_type": "code",
   "execution_count": 8,
   "metadata": {},
   "outputs": [
    {
     "name": "stdout",
     "output_type": "stream",
     "text": [
      "大眼仔 18 male\n",
      "钢牙妹 20 female\n"
     ]
    }
   ],
   "source": [
    "# 默认参数：定义阶段就给形参赋值————该形参的常用值\n",
    "# 机器学习库中类的方法里非常常见\n",
    "# 调用函数时，可以不对该形参传值\n",
    "\n",
    "def register(name, age, sex='male'):    # 默认参数一定要放后面\n",
    "    print(name, age, sex)\n",
    "    \n",
    "register('大眼仔', 18)\n",
    "register('钢牙妹', 20,'female')          # 同时可以正常赋值"
   ]
  },
  {
   "cell_type": "code",
   "execution_count": 9,
   "metadata": {},
   "outputs": [
    {
     "name": "stdout",
     "output_type": "stream",
     "text": [
      "1228522297800\n",
      "1228522297800\n",
      "[1]\n",
      "1228522297800\n",
      "1228522297800\n",
      "[1, 1]\n"
     ]
    }
   ],
   "source": [
    "# 默认参数要设置成不可变类型（数字、字符串、元组）\n",
    "\n",
    "def function(ls=[]):     # 地址不变，列表变\n",
    "    print(id(ls))\n",
    "    ls.append(1)\n",
    "    print(id(ls))\n",
    "    print(ls)\n",
    "    \n",
    "function()\n",
    "function()"
   ]
  },
  {
   "cell_type": "code",
   "execution_count": 10,
   "metadata": {},
   "outputs": [
    {
     "name": "stdout",
     "output_type": "stream",
     "text": [
      "1228467097528\n",
      "1228524055408\n",
      "Python3.7\n",
      "1228467097528\n",
      "1228524055472\n",
      "Python3.7\n"
     ]
    }
   ],
   "source": [
    "def function(ls='Python'):     # 地址变，内容不变\n",
    "    print(id(ls))\n",
    "    ls += '3.7'\n",
    "    print(id(ls))\n",
    "    print(ls)\n",
    "    \n",
    "function()\n",
    "function()"
   ]
  },
  {
   "cell_type": "code",
   "execution_count": 13,
   "metadata": {},
   "outputs": [
    {
     "name": "stdout",
     "output_type": "stream",
     "text": [
      "李白\n",
      "李白太\n"
     ]
    }
   ],
   "source": [
    "# 使参数变成可选\n",
    "\n",
    "def name(first_name, last_name, middle_name=None):\n",
    "    if middle_name:\n",
    "        return first_name + middle_name + last_name\n",
    "    else:\n",
    "        return first_name + last_name\n",
    "    \n",
    "print(name('李', '白'))\n",
    "print(name('李', '太', '白'))"
   ]
  },
  {
   "cell_type": "code",
   "execution_count": 14,
   "metadata": {},
   "outputs": [
    {
     "name": "stdout",
     "output_type": "stream",
     "text": [
      "1 2 3\n",
      "(4, 5, 6)\n"
     ]
    }
   ],
   "source": [
    "# 可变长参数 *args ，该形参必须放在参数列表最后\n",
    "\n",
    "def foo(x, y, z, *args):\n",
    "    print(x, y, z)\n",
    "    print(args)\n",
    "    \n",
    "foo(1, 2, 3, 4, 5, 6)  # 多余的打包作为元组"
   ]
  },
  {
   "cell_type": "code",
   "execution_count": 16,
   "metadata": {},
   "outputs": [
    {
     "name": "stdout",
     "output_type": "stream",
     "text": [
      "1 2 3\n",
      "([4, 5, 6],)\n",
      "1 2 3\n",
      "(4, 5, 6)\n"
     ]
    }
   ],
   "source": [
    "# 实参打散，打散列表、字符串、元组或集合，还是返回元组\n",
    "\n",
    "def foo(x, y, z, *args):\n",
    "    print(x, y, z)\n",
    "    print(args)\n",
    "    \n",
    "foo(1, 2, 3, [4, 5, 6]) \n",
    "foo(1, 2, 3, *[4, 5, 6]) # 打散"
   ]
  },
  {
   "cell_type": "code",
   "execution_count": 18,
   "metadata": {},
   "outputs": [
    {
     "name": "stdout",
     "output_type": "stream",
     "text": [
      "1 2 3\n",
      "{'a': 4, 'b': 5, 'c': 6}\n"
     ]
    }
   ],
   "source": [
    "# 可变长参数 **kwargs，这种要赋值形式\n",
    "\n",
    "def foo(x, y, z, **kwargs):\n",
    "    print(x, y, z)\n",
    "    print(kwargs)\n",
    "    \n",
    "foo(1, 2, 3, a=4, b=5, c=6)  # 多余的打包作为字典"
   ]
  },
  {
   "cell_type": "code",
   "execution_count": 20,
   "metadata": {},
   "outputs": [
    {
     "name": "stdout",
     "output_type": "stream",
     "text": [
      "1 2 3\n",
      "{'a': 4, 'b': 5, 'c': 6}\n"
     ]
    }
   ],
   "source": [
    "# 字典实参打散\n",
    "\n",
    "def foo(x, y, z, **kwargs):\n",
    "    print(x, y, z)\n",
    "    print(kwargs)\n",
    "    \n",
    "foo(1, 2, 3, **{'a': 4, 'b': 5, 'c': 6})  # 不加 ** 会报错"
   ]
  },
  {
   "cell_type": "code",
   "execution_count": 21,
   "metadata": {},
   "outputs": [
    {
     "name": "stdout",
     "output_type": "stream",
     "text": [
      "(1, 2, 3)\n",
      "{'a': 4, 'b': 5, 'c': 6}\n"
     ]
    }
   ],
   "source": [
    "# 可变长参数的组合使用\n",
    "\n",
    "def foo(*args, **kwargs):\n",
    "    print(args)\n",
    "    print(kwargs)\n",
    "    \n",
    "foo(1, 2, 3, a=4, b=5, c=6)    # 前元组，后字典"
   ]
  },
  {
   "cell_type": "code",
   "execution_count": 22,
   "metadata": {},
   "outputs": [],
   "source": [
    "## 函数体与变量作用域\n",
    "# 函数体就是一段只在函数被调用时，才会执行的代码"
   ]
  },
  {
   "cell_type": "code",
   "execution_count": 23,
   "metadata": {},
   "outputs": [
    {
     "ename": "NameError",
     "evalue": "name 'z' is not defined",
     "output_type": "error",
     "traceback": [
      "\u001b[1;31m---------------------------------------------------------------------------\u001b[0m",
      "\u001b[1;31mNameError\u001b[0m                                 Traceback (most recent call last)",
      "\u001b[1;32m<ipython-input-23-de6f883669f7>\u001b[0m in \u001b[0;36m<module>\u001b[1;34m\u001b[0m\n\u001b[0;32m      6\u001b[0m \u001b[1;33m\u001b[0m\u001b[0m\n\u001b[0;32m      7\u001b[0m \u001b[0mmultipy\u001b[0m\u001b[1;33m(\u001b[0m\u001b[1;36m2\u001b[0m\u001b[1;33m,\u001b[0m \u001b[1;36m9\u001b[0m\u001b[1;33m)\u001b[0m\u001b[1;33m\u001b[0m\u001b[1;33m\u001b[0m\u001b[0m\n\u001b[1;32m----> 8\u001b[1;33m \u001b[0mprint\u001b[0m\u001b[1;33m(\u001b[0m\u001b[0mz\u001b[0m\u001b[1;33m)\u001b[0m\u001b[1;33m\u001b[0m\u001b[1;33m\u001b[0m\u001b[0m\n\u001b[0m",
      "\u001b[1;31mNameError\u001b[0m: name 'z' is not defined"
     ]
    }
   ],
   "source": [
    "# 局部变量————仅在函数体内定义和发挥作用\n",
    "\n",
    "def multipy(x, y):\n",
    "    z = x*y\n",
    "    return z\n",
    "\n",
    "multipy(2, 9)\n",
    "print(z)"
   ]
  },
  {
   "cell_type": "code",
   "execution_count": 26,
   "metadata": {},
   "outputs": [
    {
     "name": "stdout",
     "output_type": "stream",
     "text": [
      "54\n",
      "[0, 54]\n",
      "54\n"
     ]
    }
   ],
   "source": [
    "# 全局变量————外部定义的都是全局变量 可以在函数体内直接被使用\n",
    "\n",
    "n = 3\n",
    "ls = [0]\n",
    "def multipy(x, y):\n",
    "    global z\n",
    "    z = n*x*y\n",
    "    ls.append(z)\n",
    "    return z\n",
    "\n",
    "\n",
    "print(multipy(2, 9))\n",
    "print(ls)\n",
    "print(z)   # 想要保存变量，就用global全局"
   ]
  },
  {
   "cell_type": "code",
   "execution_count": 28,
   "metadata": {},
   "outputs": [
    {
     "name": "stdout",
     "output_type": "stream",
     "text": [
      "(1, 3, 9, 27)\n",
      "1\n",
      "3\n",
      "9\n",
      "27\n"
     ]
    }
   ],
   "source": [
    "## 返回值\n",
    "\n",
    "# 单个返回值 return x\n",
    "# 多个返回值 return x, y 以元组形式，这样可以解包赋值\n",
    "\n",
    "def foo(x = 1):\n",
    "    return 1, x, x**2, x**3\n",
    "\n",
    "\n",
    "print(foo(3))\n",
    "a, b, c, d = foo(3)\n",
    "print(a)\n",
    "print(b)\n",
    "print(c)\n",
    "print(d)"
   ]
  },
  {
   "cell_type": "code",
   "execution_count": 29,
   "metadata": {},
   "outputs": [],
   "source": [
    "# 可以有多个return ，代表了函数调用结束\n",
    "# 没有return , 则返回值是 none"
   ]
  },
  {
   "cell_type": "code",
   "execution_count": 30,
   "metadata": {},
   "outputs": [],
   "source": [
    "## 几点建议\n",
    "\n",
    "# 函数及其参数的命名参照变量的命名\n",
    "# 字母小写及下划线，且有实际意义\n",
    "\n",
    "# 函数最好有注释\n",
    "\n",
    "# 函数定义前后空两行\n",
    "# 默认参数赋值 = 两边不需要加空格"
   ]
  },
  {
   "cell_type": "code",
   "execution_count": 31,
   "metadata": {},
   "outputs": [],
   "source": [
    "## 函数式编程实例\n",
    "\n",
    "# 模块化编程思想： 自顶向下，分而治之"
   ]
  },
  {
   "cell_type": "code",
   "execution_count": 2,
   "metadata": {},
   "outputs": [
    {
     "name": "stdin",
     "output_type": "stream",
     "text": [
      "请输入运动员A的每球获胜概率（0~1）： 0.55\n",
      "请输入模拟场次正整数： 10000\n"
     ]
    },
    {
     "name": "stdout",
     "output_type": "stream",
     "text": [
      "模拟比赛总次数： 10000\n",
      "A 选手每球获胜概率： 0.55\n",
      "B 选手每球获胜概率： 0.45\n",
      "共模拟了10000场比赛\n",
      "选手A获胜5491场，占比54.9%\n",
      "选手B获胜4509场，占比45.1%\n"
     ]
    }
   ],
   "source": [
    "# 小丹每球获胜概率概率：55%，小伟每球获胜概率：45%，21分先胜，10000独立比赛，n较大实验结果≈真实期望\n",
    "import random\n",
    "\n",
    "# 输入原始数据\n",
    "def get_inputs():\n",
    "    prob_A = eval(input('请输入运动员A的每球获胜概率（0~1）：'))\n",
    "    prob_B = round(1-prob_A, 2)\n",
    "    number_of_games = eval(input('请输入模拟场次正整数：'))\n",
    "    print('模拟比赛总次数：', number_of_games)\n",
    "    print('A 选手每球获胜概率：', prob_A)\n",
    "    print('B 选手每球获胜概率：', prob_B)\n",
    "    return prob_A, prob_B, number_of_games\n",
    "\n",
    "\n",
    "# 单元测试\n",
    "# prob_A, prob_B, number_of_games = get_inputs()\n",
    "\n",
    "\n",
    "# 多场比赛模拟\n",
    "def sim_n_games(prob_A, prob_B, number_of_games):\n",
    "    win_A, win_B = 0, 0              # 初始化\n",
    "    for i in range(number_of_games):\n",
    "        score_A, score_B = sim_one_game(prob_A, prob_B)\n",
    "        if score_A > score_B:\n",
    "            win_A += 1\n",
    "        else:\n",
    "            win_B += 1\n",
    "    return win_A, win_B \n",
    "\n",
    "\n",
    "def sim_one_game(prob_A, prob_B):\n",
    "    \"\"\"\n",
    "    随机模拟一场比赛的结果\n",
    "    \"\"\"\n",
    "    score_A, score_B = 0, 0\n",
    "    while not game_over(score_A, score_B):\n",
    "        if random.random() < prob_A:\n",
    "            score_A += 1\n",
    "        else:\n",
    "            score_B += 1            \n",
    "        return score_A, score_B\n",
    "    \n",
    "    \n",
    "# 21分结束条件\n",
    "def game_over(score_A, score_B):\n",
    "    return score_A is 21 or score_B is 21\n",
    "\n",
    "\n",
    "# 单元测试 用assert————断言进行\n",
    "# 表达式为 false 时，触发异常\n",
    "# assert game_over(21, 8) is True\n",
    "# assert game_over(9, 21) is True\n",
    "# assert game_over(11, 8) is False\n",
    "# assert game_over(21, 8) is False 会触发异常，因为应该是True\n",
    "# print(sim_one_game(0.55, 0.45))\n",
    "# print(sim_one_game(0.7, 0.3))\n",
    "# print(sim_one_game(0.2, 0.8))\n",
    "# print(sim_n_games(0.55, 0.45, 1000))\n",
    "\n",
    "\n",
    "# 结果汇总输出\n",
    "\n",
    "def print_summary(win_A, win_B, number_of_games):\n",
    "    print('共模拟了{}场比赛'.format(number_of_games))\n",
    "    print('选手A获胜{0}场，占比{1:.1%}'.format(win_A, win_A/number_of_games))\n",
    "    print('选手B获胜{0}场，占比{1:.1%}'.format(win_B, win_B/number_of_games))                                      \n",
    "    \n",
    "\n",
    "\n",
    "def main():\n",
    "    # 主要逻辑\n",
    "    prob_A, prob_B, number_of_games = get_inputs()                         # 获取原始数据\n",
    "    win_A, win_B = sim_n_games(prob_A, prob_B, number_of_games)           # 获取模拟结果         \n",
    "    print_summary(win_A, win_B, number_of_games)     # 结果汇总输出\n",
    "\n",
    "main()"
   ]
  },
  {
   "cell_type": "code",
   "execution_count": 4,
   "metadata": {},
   "outputs": [
    {
     "data": {
      "text/plain": [
       "[(76, 94), (79, 100), (85, 85), (86, 71), (93, 88)]"
      ]
     },
     "execution_count": 4,
     "metadata": {},
     "output_type": "execute_result"
    }
   ],
   "source": [
    "## 匿名函数\n",
    "# 参数列表中最适合，常与key = 搭配\n",
    "\n",
    "# 排序 sort() / sorted()\n",
    "ls = [(93, 88), (79, 100), (86, 71), (85, 85), (76, 94)]\n",
    "ls.sort()\n",
    "ls"
   ]
  },
  {
   "cell_type": "code",
   "execution_count": 5,
   "metadata": {},
   "outputs": [
    {
     "data": {
      "text/plain": [
       "[(86, 71), (85, 85), (93, 88), (76, 94), (79, 100)]"
      ]
     },
     "execution_count": 5,
     "metadata": {},
     "output_type": "execute_result"
    }
   ],
   "source": [
    "ls.sort(key = lambda x: x[1])\n",
    "ls"
   ]
  },
  {
   "cell_type": "code",
   "execution_count": 8,
   "metadata": {},
   "outputs": [
    {
     "data": {
      "text/plain": [
       "[(93, 88), (79, 100), (85, 85), (76, 94), (86, 71)]"
      ]
     },
     "execution_count": 8,
     "metadata": {},
     "output_type": "execute_result"
    }
   ],
   "source": [
    "ls = [(93, 88), (79, 100), (86, 71), (85, 85), (76, 94)]\n",
    "temp = sorted(ls, key = lambda x: x[0]+x[1], reverse=True)\n",
    "temp"
   ]
  },
  {
   "cell_type": "code",
   "execution_count": 10,
   "metadata": {},
   "outputs": [
    {
     "name": "stdout",
     "output_type": "stream",
     "text": [
      "(79, 100) (86, 71)\n"
     ]
    }
   ],
   "source": [
    "ls = [(93, 88), (79, 100), (86, 71), (85, 85), (76, 94)]\n",
    "n = max(ls, key = lambda x: x[1])\n",
    "m = min(ls, key = lambda x: x[1])\n",
    "print(n, m)"
   ]
  },
  {
   "cell_type": "code",
   "execution_count": 11,
   "metadata": {},
   "outputs": [],
   "source": [
    "## 面向过程和面向对象\n",
    "# 面向过程————以过程为中心的编程思想，以“什么正在发生”为主要目标进行编程。 冰冷 程序化（上面这个函数就是面向过程）\n",
    "# 面向对象————将现实世界的事物抽象成对象，更关注“谁在受影响”，更加贴近现实。 有血有肉 拟人化 \n",
    "\n",
    "# 面对过程\n",
    "# 针对过程需要编写一个一个 函数，主函数调用\n",
    "\n",
    "# 面向对象\n",
    "# 针对不同的对象（类）编写各自的 方法，用对象（类）时调用"
   ]
  },
  {
   "cell_type": "code",
   "execution_count": 1,
   "metadata": {},
   "outputs": [
    {
     "name": "stdout",
     "output_type": "stream",
     "text": [
      "a\n",
      "('b', 'c', 'd')\n",
      "{'name': 'Sarah', 'age': 18}\n"
     ]
    }
   ],
   "source": [
    "# 题目\n",
    "\n",
    "def func(x, *y, **z):\n",
    "    print(x)\n",
    "    print(y)\n",
    "    print(z)\n",
    "\n",
    "ls = ['a','b','c']\n",
    "d = {'name':'Sarah', 'age':18}\n",
    "func(*ls,'d',**d)"
   ]
  },
  {
   "cell_type": "code",
   "execution_count": 4,
   "metadata": {},
   "outputs": [
    {
     "name": "stdin",
     "output_type": "stream",
     "text": [
      "请输入运动员A的每球获胜概率（0~1）： 0.55\n",
      "请输入模拟场次正整数： 10000\n"
     ]
    },
    {
     "name": "stdout",
     "output_type": "stream",
     "text": [
      "模拟比赛总次数： 10000\n",
      "A 选手每球获胜概率： 0.55\n",
      "B 选手每球获胜概率： 0.45\n",
      "共模拟了10000场比赛\n",
      "选手A获胜5690场，占比56.9%\n",
      "选手B获胜4310场，占比43.1%\n"
     ]
    }
   ],
   "source": [
    "# 羽毛球题目加强\n",
    "# 小丹每球获胜概率概率：55%，小伟每球获胜概率：45%，21分先胜，10000独立比赛，n较大实验结果≈真实期望\n",
    "import random\n",
    "\n",
    "# 输入原始数据\n",
    "def get_inputs():\n",
    "    while True:\n",
    "        prob_A = eval(input('请输入运动员A的每球获胜概率（0~1）：'))\n",
    "        if prob_A > 0 and prob_A < 1:\n",
    "            break\n",
    "        else:\n",
    "            print('输入错误，请重新输入...')\n",
    "    prob_B = round(1-prob_A, 2)\n",
    "    number_of_games = eval(input('请输入模拟场次正整数：'))\n",
    "    print('模拟比赛总次数：', number_of_games)\n",
    "    print('A 选手每球获胜概率：', prob_A)\n",
    "    print('B 选手每球获胜概率：', prob_B)\n",
    "    return prob_A, prob_B, number_of_games\n",
    "\n",
    "\n",
    "# 单元测试\n",
    "# prob_A, prob_B, number_of_games = get_inputs()\n",
    "\n",
    "\n",
    "# 多局比赛模拟\n",
    "def sim_n_games(prob_A, prob_B, number_of_games):\n",
    "    win_A, win_B = 0, 0    # 初始化\n",
    "    victor_A, victor_B = 0, 0\n",
    "    for i in range(number_of_games):\n",
    "        while victor_A is not 2 and victor_B is not 2:\n",
    "            score_A, score_B = sim_one_game(prob_A, prob_B)\n",
    "            if score_A > score_B:\n",
    "                victor_A += 1\n",
    "            else:\n",
    "                victor_B += 1\n",
    "        while victor_A is 2:\n",
    "            win_A += 1\n",
    "            victor_A, victor_B = 0, 0\n",
    "        while victor_B is 2 :\n",
    "            win_B += 1\n",
    "            victor_A, victor_B = 0, 0\n",
    "    return win_A, win_B \n",
    "\n",
    "\n",
    "def sim_one_game(prob_A, prob_B):\n",
    "    \"\"\"\n",
    "    随机模拟一场比赛的结果\n",
    "    \"\"\"\n",
    "    score_A, score_B = 0, 0\n",
    "    while not game_over(score_A, score_B):\n",
    "        if random.random() < prob_A:\n",
    "            score_A += 1\n",
    "        else:\n",
    "            score_B += 1   \n",
    "        return score_A, score_B\n",
    "    \n",
    "    \n",
    "# 结束条件\n",
    "def game_over(score_A, score_B):\n",
    "    return (score_A >= 21 or score_B >= 21) and abs(score_A - score_B) >= 2\n",
    "\n",
    "\n",
    "# 单元测试 用assert————断言进行\n",
    "# 表达式为 false 时，触发异常\n",
    "# assert game_over(21, 8) is True\n",
    "# assert game_over(9, 21) is True\n",
    "# assert game_over(11, 8) is False\n",
    "# assert game_over(21, 8) is False 会触发异常，因为应该是True\n",
    "# print(sim_one_game(0.55, 0.45))\n",
    "# print(sim_one_game(0.7, 0.3))\n",
    "# print(sim_one_game(0.2, 0.8))\n",
    "# print(sim_n_games(0.55, 0.45, 1000))\n",
    "\n",
    "\n",
    "# 结果汇总输出\n",
    "\n",
    "def print_summary(win_A, win_B, number_of_games):\n",
    "    print('共模拟了{}场比赛'.format(number_of_games))\n",
    "    print('选手A获胜{0}场，占比{1:.1%}'.format(win_A, win_A/number_of_games))\n",
    "    print('选手B获胜{0}场，占比{1:.1%}'.format(win_B, win_B/number_of_games))                                      \n",
    "    \n",
    "\n",
    "\n",
    "def main():\n",
    "    # 主要逻辑\n",
    "    prob_A, prob_B, number_of_games = get_inputs()                         # 获取原始数据\n",
    "    win_A, win_B = sim_n_games(prob_A, prob_B, number_of_games)           # 获取模拟结果         \n",
    "    print_summary(win_A, win_B, number_of_games)     # 结果汇总输出\n",
    "\n",
    "main()"
   ]
  },
  {
   "cell_type": "code",
   "execution_count": 5,
   "metadata": {},
   "outputs": [
    {
     "name": "stdout",
     "output_type": "stream",
     "text": [
      "{'八': 2, '百': 2, '标': 3, '兵': 6, '奔': 1, '北': 2, '坡': 2, '，': 2, '炮': 5, '。': 2, '怕': 2, '碰': 2, '把': 1}\n"
     ]
    }
   ],
   "source": [
    "# 绕口令频次统计，并进行排列\n",
    "\n",
    "s = '八百标兵奔北坡，北坡八百炮兵炮。标兵怕碰炮兵炮，炮兵怕把标兵碰。'\n",
    "d = {}\n",
    "for i in s:\n",
    "    d[i] = d.get(i, 0) + 1\n",
    "print(d)"
   ]
  },
  {
   "cell_type": "code",
   "execution_count": 6,
   "metadata": {},
   "outputs": [
    {
     "name": "stdout",
     "output_type": "stream",
     "text": [
      "[('兵', 6), ('炮', 5), ('标', 3), ('八', 2), ('百', 2), ('北', 2), ('坡', 2), ('，', 2), ('。', 2), ('怕', 2), ('碰', 2), ('奔', 1), ('把', 1)]\n"
     ]
    }
   ],
   "source": [
    "# lambda 函数也叫匿名函数，即没有具体名称的函数，可以快速定义单行函数，类似宏\n",
    "# lambda 函数的“一个语法，三个特性，四个用法，一个争论”\n",
    "print(sorted(d.items(), key = lambda item : item[1], reverse=True))"
   ]
  }
 ],
 "metadata": {
  "kernelspec": {
   "display_name": "Python 3",
   "language": "python",
   "name": "python3"
  },
  "language_info": {
   "codemirror_mode": {
    "name": "ipython",
    "version": 3
   },
   "file_extension": ".py",
   "mimetype": "text/x-python",
   "name": "python",
   "nbconvert_exporter": "python",
   "pygments_lexer": "ipython3",
   "version": "3.7.2"
  }
 },
 "nbformat": 4,
 "nbformat_minor": 4
}
