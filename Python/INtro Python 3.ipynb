{
 "cells": [
  {
   "cell_type": "code",
   "execution_count": 3,
   "metadata": {},
   "outputs": [],
   "source": [
    "# for loop"
   ]
  },
  {
   "cell_type": "code",
   "execution_count": 1,
   "metadata": {},
   "outputs": [
    {
     "name": "stdout",
     "output_type": "stream",
     "text": [
      "23\n",
      "41\n",
      "12\n",
      "16\n",
      "7\n",
      "Hi\n"
     ]
    }
   ],
   "source": [
    "for number in [23, 41, 12, 16, 7]:\n",
    "    print(number)\n",
    "print('Hi')"
   ]
  },
  {
   "cell_type": "code",
   "execution_count": 2,
   "metadata": {},
   "outputs": [
    {
     "name": "stdout",
     "output_type": "stream",
     "text": [
      "0 steve\n",
      "1 rachel\n",
      "2 michael\n",
      "3 adam\n",
      "4 monica\n"
     ]
    }
   ],
   "source": [
    "friends = ['steve', 'rachel', 'michael', 'adam', 'monica']\n",
    "for index, friend in enumerate(friends):\n",
    "    print(index, friend)"
   ]
  },
  {
   "cell_type": "code",
   "execution_count": 3,
   "metadata": {},
   "outputs": [],
   "source": [
    "text = 'On a dark desert highway, cool wind in my hair Warm smell of colitas, rising up through the air Up ahead in the distance, I saw a shimmering light My head grew heavy and my sight grew dim I had to stop for the night There she stood in the doorway; I heard the mission bell And I was thinking to myself, \"This could be Heaven or this could be Hell\" Then she lit up a candle and she showed me the way'"
   ]
  },
  {
   "cell_type": "code",
   "execution_count": 4,
   "metadata": {},
   "outputs": [
    {
     "name": "stdout",
     "output_type": "stream",
     "text": [
      "On a dark desert highway, cool wind in my hair Warm smell of colitas, rising up through the air Up ahead in the distance, I saw a shimmering light My head grew heavy and my sight grew dim I had to stop for the night There she stood in the doorway; I heard the mission bell And I was thinking to myself, \"This could be Heaven or this could be Hell\" Then she lit up a candle and she showed me the way\n"
     ]
    }
   ],
   "source": [
    "print(text)"
   ]
  },
  {
   "cell_type": "code",
   "execution_count": 5,
   "metadata": {},
   "outputs": [
    {
     "name": "stdout",
     "output_type": "stream",
     "text": [
      "On a dark desert highway  cool wind in my hair Warm smell of colitas  rising up through the air Up ahead in the distance  I saw a shimmering light My head grew heavy and my sight grew dim I had to stop for the night There she stood in the doorway  I heard the mission bell And I was thinking to myself   This could be Heaven or this could be Hell  Then she lit up a candle and she showed me the way\n"
     ]
    }
   ],
   "source": [
    "for char in '-.,;\\n\"\\'':\n",
    "    text = text.replace(char,' ')\n",
    "print(text)"
   ]
  },
  {
   "cell_type": "code",
   "execution_count": 6,
   "metadata": {},
   "outputs": [
    {
     "data": {
      "text/plain": [
       "['On',\n",
       " 'a',\n",
       " 'dark',\n",
       " 'desert',\n",
       " 'highway',\n",
       " '',\n",
       " 'cool',\n",
       " 'wind',\n",
       " 'in',\n",
       " 'my',\n",
       " 'hair',\n",
       " 'Warm',\n",
       " 'smell',\n",
       " 'of',\n",
       " 'colitas',\n",
       " '',\n",
       " 'rising',\n",
       " 'up',\n",
       " 'through',\n",
       " 'the']"
      ]
     },
     "execution_count": 6,
     "metadata": {},
     "output_type": "execute_result"
    }
   ],
   "source": [
    "text.split(' ')[:20]"
   ]
  },
  {
   "cell_type": "code",
   "execution_count": 7,
   "metadata": {},
   "outputs": [
    {
     "data": {
      "text/plain": [
       "0"
      ]
     },
     "execution_count": 7,
     "metadata": {},
     "output_type": "execute_result"
    }
   ],
   "source": [
    "len('')"
   ]
  },
  {
   "cell_type": "code",
   "execution_count": 8,
   "metadata": {},
   "outputs": [],
   "source": [
    "cleaned_list = []"
   ]
  },
  {
   "cell_type": "code",
   "execution_count": 9,
   "metadata": {},
   "outputs": [],
   "source": [
    "for word in text.split(' '):\n",
    "    word_length = len(word)\n",
    "    if word_length > 0:\n",
    "        cleaned_list.append(word)"
   ]
  },
  {
   "cell_type": "code",
   "execution_count": 10,
   "metadata": {},
   "outputs": [
    {
     "data": {
      "text/plain": [
       "['On',\n",
       " 'a',\n",
       " 'dark',\n",
       " 'desert',\n",
       " 'highway',\n",
       " 'cool',\n",
       " 'wind',\n",
       " 'in',\n",
       " 'my',\n",
       " 'hair',\n",
       " 'Warm',\n",
       " 'smell',\n",
       " 'of',\n",
       " 'colitas',\n",
       " 'rising',\n",
       " 'up',\n",
       " 'through',\n",
       " 'the',\n",
       " 'air',\n",
       " 'Up']"
      ]
     },
     "execution_count": 10,
     "metadata": {},
     "output_type": "execute_result"
    }
   ],
   "source": [
    "cleaned_list[:20]"
   ]
  },
  {
   "cell_type": "code",
   "execution_count": 11,
   "metadata": {},
   "outputs": [
    {
     "data": {
      "text/plain": [
       "['On',\n",
       " 'a',\n",
       " 'dark',\n",
       " 'desert',\n",
       " 'highway',\n",
       " 'cool',\n",
       " 'wind',\n",
       " 'in',\n",
       " 'my',\n",
       " 'hair',\n",
       " 'Warm',\n",
       " 'smell',\n",
       " 'of',\n",
       " 'colitas',\n",
       " 'rising',\n",
       " 'up',\n",
       " 'through',\n",
       " 'the',\n",
       " 'air',\n",
       " 'Up']"
      ]
     },
     "execution_count": 11,
     "metadata": {},
     "output_type": "execute_result"
    }
   ],
   "source": [
    "cleaned_list = []\n",
    "\n",
    "for word in text.split(' '):\n",
    "    if word is '':\n",
    "        continue\n",
    "    cleaned_list.append(word)\n",
    "cleaned_list[:20]"
   ]
  },
  {
   "cell_type": "code",
   "execution_count": 12,
   "metadata": {},
   "outputs": [],
   "source": [
    "cleaned_list = []"
   ]
  },
  {
   "cell_type": "code",
   "execution_count": 13,
   "metadata": {},
   "outputs": [
    {
     "name": "stdout",
     "output_type": "stream",
     "text": [
      "I found the word I was looking for\n"
     ]
    },
    {
     "data": {
      "text/plain": [
       "['On', 'a', 'dark']"
      ]
     },
     "execution_count": 13,
     "metadata": {},
     "output_type": "execute_result"
    }
   ],
   "source": [
    "for word in text.split(' '): \n",
    "    if word == 'desert':\n",
    "        print('I found the word I was looking for')\n",
    "        break\n",
    "    cleaned_list.append(word)\n",
    "cleaned_list"
   ]
  },
  {
   "cell_type": "code",
   "execution_count": null,
   "metadata": {},
   "outputs": [],
   "source": [
    "# Task (INtro Range by the way)"
   ]
  },
  {
   "cell_type": "code",
   "execution_count": 14,
   "metadata": {},
   "outputs": [],
   "source": [
    "even_nums = []\n",
    "odd_nums = []\n",
    "\n",
    "for num in range(1,51):\n",
    "    if num % 2 is 0:\n",
    "        even_nums.append(num)\n",
    "    else:\n",
    "        odd_nums.append(num)"
   ]
  },
  {
   "cell_type": "code",
   "execution_count": 15,
   "metadata": {},
   "outputs": [
    {
     "name": "stdout",
     "output_type": "stream",
     "text": [
      "Even Numbers:  [2, 4, 6, 8, 10, 12, 14, 16, 18, 20, 22, 24, 26, 28, 30, 32, 34, 36, 38, 40, 42, 44, 46, 48, 50]\n",
      "Odd Numbers:  [1, 3, 5, 7, 9, 11, 13, 15, 17, 19, 21, 23, 25, 27, 29, 31, 33, 35, 37, 39, 41, 43, 45, 47, 49]\n"
     ]
    }
   ],
   "source": [
    "print(\"Even Numbers: \", even_nums)\n",
    "print(\"Odd Numbers: \", odd_nums)"
   ]
  }
 ],
 "metadata": {
  "kernelspec": {
   "display_name": "Python 3",
   "language": "python",
   "name": "python3"
  },
  "language_info": {
   "codemirror_mode": {
    "name": "ipython",
    "version": 3
   },
   "file_extension": ".py",
   "mimetype": "text/x-python",
   "name": "python",
   "nbconvert_exporter": "python",
   "pygments_lexer": "ipython3",
   "version": "3.7.2"
  }
 },
 "nbformat": 4,
 "nbformat_minor": 4
}
