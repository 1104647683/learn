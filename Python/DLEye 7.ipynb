{
 "cells": [
  {
   "cell_type": "code",
   "execution_count": 1,
   "metadata": {},
   "outputs": [],
   "source": [
    "### 面对对象编程"
   ]
  },
  {
   "cell_type": "code",
   "execution_count": 2,
   "metadata": {},
   "outputs": [],
   "source": [
    "# 创建类\n",
    "class Cat():\n",
    "    \"\"\"模拟猫\"\"\"\n",
    "    \n",
    "    def __init__(self, name):\n",
    "        \"\"\"初始化属性\"\"\"\n",
    "        self.name = name\n",
    "    \n",
    "    def jump(self):\n",
    "        \"\"\"模拟猫跳跃\"\"\"\n",
    "        print(self.name + \" is jumping\")"
   ]
  },
  {
   "cell_type": "code",
   "execution_count": 3,
   "metadata": {},
   "outputs": [],
   "source": [
    "# 用类创建实例\n",
    "my_cat = Cat(\"Loser\")\n",
    "your_cat = Cat('Lucky')"
   ]
  },
  {
   "cell_type": "code",
   "execution_count": 4,
   "metadata": {},
   "outputs": [
    {
     "name": "stdout",
     "output_type": "stream",
     "text": [
      "Loser\n",
      "Lucky\n"
     ]
    }
   ],
   "source": [
    "# 调用属性\n",
    "print(my_cat.name)\n",
    "print(your_cat.name)"
   ]
  },
  {
   "cell_type": "code",
   "execution_count": 5,
   "metadata": {},
   "outputs": [
    {
     "name": "stdout",
     "output_type": "stream",
     "text": [
      "Loser is jumping\n",
      "Lucky is jumping\n"
     ]
    }
   ],
   "source": [
    "# 调用方法\n",
    "my_cat.jump()\n",
    "your_cat.jump()"
   ]
  },
  {
   "cell_type": "code",
   "execution_count": 6,
   "metadata": {},
   "outputs": [],
   "source": [
    "## 类的命名 要有实际意义；驼峰命名法，首字母大写"
   ]
  },
  {
   "cell_type": "code",
   "execution_count": 7,
   "metadata": {},
   "outputs": [
    {
     "data": {
      "text/plain": [
       "'类后空两行'"
      ]
     },
     "execution_count": 7,
     "metadata": {},
     "output_type": "execute_result"
    }
   ],
   "source": [
    "# class 类名\n",
    "\"\"\"类前空两行\"\"\"\n",
    "\n",
    "\n",
    "class Car():\n",
    "    \"\"\"对该类的简单介绍\"\"\"\n",
    "    pass\n",
    "\n",
    "\n",
    "\"\"\"类后空两行\"\"\""
   ]
  },
  {
   "cell_type": "code",
   "execution_count": 8,
   "metadata": {},
   "outputs": [],
   "source": [
    "## 类的属性\n",
    "# def __init__(self, 要传递的参数) 初始化类的属性"
   ]
  },
  {
   "cell_type": "code",
   "execution_count": 9,
   "metadata": {},
   "outputs": [],
   "source": [
    "class Car():\n",
    "    \"\"\"模拟汽车\"\"\"\n",
    "    \n",
    "    def __init__(self, brand, model, year):\n",
    "        \"\"\"初始化汽车属性\"\"\"\n",
    "        self.brand = brand\n",
    "        self.model = model\n",
    "        self.year  = year\n",
    "        self.mileage = 0"
   ]
  },
  {
   "cell_type": "code",
   "execution_count": 10,
   "metadata": {},
   "outputs": [],
   "source": [
    "## 类的方法（相对于类内部定义的函数）"
   ]
  },
  {
   "cell_type": "code",
   "execution_count": 11,
   "metadata": {},
   "outputs": [],
   "source": [
    "class Car():\n",
    "    \"\"\"模拟汽车\"\"\"\n",
    "    \n",
    "    def __init__(self, brand, model, year):\n",
    "        \"\"\"初始化汽车属性\"\"\"\n",
    "        self.brand = brand\n",
    "        self.model = model\n",
    "        self.year  = year\n",
    "        self.mileage = 0\n",
    "        \n",
    "    def get_main_information(self):\n",
    "        \"\"\"获取汽车主要信息\"\"\"\n",
    "        print(\"品牌：{}  型号：{}  出厂年份：{}\".format(self.brand, self.model, self.year))\n",
    "        \n",
    "    def get_mileage(self):\n",
    "        \"\"\"获取总里程数\"\"\"\n",
    "        return \"行车总里程：{}公里\".format(self.mileage)"
   ]
  },
  {
   "cell_type": "code",
   "execution_count": 12,
   "metadata": {},
   "outputs": [],
   "source": [
    "## 创建实例"
   ]
  },
  {
   "cell_type": "code",
   "execution_count": 13,
   "metadata": {},
   "outputs": [
    {
     "name": "stdout",
     "output_type": "stream",
     "text": [
      "Audi\n",
      "A6\n",
      "2018\n"
     ]
    }
   ],
   "source": [
    "# 实例的创建\n",
    "# 讲实例赋值给对象，实例化过程中，传入相应的参数 v = 类名（必要的初始化参数）\n",
    "\n",
    "my_new_car = Car('Audi', 'A6', 2018)\n",
    "\n",
    "# 访问属性\n",
    "\n",
    "print(my_new_car.brand)\n",
    "print(my_new_car.model)\n",
    "print(my_new_car.year)"
   ]
  },
  {
   "cell_type": "code",
   "execution_count": 14,
   "metadata": {},
   "outputs": [
    {
     "name": "stdout",
     "output_type": "stream",
     "text": [
      "品牌：Audi  型号：A6  出厂年份：2018\n",
      "行车总里程：0公里\n"
     ]
    }
   ],
   "source": [
    "# 调用方法\n",
    "my_new_car.get_main_information()\n",
    "mileage = my_new_car.get_mileage()\n",
    "print(mileage)"
   ]
  },
  {
   "cell_type": "code",
   "execution_count": 15,
   "metadata": {},
   "outputs": [],
   "source": [
    "## 修改属性"
   ]
  },
  {
   "cell_type": "code",
   "execution_count": 16,
   "metadata": {},
   "outputs": [],
   "source": [
    "# 直接修改\n",
    "my_old_car = Car('BYD', '宋', 2016)"
   ]
  },
  {
   "cell_type": "code",
   "execution_count": 17,
   "metadata": {},
   "outputs": [
    {
     "name": "stdout",
     "output_type": "stream",
     "text": [
      "行车总里程：12999公里\n",
      "行车总里程：0公里\n"
     ]
    }
   ],
   "source": [
    "# 先访问，后修改\n",
    "my_old_car.mileage = 12999\n",
    "print(my_old_car.get_mileage())\n",
    "print(my_new_car.get_mileage())"
   ]
  },
  {
   "cell_type": "code",
   "execution_count": 18,
   "metadata": {},
   "outputs": [],
   "source": [
    "# 通过方法修改属性\n",
    "class Car():\n",
    "    \"\"\"模拟汽车\"\"\"\n",
    "    \n",
    "    def __init__(self, brand, model, year):\n",
    "        \"\"\"初始化汽车属性\"\"\"\n",
    "        self.brand = brand\n",
    "        self.model = model\n",
    "        self.year  = year\n",
    "        self.mileage = 0\n",
    "        \n",
    "    def get_main_information(self):\n",
    "        \"\"\"获取汽车主要信息\"\"\"\n",
    "        print(\"品牌：{}  型号：{}  出厂年份：{}\".format(self.brand, self.model, self.year))\n",
    "        \n",
    "    def get_mileage(self):\n",
    "        \"\"\"获取总里程数\"\"\"\n",
    "        return \"行车总里程：{}公里\".format(self.mileage)\n",
    "    \n",
    "    def set_mileage(self, distance):\n",
    "        \"\"\"设置总里程数\"\"\"\n",
    "        self.mileage = distance"
   ]
  },
  {
   "cell_type": "code",
   "execution_count": 19,
   "metadata": {},
   "outputs": [
    {
     "name": "stdout",
     "output_type": "stream",
     "text": [
      "行车总里程：0公里\n",
      "行车总里程：8000公里\n"
     ]
    }
   ],
   "source": [
    "my_old_car = Car('BYD', '宋', 2016)\n",
    "print(my_old_car.get_mileage())\n",
    "my_old_car.set_mileage(8000)\n",
    "print(my_old_car.get_mileage())"
   ]
  },
  {
   "cell_type": "code",
   "execution_count": 1,
   "metadata": {},
   "outputs": [],
   "source": [
    "# 通过方法修改属性，定义的时候别忘了self\n",
    "class Car():\n",
    "    \"\"\"模拟汽车\"\"\"\n",
    "    \n",
    "    def __init__(self, brand, model, year):\n",
    "        \"\"\"初始化汽车属性\"\"\"\n",
    "        self.brand = brand\n",
    "        self.model = model\n",
    "        self.year  = year\n",
    "        self.mileage = 0\n",
    "        \n",
    "    def get_main_information(self):\n",
    "        \"\"\"获取汽车主要信息\"\"\"\n",
    "        print(\"品牌：{}  型号：{}  出厂年份：{}\".format(self.brand, self.model, self.year))\n",
    "        \n",
    "    def get_mileage(self):\n",
    "        \"\"\"获取总里程数\"\"\"\n",
    "        return \"行车总里程：{}公里\".format(self.mileage)\n",
    "    \n",
    "    def set_mileage(self, distance):\n",
    "        \"\"\"设置总里程数\"\"\"\n",
    "        if distance >= 0:\n",
    "            self.mileage = distance\n",
    "        else:\n",
    "            print('里程数不能为负！！！')\n",
    "            \n",
    "    def increment_mileage(self, distance):\n",
    "        \"\"\"总里程数累计\"\"\"\n",
    "        if distance > 0:\n",
    "            self.mileage += distance\n",
    "        else:\n",
    "            print('新增里程数不能为负！！！')"
   ]
  },
  {
   "cell_type": "code",
   "execution_count": 21,
   "metadata": {},
   "outputs": [],
   "source": [
    "## 类的继承\n",
    "# 先提取公共特征，然后继承添加少数特征"
   ]
  },
  {
   "cell_type": "code",
   "execution_count": 22,
   "metadata": {},
   "outputs": [],
   "source": [
    "# 简单的继承\n",
    "# 父类\n",
    "# 子类：class 子类（父类）"
   ]
  },
  {
   "cell_type": "code",
   "execution_count": 23,
   "metadata": {},
   "outputs": [],
   "source": [
    "class ElectricCar(Car):\n",
    "    \"\"\"模拟电动车\"\"\"\n",
    "    \n",
    "    def __init__(self, brand, model, year):\n",
    "        \"\"\"初始化电动汽车属性\"\"\"\n",
    "        super().__init__(brand, model, year) # 声明继承父类的属性"
   ]
  },
  {
   "cell_type": "code",
   "execution_count": 24,
   "metadata": {},
   "outputs": [
    {
     "name": "stdout",
     "output_type": "stream",
     "text": [
      "品牌：FF91  型号：Tomorrow  出厂年份：2048\n"
     ]
    }
   ],
   "source": [
    "# 自动继承所有父类属性方法\n",
    "my_electric_car = ElectricCar('FF91', 'Tomorrow', 2048)\n",
    "my_electric_car.get_main_information()"
   ]
  },
  {
   "cell_type": "code",
   "execution_count": 25,
   "metadata": {},
   "outputs": [],
   "source": [
    "class ElectricCar(Car):\n",
    "    \"\"\"模拟电动汽车\"\"\"\n",
    "    \n",
    "    def __init__(self, brand, model, year, battery_size):\n",
    "        \"\"\"初始化电动汽车属性\"\"\"\n",
    "        super().__init__(brand, model, year)    # 声明继承父类的属性\n",
    "        self.battery_size = battery_size        # 电池容量\n",
    "        self.electric_quantity = battery_size   # 电池剩余电量\n",
    "        self.electric2distance_ratio = 5        # 电量距离换算系数 5km/(kW·h)\n",
    "        self.remainder_range = self.electric_quantity*self.electric2distance_ratio   # 剩余可行驶里程\n",
    "    \n",
    "    def get_electric_quantit(self):\n",
    "        \"\"\"查看当前电池电量\"\"\"\n",
    "        print('当前电池剩余电量：{} kW·h'.format(self.electric_quantity))\n",
    "        \n",
    "    def set_electric_quantity(self, electric_quantity):\n",
    "        \"\"\"设置电池剩余电量，重新计算电量可支撑行驶里程\"\"\"\n",
    "        if electric_quantity >= 0 and electric_quantity <= self.battery_size:\n",
    "            self.electric_quantity = electric_quantity\n",
    "            self.remainder_range  =  self.electric_quantity*self.electric2distance_ratio\n",
    "        else:\n",
    "            print('电量未设置在合理范围！！！')\n",
    "            \n",
    "    def get_remainder_range(self):\n",
    "        \"\"\"查看剩余可行驶里程\"\"\"\n",
    "        print('当前电量还可以继续行驶 {} 公里'.format(self.remainder_range))"
   ]
  },
  {
   "cell_type": "code",
   "execution_count": 26,
   "metadata": {},
   "outputs": [
    {
     "name": "stdout",
     "output_type": "stream",
     "text": [
      "当前电池剩余电量：70 kW·h\n",
      "当前电量还可以继续行驶 350 公里\n"
     ]
    }
   ],
   "source": [
    "my_electric_car = ElectricCar('NextWeek', 'FF91', 2046, 70)\n",
    "my_electric_car.get_electric_quantit()        # 获取当前电池容量\n",
    "my_electric_car.get_remainder_range()        # 获取剩余行驶距离"
   ]
  },
  {
   "cell_type": "code",
   "execution_count": 27,
   "metadata": {},
   "outputs": [
    {
     "name": "stdout",
     "output_type": "stream",
     "text": [
      "当前电池剩余电量：50 kW·h\n",
      "当前电量还可以继续行驶 250 公里\n"
     ]
    }
   ],
   "source": [
    "my_electric_car.set_electric_quantity(50)      # 重设电池电量\n",
    "my_electric_car.get_electric_quantit()        # 获取当前电池容量\n",
    "my_electric_car.get_remainder_range()        # 获取剩余行驶距离"
   ]
  },
  {
   "cell_type": "code",
   "execution_count": 3,
   "metadata": {},
   "outputs": [],
   "source": [
    "# 重写父类的方法————多态\n",
    "\n",
    "class ElectricCar(Car):\n",
    "    \"\"\"模拟电动汽车\"\"\"\n",
    "    \n",
    "    def __init__(self, brand, model, year, battery_size):\n",
    "        \"\"\"初始化电动汽车属性\"\"\"\n",
    "        super().__init__(brand, model, year)    # 声明继承父类的属性\n",
    "        self.battery_size = battery_size        # 电池容量\n",
    "        self.electric_quantity = battery_size   # 电池剩余电量\n",
    "        self.electric2distance_ratio = 5        # 电量距离换算系数 5km/(kW·h)\n",
    "        self.remainder_range = self.electric_quantity*self.electric2distance_ratio   # 剩余可行驶里程\n",
    "    \n",
    "    def get_main_information(self):           # 重写父类方法\n",
    "        \"\"\"获取汽车主要信息\"\"\"\n",
    "        print('品牌：{}  型号：{}  出场年份：{}  续航里程：{} 公里'\n",
    "              .format(self.brand, self.model, self.year, self.battery_size*self.electric2distance_ratio))\n",
    "    \n",
    "    def get_electric_quantit(self):\n",
    "        \"\"\"查看当前电池电量\"\"\"\n",
    "        print('当前电池剩余电量：{} kW·h'.format(self.electric_quantity))\n",
    "        \n",
    "    def set_electric_quantity(self, electric_quantity):\n",
    "        \"\"\"设置电池剩余电量，重新计算电量可支撑行驶里程\"\"\"\n",
    "        if electric_quantity >= 0 and electric_quantity <= self.battery_size:\n",
    "            self.electric_quantity = electric_quantity\n",
    "            self.remainder_range  =  self.electric_quantity*self.electric2distance_ratio\n",
    "        else:\n",
    "            print('电量未设置在合理范围！！！')\n",
    "            \n",
    "    def get_remainder_range(self):\n",
    "        \"\"\"查看剩余可行驶里程\"\"\"\n",
    "        print('当前电量还可以继续行驶 {} 公里'.format(self.remainder_range))"
   ]
  },
  {
   "cell_type": "code",
   "execution_count": 2,
   "metadata": {},
   "outputs": [],
   "source": [
    "# 用在类中的实例\n",
    "# 把电池抽象成一个对象，逻辑会更加清晰\n",
    "\n",
    "class Battery():\n",
    "    \"\"\"模拟电动汽车的电池\"\"\"\n",
    "    \n",
    "    def __init__(self,battery_size = 70):\n",
    "        self.battery_size = battery_size        # 电池容量\n",
    "        self.electric_quantity = battery_size   # 电池剩余电量\n",
    "        self.electric2distance_ratio = 5        # 电量距离换算系数 5km/(kW·h)\n",
    "        self.remainder_range = self.electric_quantity*self.electric2distance_ratio   # 剩余可行驶里程\n",
    "    \n",
    "    def get_electric_quantit(self):\n",
    "        \"\"\"查看当前电池电量\"\"\"\n",
    "        print('当前电池剩余电量：{} kW·h'.format(self.electric_quantity))\n",
    "        \n",
    "    def set_electric_quantity(self, electric_quantity):\n",
    "        \"\"\"设置电池剩余电量，重新计算电量可支撑行驶里程\"\"\"\n",
    "        if electric_quantity >= 0 and electric_quantity <= self.battery_size:\n",
    "            self.electric_quantity = electric_quantity\n",
    "            self.remainder_range  =  self.electric_quantity*self.electric2distance_ratio\n",
    "        else:\n",
    "            print('电量未设置在合理范围！！！')\n",
    "            \n",
    "    def get_remainder_range(self):\n",
    "        \"\"\"查看剩余可行驶里程\"\"\"\n",
    "        print('当前电量还可以继续行驶 {} 公里'.format(self.remainder_range))"
   ]
  },
  {
   "cell_type": "code",
   "execution_count": 5,
   "metadata": {},
   "outputs": [],
   "source": [
    "class ElectricCar(Car):\n",
    "    \"\"\"模拟电动汽车\"\"\"\n",
    "    \n",
    "    def __init__(self, brand, model, year, battery_size):\n",
    "        \"\"\"初始化电动汽车属性\"\"\"\n",
    "        super().__init__(brand, model, year)\n",
    "        self.battery = Battery(battery_size)\n",
    "        \n",
    "    def get_main_information(self):        # 重写父类方法\n",
    "        \"\"\"获取汽车主要信息\"\"\"\n",
    "        print('品牌：{}  型号：{}  出场年份：{}  续航里程：{} 公里'\n",
    "              .format(self.brand, self.model, self.year,\n",
    "                  self.battery.battery_size*self.battery.electric2distance_ratio))\n",
    "    "
   ]
  },
  {
   "cell_type": "code",
   "execution_count": 7,
   "metadata": {},
   "outputs": [
    {
     "name": "stdout",
     "output_type": "stream",
     "text": [
      "品牌：NextWeek  型号：FF91  出场年份：2046  续航里程：350 公里\n",
      "当前电池剩余电量：70 kW·h\n",
      "当前电池剩余电量：50 kW·h\n",
      "当前电量还可以继续行驶 250 公里\n"
     ]
    }
   ],
   "source": [
    "my_electric_car = ElectricCar('NextWeek', 'FF91', 2046, 70)\n",
    "my_electric_car.get_main_information()\n",
    "my_electric_car.battery.get_electric_quantit()\n",
    "my_electric_car.battery.set_electric_quantity(50)\n",
    "my_electric_car.battery.get_electric_quantit()\n",
    "my_electric_car.battery.get_remainder_range()"
   ]
  },
  {
   "cell_type": "code",
   "execution_count": 8,
   "metadata": {},
   "outputs": [],
   "source": [
    "### 题目"
   ]
  },
  {
   "cell_type": "code",
   "execution_count": 13,
   "metadata": {},
   "outputs": [
    {
     "name": "stdout",
     "output_type": "stream",
     "text": [
      "name: Tony\n",
      "amount: 10000\n",
      "current_amount: 5000\n",
      "single_limit: 1000\n",
      "\n",
      "您的消费额度修改为 20000 元\n",
      "您的单次刷卡金额上限修改为 5000 元\n",
      "您本次消费 2000 元，剩余额度为 3000 元\n",
      "您的余额不足！！！\n"
     ]
    }
   ],
   "source": [
    "## 银联信用卡\n",
    "\n",
    "class UnionPayCreditCard():\n",
    "    \"\"\"构造一个银联信用卡的类\"\"\"\n",
    "    \n",
    "    def __init__(self, name, amount, current_amount, single_limit):\n",
    "        \"\"\"\n",
    "        顾客姓名\n",
    "        信用卡授信额度\n",
    "        当前额度\n",
    "        单次刷卡金额上限\n",
    "        \"\"\"\n",
    "        self.name = name\n",
    "        self.amount = amount\n",
    "        self.current_amount = current_amount\n",
    "        self.single_limit = single_limit\n",
    "        \n",
    "        \n",
    "    \"\"\"获得相关信息\"\"\"\n",
    "    def get_name(self):\n",
    "        return self.name\n",
    "    \n",
    "    \n",
    "    def get_amount(self):\n",
    "        return self.amount\n",
    "    \n",
    "    \n",
    "    def get_current_amount(self):\n",
    "        return self.current_amount\n",
    "    \n",
    "    \n",
    "    def get_single_limit(self):\n",
    "        return self.single_limit\n",
    "    \n",
    "    \n",
    "    def modify_amount(self, new_amount):\n",
    "        \"\"\"修改授信额度\"\"\"\n",
    "        tmp = self.amount\n",
    "        self.amount = new_amount\n",
    "        print('您的消费额度修改为 {} 元'.format(self.amount))\n",
    "        return tmp\n",
    "    \n",
    "    \n",
    "    def modify_single_limit(self, new_single_limit):\n",
    "        \"\"\"修改单次刷卡金额上限\"\"\"\n",
    "        tmp = self.single_limit\n",
    "        self.single_limit = new_single_limit\n",
    "        print('您的单次刷卡金额上限修改为 {} 元'.format(self.single_limit))\n",
    "        return tmp\n",
    "    \n",
    "    def consume(self, cost):\n",
    "        \"\"\"刷卡\"\"\"\n",
    "        if cost <= self.single_limit and cost <= self.current_amount:\n",
    "            self.current_amount -= cost\n",
    "            print('您本次消费 {} 元，剩余额度为 {} 元'.format(cost, self.current_amount))\n",
    "        else:\n",
    "            print('您的余额不足！！！')\n",
    "        return self.current_amount\n",
    "    \n",
    "\n",
    "def start():\n",
    "    card = UnionPayCreditCard('Tony', 10000, 5000, 1000)\n",
    "    \n",
    "    print('name: {}\\namount: {}\\ncurrent_amount: {}\\nsingle_limit: {}\\n'\n",
    "          .format(card.name, card.amount, card.current_amount, card.single_limit))\n",
    "    \n",
    "    card.modify_amount(20000)\n",
    "    card.modify_single_limit(5000)\n",
    "    card.consume(2000)\n",
    "    card.consume(100000)\n",
    "    \n",
    "\n",
    "if __name__ is '__main__':\n",
    "    start()"
   ]
  },
  {
   "cell_type": "code",
   "execution_count": 14,
   "metadata": {},
   "outputs": [],
   "source": [
    "## 通过银联卡构造中国银行的信用卡（类的继承）"
   ]
  },
  {
   "cell_type": "code",
   "execution_count": 20,
   "metadata": {},
   "outputs": [
    {
     "name": "stdout",
     "output_type": "stream",
     "text": [
      "name: Tom\n",
      "amount: 10000\n",
      "current_amount: 5000\n",
      "single_limit: 1000\n",
      "integral: 0\n",
      "您的消费额度修改为 20000 元\n",
      "您的单次刷卡金额上限修改为 5000 元\n",
      "尊敬的中国银行信用卡用户，因为您在 ONEPLUS旗舰店 消费,享有95折优惠，您本次实际消费 1900.0 元，剩余额度为 3100.0 元，获得积分 200，现有积分 200。\n"
     ]
    }
   ],
   "source": [
    "class BankOfChinaCreditCard(UnionPayCreditCard):\n",
    "    \n",
    "    def __init__(self, name, amount, current_amount, single_limit):\n",
    "        super().__init__(name, amount, current_amount, single_limit)\n",
    "        self.integral = 0\n",
    "        self.discount_shop = ['HUWEI旗舰店', 'ONEPLUS旗舰店', 'APPLE旗舰店']\n",
    "        \n",
    "    \n",
    "    def consume(self, shop_name, cost):\n",
    "        \"\"\"重写刷卡方法\"\"\"\n",
    "        if shop_name in self.discount_shop and cost <= self.single_limit and cost <= self.current_amount:\n",
    "            self.current_amount -= cost*0.95\n",
    "            print('尊敬的中国银行信用卡用户，因为您在 {} 消费,享有95折优惠，您本次实际消费 {} 元，剩余额度为 {} 元，获得积分 {}，现有积分 {}。'.format(shop_name, cost*0.95, self.current_amount, cost // 10, cost // 10+ self.integral))\n",
    "    \n",
    "    \n",
    "    def get_integral(self):\n",
    "        print('您的积分为 {}'.format(self.integral))\n",
    "        return self.integral\n",
    "    \n",
    "    \n",
    "    def set_discount_shop(self, shop_name):\n",
    "        self.discount_shop.append(shop_name)\n",
    "        return self.discount_shop\n",
    "    \n",
    "    \n",
    "def start():\n",
    "    card = BankOfChinaCreditCard('Tom', 10000, 5000, 1000)\n",
    "    \n",
    "    print('name: {}\\namount: {}\\ncurrent_amount: {}\\nsingle_limit: {}\\nintegral: {}'\n",
    "          .format(card.name, card.amount, card.current_amount, card.single_limit, card.integral))\n",
    "    \n",
    "    card.modify_amount(20000)\n",
    "    card.modify_single_limit(5000)\n",
    "    card.consume('ONEPLUS旗舰店', 2000)\n",
    "    card.consume('HUAWEI旗舰店', 100000)\n",
    "    \n",
    "if __name__ is '__main__':\n",
    "    start()"
   ]
  }
 ],
 "metadata": {
  "kernelspec": {
   "display_name": "Python 3",
   "language": "python",
   "name": "python3"
  },
  "language_info": {
   "codemirror_mode": {
    "name": "ipython",
    "version": 3
   },
   "file_extension": ".py",
   "mimetype": "text/x-python",
   "name": "python",
   "nbconvert_exporter": "python",
   "pygments_lexer": "ipython3",
   "version": "3.7.2"
  }
 },
 "nbformat": 4,
 "nbformat_minor": 4
}
